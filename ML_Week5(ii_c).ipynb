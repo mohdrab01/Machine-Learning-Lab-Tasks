{
  "nbformat": 4,
  "nbformat_minor": 0,
  "metadata": {
    "colab": {
      "name": "ML-Week5(ii-c).ipynb",
      "provenance": [],
      "collapsed_sections": [],
      "authorship_tag": "ABX9TyNOy81iuPG4qO/RJOb6Qxdr",
      "include_colab_link": true
    },
    "kernelspec": {
      "name": "python3",
      "display_name": "Python 3"
    },
    "language_info": {
      "name": "python"
    }
  },
  "cells": [
    {
      "cell_type": "markdown",
      "metadata": {
        "id": "view-in-github",
        "colab_type": "text"
      },
      "source": [
        "<a href=\"https://colab.research.google.com/github/mohdrab01/Machine-Learning-Lab-Tasks/blob/main/ML_Week5(ii_c).ipynb\" target=\"_parent\"><img src=\"https://colab.research.google.com/assets/colab-badge.svg\" alt=\"Open In Colab\"/></a>"
      ]
    },
    {
      "cell_type": "markdown",
      "metadata": {
        "id": "PEHhecZ8R3L8"
      },
      "source": [
        "## ML - Week 5(ii-c) - 03-05-2021\n",
        "# 18071A0591\n",
        "\n",
        "---\n"
      ]
    },
    {
      "cell_type": "markdown",
      "metadata": {
        "id": "PlNHCCgAXtZT"
      },
      "source": [
        "\n",
        "\n",
        "---\n",
        "\n",
        "\n",
        "## II. Exemplify KNN (c) Fruits Dataset\n",
        "\n",
        "\n",
        "---"
      ]
    },
    {
      "cell_type": "code",
      "metadata": {
        "id": "b8U27uu6ZWgH"
      },
      "source": [
        "import pandas as pd\n",
        "import numpy as np\n",
        "%matplotlib inline\n",
        "import matplotlib.pyplot as plt"
      ],
      "execution_count": null,
      "outputs": []
    },
    {
      "cell_type": "code",
      "metadata": {
        "colab": {
          "base_uri": "https://localhost:8080/"
        },
        "id": "LKhAPXhHghId",
        "outputId": "172c7a90-ce9f-4e32-b10d-4e26932f83c0"
      },
      "source": [
        "!wget https://raw.githubusercontent.com/syash5/fruit-prediction-using-knn/master/fruit_data_with_colors.txt"
      ],
      "execution_count": null,
      "outputs": [
        {
          "output_type": "stream",
          "text": [
            "--2021-05-03 09:28:49--  https://raw.githubusercontent.com/syash5/fruit-prediction-using-knn/master/fruit_data_with_colors.txt\n",
            "Resolving raw.githubusercontent.com (raw.githubusercontent.com)... 185.199.108.133, 185.199.110.133, 185.199.109.133, ...\n",
            "Connecting to raw.githubusercontent.com (raw.githubusercontent.com)|185.199.108.133|:443... connected.\n",
            "HTTP request sent, awaiting response... 200 OK\n",
            "Length: 2368 (2.3K) [text/plain]\n",
            "Saving to: ‘fruit_data_with_colors.txt’\n",
            "\n",
            "\r          fruit_dat   0%[                    ]       0  --.-KB/s               \rfruit_data_with_col 100%[===================>]   2.31K  --.-KB/s    in 0s      \n",
            "\n",
            "2021-05-03 09:28:49 (44.9 MB/s) - ‘fruit_data_with_colors.txt’ saved [2368/2368]\n",
            "\n"
          ],
          "name": "stdout"
        }
      ]
    },
    {
      "cell_type": "code",
      "metadata": {
        "id": "gEMGo6LKjytd"
      },
      "source": [
        "fruits = pd.read_table('fruit_data_with_colors.txt')"
      ],
      "execution_count": null,
      "outputs": []
    },
    {
      "cell_type": "code",
      "metadata": {
        "colab": {
          "base_uri": "https://localhost:8080/"
        },
        "id": "C-JfAs-CkQMj",
        "outputId": "fdc2dffe-cddb-4434-c505-860897b41c56"
      },
      "source": [
        "type(fruits)"
      ],
      "execution_count": null,
      "outputs": [
        {
          "output_type": "execute_result",
          "data": {
            "text/plain": [
              "pandas.core.frame.DataFrame"
            ]
          },
          "metadata": {
            "tags": []
          },
          "execution_count": 5
        }
      ]
    },
    {
      "cell_type": "code",
      "metadata": {
        "colab": {
          "base_uri": "https://localhost:8080/",
          "height": 198
        },
        "id": "hvcdNGMvkSyj",
        "outputId": "14865ecb-61eb-4362-80b8-12c5a60fe983"
      },
      "source": [
        "fruits.head()"
      ],
      "execution_count": null,
      "outputs": [
        {
          "output_type": "execute_result",
          "data": {
            "text/html": [
              "<div>\n",
              "<style scoped>\n",
              "    .dataframe tbody tr th:only-of-type {\n",
              "        vertical-align: middle;\n",
              "    }\n",
              "\n",
              "    .dataframe tbody tr th {\n",
              "        vertical-align: top;\n",
              "    }\n",
              "\n",
              "    .dataframe thead th {\n",
              "        text-align: right;\n",
              "    }\n",
              "</style>\n",
              "<table border=\"1\" class=\"dataframe\">\n",
              "  <thead>\n",
              "    <tr style=\"text-align: right;\">\n",
              "      <th></th>\n",
              "      <th>fruit_label</th>\n",
              "      <th>fruit_name</th>\n",
              "      <th>fruit_subtype</th>\n",
              "      <th>mass</th>\n",
              "      <th>width</th>\n",
              "      <th>height</th>\n",
              "      <th>color_score</th>\n",
              "    </tr>\n",
              "  </thead>\n",
              "  <tbody>\n",
              "    <tr>\n",
              "      <th>0</th>\n",
              "      <td>1</td>\n",
              "      <td>apple</td>\n",
              "      <td>granny_smith</td>\n",
              "      <td>192</td>\n",
              "      <td>8.4</td>\n",
              "      <td>7.3</td>\n",
              "      <td>0.55</td>\n",
              "    </tr>\n",
              "    <tr>\n",
              "      <th>1</th>\n",
              "      <td>1</td>\n",
              "      <td>apple</td>\n",
              "      <td>granny_smith</td>\n",
              "      <td>180</td>\n",
              "      <td>8.0</td>\n",
              "      <td>6.8</td>\n",
              "      <td>0.59</td>\n",
              "    </tr>\n",
              "    <tr>\n",
              "      <th>2</th>\n",
              "      <td>1</td>\n",
              "      <td>apple</td>\n",
              "      <td>granny_smith</td>\n",
              "      <td>176</td>\n",
              "      <td>7.4</td>\n",
              "      <td>7.2</td>\n",
              "      <td>0.60</td>\n",
              "    </tr>\n",
              "    <tr>\n",
              "      <th>3</th>\n",
              "      <td>2</td>\n",
              "      <td>mandarin</td>\n",
              "      <td>mandarin</td>\n",
              "      <td>86</td>\n",
              "      <td>6.2</td>\n",
              "      <td>4.7</td>\n",
              "      <td>0.80</td>\n",
              "    </tr>\n",
              "    <tr>\n",
              "      <th>4</th>\n",
              "      <td>2</td>\n",
              "      <td>mandarin</td>\n",
              "      <td>mandarin</td>\n",
              "      <td>84</td>\n",
              "      <td>6.0</td>\n",
              "      <td>4.6</td>\n",
              "      <td>0.79</td>\n",
              "    </tr>\n",
              "  </tbody>\n",
              "</table>\n",
              "</div>"
            ],
            "text/plain": [
              "   fruit_label fruit_name fruit_subtype  mass  width  height  color_score\n",
              "0            1      apple  granny_smith   192    8.4     7.3         0.55\n",
              "1            1      apple  granny_smith   180    8.0     6.8         0.59\n",
              "2            1      apple  granny_smith   176    7.4     7.2         0.60\n",
              "3            2   mandarin      mandarin    86    6.2     4.7         0.80\n",
              "4            2   mandarin      mandarin    84    6.0     4.6         0.79"
            ]
          },
          "metadata": {
            "tags": []
          },
          "execution_count": 6
        }
      ]
    },
    {
      "cell_type": "code",
      "metadata": {
        "colab": {
          "base_uri": "https://localhost:8080/"
        },
        "id": "sUtXAedGkWZT",
        "outputId": "2a9a58b5-f7d9-48ae-d68c-592a444a9382"
      },
      "source": [
        "fruits.info()"
      ],
      "execution_count": null,
      "outputs": [
        {
          "output_type": "stream",
          "text": [
            "<class 'pandas.core.frame.DataFrame'>\n",
            "RangeIndex: 59 entries, 0 to 58\n",
            "Data columns (total 7 columns):\n",
            " #   Column         Non-Null Count  Dtype  \n",
            "---  ------         --------------  -----  \n",
            " 0   fruit_label    59 non-null     int64  \n",
            " 1   fruit_name     59 non-null     object \n",
            " 2   fruit_subtype  59 non-null     object \n",
            " 3   mass           59 non-null     int64  \n",
            " 4   width          59 non-null     float64\n",
            " 5   height         59 non-null     float64\n",
            " 6   color_score    59 non-null     float64\n",
            "dtypes: float64(3), int64(2), object(2)\n",
            "memory usage: 3.4+ KB\n"
          ],
          "name": "stdout"
        }
      ]
    },
    {
      "cell_type": "code",
      "metadata": {
        "colab": {
          "base_uri": "https://localhost:8080/"
        },
        "id": "AGTF_uSgkZK9",
        "outputId": "0e2e1486-800c-437d-8848-dd2ac1154eaf"
      },
      "source": [
        "fruits.isna().sum()"
      ],
      "execution_count": null,
      "outputs": [
        {
          "output_type": "execute_result",
          "data": {
            "text/plain": [
              "fruit_label      0\n",
              "fruit_name       0\n",
              "fruit_subtype    0\n",
              "mass             0\n",
              "width            0\n",
              "height           0\n",
              "color_score      0\n",
              "dtype: int64"
            ]
          },
          "metadata": {
            "tags": []
          },
          "execution_count": 8
        }
      ]
    },
    {
      "cell_type": "code",
      "metadata": {
        "colab": {
          "base_uri": "https://localhost:8080/"
        },
        "id": "rD6nnUqvkc_L",
        "outputId": "f44bb67f-1085-41ac-cb92-385c4e76c78f"
      },
      "source": [
        "fruits.shape"
      ],
      "execution_count": null,
      "outputs": [
        {
          "output_type": "execute_result",
          "data": {
            "text/plain": [
              "(59, 7)"
            ]
          },
          "metadata": {
            "tags": []
          },
          "execution_count": 9
        }
      ]
    },
    {
      "cell_type": "code",
      "metadata": {
        "colab": {
          "base_uri": "https://localhost:8080/"
        },
        "id": "c1P7sDrzkp6L",
        "outputId": "73b7588e-e0b4-4c23-ec1c-6c981f0d27a6"
      },
      "source": [
        "fruits.fruit_name.unique()"
      ],
      "execution_count": null,
      "outputs": [
        {
          "output_type": "execute_result",
          "data": {
            "text/plain": [
              "array(['apple', 'mandarin', 'orange', 'lemon'], dtype=object)"
            ]
          },
          "metadata": {
            "tags": []
          },
          "execution_count": 11
        }
      ]
    },
    {
      "cell_type": "code",
      "metadata": {
        "colab": {
          "base_uri": "https://localhost:8080/"
        },
        "id": "H_6W2xZRkwwF",
        "outputId": "99265889-9b78-42d3-a281-4c1b769df9aa"
      },
      "source": [
        "fruits.columns"
      ],
      "execution_count": null,
      "outputs": [
        {
          "output_type": "execute_result",
          "data": {
            "text/plain": [
              "Index(['fruit_label', 'fruit_name', 'fruit_subtype', 'mass', 'width', 'height',\n",
              "       'color_score'],\n",
              "      dtype='object')"
            ]
          },
          "metadata": {
            "tags": []
          },
          "execution_count": 12
        }
      ]
    },
    {
      "cell_type": "code",
      "metadata": {
        "id": "2_P9AbJNk0ms"
      },
      "source": [
        "x = fruits[['mass', 'width','height','color_score']]\n",
        "y = fruits['fruit_label']"
      ],
      "execution_count": null,
      "outputs": []
    },
    {
      "cell_type": "code",
      "metadata": {
        "id": "L3n8sjYWk56t"
      },
      "source": [
        "import seaborn as sns"
      ],
      "execution_count": null,
      "outputs": []
    },
    {
      "cell_type": "code",
      "metadata": {
        "colab": {
          "base_uri": "https://localhost:8080/",
          "height": 288
        },
        "id": "ts3yc865lAos",
        "outputId": "0716fbcf-a674-45d9-d848-77985c4e5ea6"
      },
      "source": [
        "sns.heatmap(fruits.corr())"
      ],
      "execution_count": null,
      "outputs": [
        {
          "output_type": "execute_result",
          "data": {
            "text/plain": [
              "<matplotlib.axes._subplots.AxesSubplot at 0x7f6d47099310>"
            ]
          },
          "metadata": {
            "tags": []
          },
          "execution_count": 15
        },
        {
          "output_type": "display_data",
          "data": {
            "image/png": "[encoded data removed]",
            "text/plain": [
              "<Figure size 432x288 with 2 Axes>"
            ]
          },
          "metadata": {
            "tags": [],
            "needs_background": "light"
          }
        }
      ]
    },
    {
      "cell_type": "code",
      "metadata": {
        "colab": {
          "base_uri": "https://localhost:8080/",
          "height": 220
        },
        "id": "ftL26WgKlEa8",
        "outputId": "66d86698-aab7-4f67-b99a-e18e38897b76"
      },
      "source": [
        "plt.figure(figsize=(25,7))\n",
        "sns.countplot(x='fruit_label',hue=\"fruit_name\",data=fruits,palette='Set1')"
      ],
      "execution_count": null,
      "outputs": [
        {
          "output_type": "execute_result",
          "data": {
            "text/plain": [
              "<matplotlib.axes._subplots.AxesSubplot at 0x7f6d3cf78c10>"
            ]
          },
          "metadata": {
            "tags": []
          },
          "execution_count": 21
        },
        {
          "output_type": "display_data",
          "data": {
            "image/png": "[encoded data removed]",
            "text/plain": [
              "<Figure size 1800x504 with 1 Axes>"
            ]
          },
          "metadata": {
            "tags": [],
            "needs_background": "light"
          }
        }
      ]
    },
    {
      "cell_type": "code",
      "metadata": {
        "id": "BH8SPQIxlgoM"
      },
      "source": [
        "from sklearn.model_selection import train_test_split\n",
        "x_train,x_test,y_train,y_test = train_test_split(x,y,test_size=0.2,random_state=4)"
      ],
      "execution_count": null,
      "outputs": []
    },
    {
      "cell_type": "code",
      "metadata": {
        "colab": {
          "base_uri": "https://localhost:8080/"
        },
        "id": "tu4595lellWs",
        "outputId": "66cddb89-86a2-4c5e-86d7-1e2ca6d5f575"
      },
      "source": [
        "print(x_train.shape)\n",
        "print(x_test.shape)\n",
        "print(y_train.shape)\n",
        "print(y_test.shape)"
      ],
      "execution_count": null,
      "outputs": [
        {
          "output_type": "stream",
          "text": [
            "(47, 4)\n",
            "(12, 4)\n",
            "(47,)\n",
            "(12,)\n"
          ],
          "name": "stdout"
        }
      ]
    },
    {
      "cell_type": "code",
      "metadata": {
        "id": "fOhTFH5clnor"
      },
      "source": [
        "from sklearn.neighbors import KNeighborsClassifier\n",
        "from sklearn import metrics"
      ],
      "execution_count": null,
      "outputs": []
    },
    {
      "cell_type": "code",
      "metadata": {
        "colab": {
          "base_uri": "https://localhost:8080/"
        },
        "id": "XEeIlWkOlqj9",
        "outputId": "d8f19f40-777b-47c7-fa45-1de23cb09be3"
      },
      "source": [
        "# With particularly K = 4, KNN Classifer and Score is as:\n",
        "clf_knn = KNeighborsClassifier(n_neighbors=4)\n",
        "clf_knn.fit(x_train,y_train)"
      ],
      "execution_count": null,
      "outputs": [
        {
          "output_type": "execute_result",
          "data": {
            "text/plain": [
              "KNeighborsClassifier(algorithm='auto', leaf_size=30, metric='minkowski',\n",
              "                     metric_params=None, n_jobs=None, n_neighbors=4, p=2,\n",
              "                     weights='uniform')"
            ]
          },
          "metadata": {
            "tags": []
          },
          "execution_count": 33
        }
      ]
    },
    {
      "cell_type": "code",
      "metadata": {
        "colab": {
          "base_uri": "https://localhost:8080/"
        },
        "id": "f9oHvrGol2X0",
        "outputId": "45ece3d0-de23-4bfe-9cb9-7a9baa410c23"
      },
      "source": [
        "y_pred=clf_knn.predict(x_test)\n",
        "print(y_pred)\n",
        "score = metrics.accuracy_score(y_test,y_pred)\n",
        "print(\"\\n\\nKNN Classifier Score:\",score)"
      ],
      "execution_count": null,
      "outputs": [
        {
          "output_type": "stream",
          "text": [
            "[2 1 4 3 3 3 3 1 2 4 2 3]\n",
            "\n",
            "\n",
            "KNN Classifier Score: 0.8333333333333334\n"
          ],
          "name": "stdout"
        }
      ]
    },
    {
      "cell_type": "code",
      "metadata": {
        "id": "bfeezNVll5ds"
      },
      "source": [
        "k_range = range(1,26)"
      ],
      "execution_count": null,
      "outputs": []
    },
    {
      "cell_type": "code",
      "metadata": {
        "colab": {
          "base_uri": "https://localhost:8080/"
        },
        "id": "mDr4lLjTl8rT",
        "outputId": "beb6bee2-1d73-4c47-9fee-77ff33217946"
      },
      "source": [
        "scores = {}\n",
        "scores_list = []\n",
        "for k in k_range:\n",
        "        clf_knn = KNeighborsClassifier(n_neighbors=k, metric=\"minkowski\")\n",
        "        clf_knn.fit(x_train,y_train)\n",
        "        y_pred=clf_knn.predict(x_test)\n",
        "        scores[k] = metrics.accuracy_score(y_test,y_pred)\n",
        "        scores_list.append(metrics.accuracy_score(y_test,y_pred))\n",
        "\n",
        "scores"
      ],
      "execution_count": null,
      "outputs": [
        {
          "output_type": "execute_result",
          "data": {
            "text/plain": [
              "{1: 0.5833333333333334,\n",
              " 2: 0.5,\n",
              " 3: 0.5833333333333334,\n",
              " 4: 0.8333333333333334,\n",
              " 5: 0.5,\n",
              " 6: 0.5,\n",
              " 7: 0.4166666666666667,\n",
              " 8: 0.5833333333333334,\n",
              " 9: 0.5,\n",
              " 10: 0.5,\n",
              " 11: 0.5,\n",
              " 12: 0.5,\n",
              " 13: 0.4166666666666667,\n",
              " 14: 0.5,\n",
              " 15: 0.3333333333333333,\n",
              " 16: 0.3333333333333333,\n",
              " 17: 0.4166666666666667,\n",
              " 18: 0.3333333333333333,\n",
              " 19: 0.3333333333333333,\n",
              " 20: 0.3333333333333333,\n",
              " 21: 0.3333333333333333,\n",
              " 22: 0.3333333333333333,\n",
              " 23: 0.3333333333333333,\n",
              " 24: 0.3333333333333333,\n",
              " 25: 0.25}"
            ]
          },
          "metadata": {
            "tags": []
          },
          "execution_count": 28
        }
      ]
    },
    {
      "cell_type": "code",
      "metadata": {
        "colab": {
          "base_uri": "https://localhost:8080/"
        },
        "id": "cEhcMtA_mAKk",
        "outputId": "d355984e-4c57-4310-e268-f068181f307c"
      },
      "source": [
        "scores = {}\n",
        "scores_list = []\n",
        "for k in k_range:\n",
        "        clf_knn = KNeighborsClassifier(n_neighbors=k, metric=\"manhattan\")\n",
        "        clf_knn.fit(x_train,y_train)\n",
        "        y_pred=clf_knn.predict(x_test)\n",
        "        scores[k] = metrics.accuracy_score(y_test,y_pred)\n",
        "        scores_list.append(metrics.accuracy_score(y_test,y_pred))\n",
        "\n",
        "scores\n"
      ],
      "execution_count": null,
      "outputs": [
        {
          "output_type": "execute_result",
          "data": {
            "text/plain": [
              "{1: 0.5833333333333334,\n",
              " 2: 0.5833333333333334,\n",
              " 3: 0.6666666666666666,\n",
              " 4: 0.8333333333333334,\n",
              " 5: 0.5,\n",
              " 6: 0.5,\n",
              " 7: 0.4166666666666667,\n",
              " 8: 0.5833333333333334,\n",
              " 9: 0.5,\n",
              " 10: 0.5,\n",
              " 11: 0.5,\n",
              " 12: 0.5,\n",
              " 13: 0.4166666666666667,\n",
              " 14: 0.5,\n",
              " 15: 0.3333333333333333,\n",
              " 16: 0.3333333333333333,\n",
              " 17: 0.4166666666666667,\n",
              " 18: 0.3333333333333333,\n",
              " 19: 0.3333333333333333,\n",
              " 20: 0.3333333333333333,\n",
              " 21: 0.3333333333333333,\n",
              " 22: 0.3333333333333333,\n",
              " 23: 0.3333333333333333,\n",
              " 24: 0.3333333333333333,\n",
              " 25: 0.25}"
            ]
          },
          "metadata": {
            "tags": []
          },
          "execution_count": 30
        }
      ]
    },
    {
      "cell_type": "code",
      "metadata": {
        "colab": {
          "base_uri": "https://localhost:8080/"
        },
        "id": "uG0fnJutmLmc",
        "outputId": "46572785-d209-40bb-a599-e5bd7e900f63"
      },
      "source": [
        "scores = {}\n",
        "scores_list = []\n",
        "for k in k_range:\n",
        "        clf_knn = KNeighborsClassifier(n_neighbors=k, metric=\"euclidean\")\n",
        "        clf_knn.fit(x_train,y_train)\n",
        "        y_pred=clf_knn.predict(x_test)\n",
        "        scores[k] = metrics.accuracy_score(y_test,y_pred)\n",
        "        scores_list.append(metrics.accuracy_score(y_test,y_pred))\n",
        "\n",
        "scores"
      ],
      "execution_count": null,
      "outputs": [
        {
          "output_type": "execute_result",
          "data": {
            "text/plain": [
              "{1: 0.5833333333333334,\n",
              " 2: 0.5,\n",
              " 3: 0.5833333333333334,\n",
              " 4: 0.8333333333333334,\n",
              " 5: 0.5,\n",
              " 6: 0.5,\n",
              " 7: 0.4166666666666667,\n",
              " 8: 0.5833333333333334,\n",
              " 9: 0.5,\n",
              " 10: 0.5,\n",
              " 11: 0.5,\n",
              " 12: 0.5,\n",
              " 13: 0.4166666666666667,\n",
              " 14: 0.5,\n",
              " 15: 0.3333333333333333,\n",
              " 16: 0.3333333333333333,\n",
              " 17: 0.4166666666666667,\n",
              " 18: 0.3333333333333333,\n",
              " 19: 0.3333333333333333,\n",
              " 20: 0.3333333333333333,\n",
              " 21: 0.3333333333333333,\n",
              " 22: 0.3333333333333333,\n",
              " 23: 0.3333333333333333,\n",
              " 24: 0.3333333333333333,\n",
              " 25: 0.25}"
            ]
          },
          "metadata": {
            "tags": []
          },
          "execution_count": 31
        }
      ]
    },
    {
      "cell_type": "code",
      "metadata": {
        "colab": {
          "base_uri": "https://localhost:8080/",
          "height": 297
        },
        "id": "no0TrezQmR9j",
        "outputId": "3c1dc003-2b9e-4038-e63d-8760ebbd2e6e"
      },
      "source": [
        "plt.plot(k_range,scores_list)\n",
        "plt.xlabel('Value of K for KNN')\n",
        "plt.ylabel('Testing Accuracy')"
      ],
      "execution_count": null,
      "outputs": [
        {
          "output_type": "execute_result",
          "data": {
            "text/plain": [
              "Text(0, 0.5, 'Testing Accuracy')"
            ]
          },
          "metadata": {
            "tags": []
          },
          "execution_count": 32
        },
        {
          "output_type": "display_data",
          "data": {
            "image/png": "[encoded data removed]",
            "text/plain": [
              "<Figure size 432x288 with 1 Axes>"
            ]
          },
          "metadata": {
            "tags": [],
            "needs_background": "light"
          }
        }
      ]
    }
  ]
}