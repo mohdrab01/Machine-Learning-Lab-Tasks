{
  "nbformat": 4,
  "nbformat_minor": 0,
  "metadata": {
    "colab": {
      "name": "ML-Week8.ipynb",
      "provenance": [],
      "collapsed_sections": [],
      "authorship_tag": "ABX9TyPVVK9jYV2TIAYZpp0/pZUB",
      "include_colab_link": true
    },
    "kernelspec": {
      "name": "python3",
      "display_name": "Python 3"
    },
    "language_info": {
      "name": "python"
    }
  },
  "cells": [
    {
      "cell_type": "markdown",
      "metadata": {
        "id": "view-in-github",
        "colab_type": "text"
      },
      "source": [
        "<a href=\"https://colab.research.google.com/github/mohdrab01/Machine-Learning-Lab-Tasks/blob/main/ML_Week8.ipynb\" target=\"_parent\"><img src=\"https://colab.research.google.com/assets/colab-badge.svg\" alt=\"Open In Colab\"/></a>"
      ]
    },
    {
      "cell_type": "markdown",
      "metadata": {
        "id": "arEO5_h6iwp2"
      },
      "source": [
        "## ML - Week 8 - 31-05-2021\n",
        "# 18071A0591\n",
        "\n",
        "---"
      ]
    },
    {
      "cell_type": "markdown",
      "metadata": {
        "id": "I3h3S2Sli_8j"
      },
      "source": [
        "## 1. Demonstrate LDA"
      ]
    },
    {
      "cell_type": "code",
      "metadata": {
        "id": "VdnIeBjHksq9"
      },
      "source": [
        "import numpy as np\n",
        "import pandas as pd\n",
        "import matplotlib.pyplot as plt\n",
        "import seaborn as sns\n",
        "np.set_printoptions(precision=4)"
      ],
      "execution_count": null,
      "outputs": []
    },
    {
      "cell_type": "code",
      "metadata": {
        "colab": {
          "base_uri": "https://localhost:8080/"
        },
        "id": "s0VPwunPieAu",
        "outputId": "e0ffac18-26ad-4570-aff7-5150fc01c127"
      },
      "source": [
        "!wget https://raw.githubusercontent.com/bot13956/linear-discriminant-analysis-iris-dataset/master/iris.data.csv"
      ],
      "execution_count": null,
      "outputs": [
        {
          "output_type": "stream",
          "text": [
            "--2021-05-31 08:38:28--  https://raw.githubusercontent.com/bot13956/linear-discriminant-analysis-iris-dataset/master/iris.data.csv\n",
            "Resolving raw.githubusercontent.com (raw.githubusercontent.com)... 185.199.109.133, 185.199.110.133, 185.199.108.133, ...\n",
            "Connecting to raw.githubusercontent.com (raw.githubusercontent.com)|185.199.109.133|:443... connected.\n",
            "HTTP request sent, awaiting response... 200 OK\n",
            "Length: 4551 (4.4K) [text/plain]\n",
            "Saving to: ‘iris.data.csv’\n",
            "\n",
            "iris.data.csv       100%[===================>]   4.44K  --.-KB/s    in 0s      \n",
            "\n",
            "2021-05-31 08:38:28 (53.2 MB/s) - ‘iris.data.csv’ saved [4551/4551]\n",
            "\n"
          ],
          "name": "stdout"
        }
      ]
    },
    {
      "cell_type": "code",
      "metadata": {
        "colab": {
          "base_uri": "https://localhost:8080/",
          "height": 198
        },
        "id": "hIhdLzlkkx4F",
        "outputId": "459a5f8b-d1a1-42ff-ffd6-c8299c39da48"
      },
      "source": [
        "df = pd.read_csv('iris.data.csv', header=None)\n",
        "df.head()"
      ],
      "execution_count": null,
      "outputs": [
        {
          "output_type": "execute_result",
          "data": {
            "text/html": [
              "<div>\n",
              "<style scoped>\n",
              "    .dataframe tbody tr th:only-of-type {\n",
              "        vertical-align: middle;\n",
              "    }\n",
              "\n",
              "    .dataframe tbody tr th {\n",
              "        vertical-align: top;\n",
              "    }\n",
              "\n",
              "    .dataframe thead th {\n",
              "        text-align: right;\n",
              "    }\n",
              "</style>\n",
              "<table border=\"1\" class=\"dataframe\">\n",
              "  <thead>\n",
              "    <tr style=\"text-align: right;\">\n",
              "      <th></th>\n",
              "      <th>0</th>\n",
              "      <th>1</th>\n",
              "      <th>2</th>\n",
              "      <th>3</th>\n",
              "      <th>4</th>\n",
              "    </tr>\n",
              "  </thead>\n",
              "  <tbody>\n",
              "    <tr>\n",
              "      <th>0</th>\n",
              "      <td>5.1</td>\n",
              "      <td>3.5</td>\n",
              "      <td>1.4</td>\n",
              "      <td>0.2</td>\n",
              "      <td>Iris-setosa</td>\n",
              "    </tr>\n",
              "    <tr>\n",
              "      <th>1</th>\n",
              "      <td>4.9</td>\n",
              "      <td>3.0</td>\n",
              "      <td>1.4</td>\n",
              "      <td>0.2</td>\n",
              "      <td>Iris-setosa</td>\n",
              "    </tr>\n",
              "    <tr>\n",
              "      <th>2</th>\n",
              "      <td>4.7</td>\n",
              "      <td>3.2</td>\n",
              "      <td>1.3</td>\n",
              "      <td>0.2</td>\n",
              "      <td>Iris-setosa</td>\n",
              "    </tr>\n",
              "    <tr>\n",
              "      <th>3</th>\n",
              "      <td>4.6</td>\n",
              "      <td>3.1</td>\n",
              "      <td>1.5</td>\n",
              "      <td>0.2</td>\n",
              "      <td>Iris-setosa</td>\n",
              "    </tr>\n",
              "    <tr>\n",
              "      <th>4</th>\n",
              "      <td>5.0</td>\n",
              "      <td>3.6</td>\n",
              "      <td>1.4</td>\n",
              "      <td>0.2</td>\n",
              "      <td>Iris-setosa</td>\n",
              "    </tr>\n",
              "  </tbody>\n",
              "</table>\n",
              "</div>"
            ],
            "text/plain": [
              "     0    1    2    3            4\n",
              "0  5.1  3.5  1.4  0.2  Iris-setosa\n",
              "1  4.9  3.0  1.4  0.2  Iris-setosa\n",
              "2  4.7  3.2  1.3  0.2  Iris-setosa\n",
              "3  4.6  3.1  1.5  0.2  Iris-setosa\n",
              "4  5.0  3.6  1.4  0.2  Iris-setosa"
            ]
          },
          "metadata": {
            "tags": []
          },
          "execution_count": 3
        }
      ]
    },
    {
      "cell_type": "code",
      "metadata": {
        "id": "DLelxHfOk1om"
      },
      "source": [
        "# Encode categorical class labels\n",
        "from sklearn.preprocessing import LabelEncoder\n",
        "class_le = LabelEncoder()\n",
        "y = class_le.fit_transform(df[4].values)"
      ],
      "execution_count": null,
      "outputs": []
    },
    {
      "cell_type": "code",
      "metadata": {
        "id": "zN_aGRTUk769"
      },
      "source": [
        "# Standardize features\n",
        "from sklearn.preprocessing import StandardScaler\n",
        "stdsc = StandardScaler()\n",
        "X_train_std = stdsc.fit_transform(df.iloc[:,range(0,4)].values)"
      ],
      "execution_count": null,
      "outputs": []
    },
    {
      "cell_type": "code",
      "metadata": {
        "colab": {
          "base_uri": "https://localhost:8080/"
        },
        "id": "u_Cn7AeOk_Zd",
        "outputId": "a0bdb101-3629-4d3b-8726-4d6ac3d640f9"
      },
      "source": [
        "# construct within-class covariant scatter matrix, wM\n",
        "wM = np.zeros((4,4))\n",
        "for i in range(3):\n",
        "    wM += np.cov(X_train_std[y==i].T)\n",
        "wM"
      ],
      "execution_count": null,
      "outputs": [
        {
          "output_type": "execute_result",
          "data": {
            "text/plain": [
              "array([[1.1672, 0.783 , 0.3461, 0.1839],\n",
              "       [0.783 , 1.8616, 0.2181, 0.3051],\n",
              "       [0.3461, 0.2181, 0.1796, 0.0954],\n",
              "       [0.1839, 0.3051, 0.0954, 0.2178]])"
            ]
          },
          "metadata": {
            "tags": []
          },
          "execution_count": 8
        }
      ]
    },
    {
      "cell_type": "code",
      "metadata": {
        "colab": {
          "base_uri": "https://localhost:8080/"
        },
        "id": "bxMJ69wRlO9F",
        "outputId": "0b8c5233-6871-4d08-ce24-29c0b0c3feb9"
      },
      "source": [
        "# construct betweeen-class covariant scatter matrix, bM\n",
        "N=np.bincount(y) # number of samples for given class\n",
        "vecs=[]\n",
        "[vecs.append(np.mean(X_train_std[y==i],axis=0)) for i in range(3)] # class means\n",
        "mean_overall = np.mean(X_train_std, axis=0) # overall mean\n",
        "\n",
        "bM = np.zeros((4,4))\n",
        "for i in range(3):\n",
        "    bM += N[i]*(((vecs[i]-mean_overall).reshape(4,1)).dot(((vecs[i]-mean_overall).reshape(1,4))))\n",
        "\n",
        "bM"
      ],
      "execution_count": null,
      "outputs": [
        {
          "output_type": "execute_result",
          "data": {
            "text/plain": [
              "array([[ 92.8059, -54.7706, 113.8033, 113.6835],\n",
              "       [-54.7706,  58.7821, -73.7624, -68.4292],\n",
              "       [113.8033, -73.7624, 141.1978, 139.7382],\n",
              "       [113.6835, -68.4292, 139.7382, 139.3254]])"
            ]
          },
          "metadata": {
            "tags": []
          },
          "execution_count": 10
        }
      ]
    },
    {
      "cell_type": "code",
      "metadata": {
        "colab": {
          "base_uri": "https://localhost:8080/"
        },
        "id": "uJccuoSHll38",
        "outputId": "f009efba-037c-499c-d9df-7a9178bee5a4"
      },
      "source": [
        "# Calculating Sorted Eigen Values and eigen vectors of inverse(wM)) dot product with bM\n",
        "e_vals, e_vecs = np.linalg.eig(np.linalg.inv(wM).dot(bM))\n",
        "e_pairs = [(np.abs(e_vals[i]), e_vecs[:,i]) for i in range(len(e_vals))]\n",
        "e_pairs = sorted(e_pairs,key=lambda k: k[0], reverse=True)\n",
        "print('Eigenvalues in decreasing order:\\n')\n",
        "for e_val in e_pairs:\n",
        "    print(e_val[0])"
      ],
      "execution_count": null,
      "outputs": [
        {
          "output_type": "stream",
          "text": [
            "Eigenvalues in decreasing order:\n",
            "\n",
            "1581.3259321867617\n",
            "13.600776328162208\n",
            "2.4043520410991714e-13\n",
            "1.5464006568405534e-13\n"
          ],
          "name": "stdout"
        }
      ]
    },
    {
      "cell_type": "code",
      "metadata": {
        "colab": {
          "base_uri": "https://localhost:8080/",
          "height": 279
        },
        "id": "VSVp5V1RmDmG",
        "outputId": "0b663d79-958f-4b2f-a00b-c7ecb8f2f185"
      },
      "source": [
        "# Plotting LDA Components\n",
        "tot = sum(e_vals.real)\n",
        "discr = [(i / tot) for i in sorted(e_vals.real, reverse=True)]\n",
        "cum_discr = np.cumsum(discr)\n",
        "plt.bar(range(1, 5), discr, width=0.2,alpha=0.5, align='center',label='individual \"discriminability\"')\n",
        "plt.step(range(1, 5), cum_discr, where='mid',label='cumulative \"discriminability\"')\n",
        "plt.ylabel('\"discriminability\" ratio')\n",
        "plt.xlabel('Linear Discriminants')\n",
        "plt.ylim([-0.1, 1.1])\n",
        "plt.legend(loc='best')\n",
        "plt.show()"
      ],
      "execution_count": null,
      "outputs": [
        {
          "output_type": "display_data",
          "data": {
            "image/png": "[encoded data removed]",
            "text/plain": [
              "<Figure size 432x288 with 1 Axes>"
            ]
          },
          "metadata": {
            "tags": [],
            "needs_background": "light"
          }
        }
      ]
    },
    {
      "cell_type": "code",
      "metadata": {
        "colab": {
          "base_uri": "https://localhost:8080/"
        },
        "id": "IeyxMTK3mOW1",
        "outputId": "bcb01220-1fa7-4b36-ffb7-2253b51f6c99"
      },
      "source": [
        "# Projecting original features onto new feature space\n",
        "W = np.hstack((e_pairs[0][1][:, ].reshape(4,1),e_pairs[1][1][:, ].reshape(4,1))).real\n",
        "X_train_lda = X_train_std.dot(W)\n",
        "X_train_lda"
      ],
      "execution_count": null,
      "outputs": [
        {
          "output_type": "execute_result",
          "data": {
            "text/plain": [
              "array([[-1.7909,  0.1154],\n",
              "       [-1.5832, -0.2655],\n",
              "       [-1.6639, -0.0837],\n",
              "       [-1.5146, -0.2259],\n",
              "       [-1.8071,  0.19  ],\n",
              "       [-1.7109,  0.5209],\n",
              "       [-1.6027,  0.1325],\n",
              "       [-1.6901,  0.0059],\n",
              "       [-1.4582, -0.3469],\n",
              "       [-1.6323, -0.321 ],\n",
              "       [-1.8656,  0.2376],\n",
              "       [-1.6054, -0.0291],\n",
              "       [-1.6283, -0.3652],\n",
              "       [-1.6827, -0.2729],\n",
              "       [-2.1862,  0.5674],\n",
              "       [-2.0336,  0.9683],\n",
              "       [-1.9045,  0.6516],\n",
              "       [-1.7277,  0.214 ],\n",
              "       [-1.7943,  0.35  ],\n",
              "       [-1.7822,  0.4085],\n",
              "       [-1.6659, -0.0549],\n",
              "       [-1.6847,  0.4314],\n",
              "       [-1.9281,  0.3161],\n",
              "       [-1.3875,  0.1617],\n",
              "       [-1.4602, -0.1272],\n",
              "       [-1.5046, -0.3297],\n",
              "       [-1.5153,  0.1704],\n",
              "       [-1.7607,  0.0839],\n",
              "       [-1.7748,  0.0409],\n",
              "       [-1.5187, -0.1817],\n",
              "       [-1.5025, -0.2563],\n",
              "       [-1.6363,  0.2077],\n",
              "       [-2.0296,  0.4396],\n",
              "       [-2.1035,  0.65  ],\n",
              "       [-1.6323, -0.321 ],\n",
              "       [-1.7667, -0.0475],\n",
              "       [-1.9119,  0.1527],\n",
              "       [-1.6323, -0.321 ],\n",
              "       [-1.5409, -0.2385],\n",
              "       [-1.7082,  0.007 ],\n",
              "       [-1.758 ,  0.2455],\n",
              "       [-1.2558, -0.6688],\n",
              "       [-1.6094, -0.0871],\n",
              "       [-1.4231,  0.4433],\n",
              "       [-1.5254,  0.3763],\n",
              "       [-1.5018, -0.168 ],\n",
              "       [-1.797 ,  0.2772],\n",
              "       [-1.5973, -0.1175],\n",
              "       [-1.8474,  0.2365],\n",
              "       [-1.7042, -0.0372],\n",
              "       [ 0.3229,  0.0147],\n",
              "       [ 0.3982,  0.1718],\n",
              "       [ 0.5354, -0.0289],\n",
              "       [ 0.5017, -0.5538],\n",
              "       [ 0.5656, -0.1626],\n",
              "       [ 0.536 , -0.3364],\n",
              "       [ 0.5421,  0.2795],\n",
              "       [ 0.0479, -0.552 ],\n",
              "       [ 0.3867, -0.283 ],\n",
              "       [ 0.4338, -0.1231],\n",
              "       [ 0.2637, -0.9191],\n",
              "       [ 0.4123,  0.1126],\n",
              "       [ 0.2556, -0.9196],\n",
              "       [ 0.5891, -0.2228],\n",
              "       [ 0.0842,  0.0324],\n",
              "       [ 0.2664,  0.0336],\n",
              "       [ 0.612 ,  0.0111],\n",
              "       [ 0.1689, -0.576 ],\n",
              "       [ 0.7774, -0.5877],\n",
              "       [ 0.2401, -0.5657],\n",
              "       [ 0.8238,  0.3637],\n",
              "       [ 0.2214, -0.1683],\n",
              "       [ 0.85  , -0.4901],\n",
              "       [ 0.497 , -0.4957],\n",
              "       [ 0.2778, -0.1872],\n",
              "       [ 0.3189, -0.0433],\n",
              "       [ 0.5448, -0.3231],\n",
              "       [ 0.7808,  0.0576],\n",
              "       [ 0.5737, -0.06  ],\n",
              "       [-0.0691, -0.4567],\n",
              "       [ 0.2442, -0.6099],\n",
              "       [ 0.1326, -0.6758],\n",
              "       [ 0.1985, -0.3134],\n",
              "       [ 0.9959, -0.309 ],\n",
              "       [ 0.6483,  0.0088],\n",
              "       [ 0.4654,  0.4172],\n",
              "       [ 0.4749,  0.0341],\n",
              "       [ 0.5501, -0.6753],\n",
              "       [ 0.2919, -0.0554],\n",
              "       [ 0.4331, -0.4024],\n",
              "       [ 0.5292, -0.556 ],\n",
              "       [ 0.5064, -0.1144],\n",
              "       [ 0.2812, -0.4218],\n",
              "       [ 0.064 , -0.6266],\n",
              "       [ 0.4432, -0.3152],\n",
              "       [ 0.259 , -0.1855],\n",
              "       [ 0.3565, -0.1626],\n",
              "       [ 0.3141, -0.1895],\n",
              "       [-0.1047, -0.2773],\n",
              "       [ 0.3424, -0.2056],\n",
              "       [ 1.7402,  0.742 ],\n",
              "       [ 1.2218, -0.0155],\n",
              "       [ 1.3966,  0.1624],\n",
              "       [ 1.2413, -0.1203],\n",
              "       [ 1.5204,  0.2867],\n",
              "       [ 1.6447, -0.0607],\n",
              "       [ 1.0369, -0.1784],\n",
              "       [ 1.3986, -0.3376],\n",
              "       [ 1.4026, -0.4839],\n",
              "       [ 1.5224,  0.9468],\n",
              "       [ 0.9865,  0.4698],\n",
              "       [ 1.2097, -0.0739],\n",
              "       [ 1.2575,  0.2897],\n",
              "       [ 1.3233, -0.0368],\n",
              "       [ 1.5036,  0.5532],\n",
              "       [ 1.2911,  0.699 ],\n",
              "       [ 1.1223, -0.0096],\n",
              "       [ 1.4639,  0.6121],\n",
              "       [ 2.0353, -0.2632],\n",
              "       [ 1.0557, -0.7534],\n",
              "       [ 1.394 ,  0.5741],\n",
              "       [ 1.1902,  0.2219],\n",
              "       [ 1.6803, -0.3422],\n",
              "       [ 0.971 , -0.0429],\n",
              "       [ 1.2696,  0.4503],\n",
              "       [ 1.1687, -0.0135],\n",
              "       [ 0.9065,  0.0643],\n",
              "       [ 0.9045,  0.1819],\n",
              "       [ 1.4471,  0.1009],\n",
              "       [ 1.014 , -0.2968],\n",
              "       [ 1.3811, -0.2482],\n",
              "       [ 1.1559,  0.5153],\n",
              "       [ 1.5103,  0.1995],\n",
              "       [ 0.8439, -0.3284],\n",
              "       [ 1.1276, -0.7442],\n",
              "       [ 1.511 ,  0.3011],\n",
              "       [ 1.4491,  0.8499],\n",
              "       [ 1.1061,  0.065 ],\n",
              "       [ 0.8742,  0.2134],\n",
              "       [ 1.1567,  0.3992],\n",
              "       [ 1.4794,  0.6273],\n",
              "       [ 1.1379,  0.6945],\n",
              "       [ 1.2218, -0.0155],\n",
              "       [ 1.509 ,  0.5075],\n",
              "       [ 1.5224,  0.8447],\n",
              "       [ 1.2569,  0.5838],\n",
              "       [ 1.1512, -0.1284],\n",
              "       [ 1.1035,  0.2857],\n",
              "       [ 1.3073,  0.8155],\n",
              "       [ 1.0376,  0.1142]])"
            ]
          },
          "metadata": {
            "tags": []
          },
          "execution_count": 16
        }
      ]
    },
    {
      "cell_type": "code",
      "metadata": {
        "colab": {
          "base_uri": "https://localhost:8080/",
          "height": 198
        },
        "id": "c2bVaM3rmdCO",
        "outputId": "bdc32b20-e018-42e5-ff20-7e6bf909631f"
      },
      "source": [
        "# To plot transformed features in LDA Subspace\n",
        "data=pd.DataFrame(X_train_lda)\n",
        "data['class']=y\n",
        "data.columns=[\"LD1\",\"LD2\",\"class\"]\n",
        "data.head()"
      ],
      "execution_count": null,
      "outputs": [
        {
          "output_type": "execute_result",
          "data": {
            "text/html": [
              "<div>\n",
              "<style scoped>\n",
              "    .dataframe tbody tr th:only-of-type {\n",
              "        vertical-align: middle;\n",
              "    }\n",
              "\n",
              "    .dataframe tbody tr th {\n",
              "        vertical-align: top;\n",
              "    }\n",
              "\n",
              "    .dataframe thead th {\n",
              "        text-align: right;\n",
              "    }\n",
              "</style>\n",
              "<table border=\"1\" class=\"dataframe\">\n",
              "  <thead>\n",
              "    <tr style=\"text-align: right;\">\n",
              "      <th></th>\n",
              "      <th>LD1</th>\n",
              "      <th>LD2</th>\n",
              "      <th>class</th>\n",
              "    </tr>\n",
              "  </thead>\n",
              "  <tbody>\n",
              "    <tr>\n",
              "      <th>0</th>\n",
              "      <td>-1.790936</td>\n",
              "      <td>0.115414</td>\n",
              "      <td>0</td>\n",
              "    </tr>\n",
              "    <tr>\n",
              "      <th>1</th>\n",
              "      <td>-1.583202</td>\n",
              "      <td>-0.265463</td>\n",
              "      <td>0</td>\n",
              "    </tr>\n",
              "    <tr>\n",
              "      <th>2</th>\n",
              "      <td>-1.663881</td>\n",
              "      <td>-0.083657</td>\n",
              "      <td>0</td>\n",
              "    </tr>\n",
              "    <tr>\n",
              "      <th>3</th>\n",
              "      <td>-1.514646</td>\n",
              "      <td>-0.225901</td>\n",
              "      <td>0</td>\n",
              "    </tr>\n",
              "    <tr>\n",
              "      <th>4</th>\n",
              "      <td>-1.807076</td>\n",
              "      <td>0.189973</td>\n",
              "      <td>0</td>\n",
              "    </tr>\n",
              "  </tbody>\n",
              "</table>\n",
              "</div>"
            ],
            "text/plain": [
              "        LD1       LD2  class\n",
              "0 -1.790936  0.115414      0\n",
              "1 -1.583202 -0.265463      0\n",
              "2 -1.663881 -0.083657      0\n",
              "3 -1.514646 -0.225901      0\n",
              "4 -1.807076  0.189973      0"
            ]
          },
          "metadata": {
            "tags": []
          },
          "execution_count": 17
        }
      ]
    },
    {
      "cell_type": "code",
      "metadata": {
        "colab": {
          "base_uri": "https://localhost:8080/",
          "height": 383
        },
        "id": "fJa-sPRvmjZu",
        "outputId": "4c2c036f-6117-4eda-92cf-0e2d379b91d2"
      },
      "source": [
        "markers = ['s', 'x','o']\n",
        "sns.lmplot(x=\"LD1\", y=\"LD2\", data=data, markers=markers,fit_reg=False, hue='class', legend=False)\n",
        "plt.legend(loc='upper center')\n",
        "plt.show()"
      ],
      "execution_count": null,
      "outputs": [
        {
          "output_type": "display_data",
          "data": {
            "image/png": "[encoded data removed]",
            "text/plain": [
              "<Figure size 360x360 with 1 Axes>"
            ]
          },
          "metadata": {
            "tags": [],
            "needs_background": "light"
          }
        }
      ]
    },
    {
      "cell_type": "code",
      "metadata": {
        "id": "4rUQaBxMmnW_"
      },
      "source": [
        "# DIRECTLY using SCIKIT LEARN -- LDA implementation is :\n",
        "from sklearn.discriminant_analysis import LinearDiscriminantAnalysis\n",
        "lda = LinearDiscriminantAnalysis(n_components=2)\n",
        "X_train_lda = lda.fit_transform(X_train_std, y)"
      ],
      "execution_count": null,
      "outputs": []
    },
    {
      "cell_type": "code",
      "metadata": {
        "colab": {
          "base_uri": "https://localhost:8080/",
          "height": 198
        },
        "id": "FoaMUh90my-F",
        "outputId": "150d1aa1-f3b9-47fc-d58e-8d7c98eaae16"
      },
      "source": [
        "data=pd.DataFrame(X_train_lda)\n",
        "data['class']=y\n",
        "data.columns=[\"LD1\",\"LD2\",\"class\"]\n",
        "data.head()"
      ],
      "execution_count": null,
      "outputs": [
        {
          "output_type": "execute_result",
          "data": {
            "text/html": [
              "<div>\n",
              "<style scoped>\n",
              "    .dataframe tbody tr th:only-of-type {\n",
              "        vertical-align: middle;\n",
              "    }\n",
              "\n",
              "    .dataframe tbody tr th {\n",
              "        vertical-align: top;\n",
              "    }\n",
              "\n",
              "    .dataframe thead th {\n",
              "        text-align: right;\n",
              "    }\n",
              "</style>\n",
              "<table border=\"1\" class=\"dataframe\">\n",
              "  <thead>\n",
              "    <tr style=\"text-align: right;\">\n",
              "      <th></th>\n",
              "      <th>LD1</th>\n",
              "      <th>LD2</th>\n",
              "      <th>class</th>\n",
              "    </tr>\n",
              "  </thead>\n",
              "  <tbody>\n",
              "    <tr>\n",
              "      <th>0</th>\n",
              "      <td>8.084953</td>\n",
              "      <td>0.328454</td>\n",
              "      <td>0</td>\n",
              "    </tr>\n",
              "    <tr>\n",
              "      <th>1</th>\n",
              "      <td>7.147163</td>\n",
              "      <td>-0.755473</td>\n",
              "      <td>0</td>\n",
              "    </tr>\n",
              "    <tr>\n",
              "      <th>2</th>\n",
              "      <td>7.511378</td>\n",
              "      <td>-0.238078</td>\n",
              "      <td>0</td>\n",
              "    </tr>\n",
              "    <tr>\n",
              "      <th>3</th>\n",
              "      <td>6.837676</td>\n",
              "      <td>-0.642885</td>\n",
              "      <td>0</td>\n",
              "    </tr>\n",
              "    <tr>\n",
              "      <th>4</th>\n",
              "      <td>8.157814</td>\n",
              "      <td>0.540639</td>\n",
              "      <td>0</td>\n",
              "    </tr>\n",
              "  </tbody>\n",
              "</table>\n",
              "</div>"
            ],
            "text/plain": [
              "        LD1       LD2  class\n",
              "0  8.084953  0.328454      0\n",
              "1  7.147163 -0.755473      0\n",
              "2  7.511378 -0.238078      0\n",
              "3  6.837676 -0.642885      0\n",
              "4  8.157814  0.540639      0"
            ]
          },
          "metadata": {
            "tags": []
          },
          "execution_count": 20
        }
      ]
    },
    {
      "cell_type": "code",
      "metadata": {
        "colab": {
          "base_uri": "https://localhost:8080/",
          "height": 383
        },
        "id": "9RqiEJA5m04u",
        "outputId": "9d6a0c43-3147-4dee-a4b7-281e510f45fe"
      },
      "source": [
        "markers = ['s', 'x','o']\n",
        "colors = ['r', 'b','g']\n",
        "sns.lmplot(x=\"LD1\", y=\"LD2\", data=data, hue='class', markers=markers,fit_reg=False,legend=False)\n",
        "plt.legend(loc='upper center')\n",
        "plt.show()"
      ],
      "execution_count": null,
      "outputs": [
        {
          "output_type": "display_data",
          "data": {
            "image/png": "[encoded data removed]",
            "text/plain": [
              "<Figure size 360x360 with 1 Axes>"
            ]
          },
          "metadata": {
            "tags": [],
            "needs_background": "light"
          }
        }
      ]
    },
    {
      "cell_type": "markdown",
      "metadata": {
        "id": "zcYZ9p6Wjuol"
      },
      "source": [
        "## 2. Factor Analysis"
      ]
    },
    {
      "cell_type": "code",
      "metadata": {
        "id": "1aL9lkMOn7D2"
      },
      "source": [
        "from sklearn.datasets import load_iris\n",
        "from sklearn.decomposition import FactorAnalysis"
      ],
      "execution_count": null,
      "outputs": []
    },
    {
      "cell_type": "code",
      "metadata": {
        "id": "QlMp2kIEj0jc"
      },
      "source": [
        "iris = load_iris()\n",
        "X, y = iris.data, iris.target\n",
        "factor = FactorAnalysis(n_components=4, random_state=101).fit(X)"
      ],
      "execution_count": null,
      "outputs": []
    },
    {
      "cell_type": "code",
      "metadata": {
        "colab": {
          "base_uri": "https://localhost:8080/",
          "height": 168
        },
        "id": "ZF40TSgTnWZl",
        "outputId": "bac23820-232a-48c3-f5ff-01963234510a"
      },
      "source": [
        "df = pd.DataFrame(factor.components_,columns=iris.feature_names)\n",
        "df.head()"
      ],
      "execution_count": null,
      "outputs": [
        {
          "output_type": "execute_result",
          "data": {
            "text/html": [
              "<div>\n",
              "<style scoped>\n",
              "    .dataframe tbody tr th:only-of-type {\n",
              "        vertical-align: middle;\n",
              "    }\n",
              "\n",
              "    .dataframe tbody tr th {\n",
              "        vertical-align: top;\n",
              "    }\n",
              "\n",
              "    .dataframe thead th {\n",
              "        text-align: right;\n",
              "    }\n",
              "</style>\n",
              "<table border=\"1\" class=\"dataframe\">\n",
              "  <thead>\n",
              "    <tr style=\"text-align: right;\">\n",
              "      <th></th>\n",
              "      <th>sepal length (cm)</th>\n",
              "      <th>sepal width (cm)</th>\n",
              "      <th>petal length (cm)</th>\n",
              "      <th>petal width (cm)</th>\n",
              "    </tr>\n",
              "  </thead>\n",
              "  <tbody>\n",
              "    <tr>\n",
              "      <th>0</th>\n",
              "      <td>0.706989</td>\n",
              "      <td>-0.158005</td>\n",
              "      <td>1.654236</td>\n",
              "      <td>0.70085</td>\n",
              "    </tr>\n",
              "    <tr>\n",
              "      <th>1</th>\n",
              "      <td>0.115161</td>\n",
              "      <td>0.159635</td>\n",
              "      <td>-0.044321</td>\n",
              "      <td>-0.01403</td>\n",
              "    </tr>\n",
              "    <tr>\n",
              "      <th>2</th>\n",
              "      <td>-0.000000</td>\n",
              "      <td>0.000000</td>\n",
              "      <td>0.000000</td>\n",
              "      <td>0.00000</td>\n",
              "    </tr>\n",
              "    <tr>\n",
              "      <th>3</th>\n",
              "      <td>-0.000000</td>\n",
              "      <td>0.000000</td>\n",
              "      <td>0.000000</td>\n",
              "      <td>-0.00000</td>\n",
              "    </tr>\n",
              "  </tbody>\n",
              "</table>\n",
              "</div>"
            ],
            "text/plain": [
              "   sepal length (cm)  sepal width (cm)  petal length (cm)  petal width (cm)\n",
              "0           0.706989         -0.158005           1.654236           0.70085\n",
              "1           0.115161          0.159635          -0.044321          -0.01403\n",
              "2          -0.000000          0.000000           0.000000           0.00000\n",
              "3          -0.000000          0.000000           0.000000          -0.00000"
            ]
          },
          "metadata": {
            "tags": []
          },
          "execution_count": 28
        }
      ]
    },
    {
      "cell_type": "code",
      "metadata": {
        "id": "HrKlTGl1oJbN"
      },
      "source": [
        "from sklearn.decomposition import PCA"
      ],
      "execution_count": null,
      "outputs": []
    },
    {
      "cell_type": "code",
      "metadata": {
        "colab": {
          "base_uri": "https://localhost:8080/",
          "height": 186
        },
        "id": "M7oLrr21oM71",
        "outputId": "2f8b1039-717e-4f0b-88cf-ac489b4c7122"
      },
      "source": [
        "pca = PCA().fit(X)\n",
        "print(\"Explained variance by component: %s\" % pca.explained_variance_ratio_)\n",
        "df2 = pd.DataFrame(pca.components_,columns=iris.feature_names)\n",
        "df2.head()"
      ],
      "execution_count": null,
      "outputs": [
        {
          "output_type": "stream",
          "text": [
            "Explained variance by component: [0.9246 0.0531 0.0171 0.0052]\n"
          ],
          "name": "stdout"
        },
        {
          "output_type": "execute_result",
          "data": {
            "text/html": [
              "<div>\n",
              "<style scoped>\n",
              "    .dataframe tbody tr th:only-of-type {\n",
              "        vertical-align: middle;\n",
              "    }\n",
              "\n",
              "    .dataframe tbody tr th {\n",
              "        vertical-align: top;\n",
              "    }\n",
              "\n",
              "    .dataframe thead th {\n",
              "        text-align: right;\n",
              "    }\n",
              "</style>\n",
              "<table border=\"1\" class=\"dataframe\">\n",
              "  <thead>\n",
              "    <tr style=\"text-align: right;\">\n",
              "      <th></th>\n",
              "      <th>sepal length (cm)</th>\n",
              "      <th>sepal width (cm)</th>\n",
              "      <th>petal length (cm)</th>\n",
              "      <th>petal width (cm)</th>\n",
              "    </tr>\n",
              "  </thead>\n",
              "  <tbody>\n",
              "    <tr>\n",
              "      <th>0</th>\n",
              "      <td>0.361387</td>\n",
              "      <td>-0.084523</td>\n",
              "      <td>0.856671</td>\n",
              "      <td>0.358289</td>\n",
              "    </tr>\n",
              "    <tr>\n",
              "      <th>1</th>\n",
              "      <td>0.656589</td>\n",
              "      <td>0.730161</td>\n",
              "      <td>-0.173373</td>\n",
              "      <td>-0.075481</td>\n",
              "    </tr>\n",
              "    <tr>\n",
              "      <th>2</th>\n",
              "      <td>-0.582030</td>\n",
              "      <td>0.597911</td>\n",
              "      <td>0.076236</td>\n",
              "      <td>0.545831</td>\n",
              "    </tr>\n",
              "    <tr>\n",
              "      <th>3</th>\n",
              "      <td>-0.315487</td>\n",
              "      <td>0.319723</td>\n",
              "      <td>0.479839</td>\n",
              "      <td>-0.753657</td>\n",
              "    </tr>\n",
              "  </tbody>\n",
              "</table>\n",
              "</div>"
            ],
            "text/plain": [
              "   sepal length (cm)  sepal width (cm)  petal length (cm)  petal width (cm)\n",
              "0           0.361387         -0.084523           0.856671          0.358289\n",
              "1           0.656589          0.730161          -0.173373         -0.075481\n",
              "2          -0.582030          0.597911           0.076236          0.545831\n",
              "3          -0.315487          0.319723           0.479839         -0.753657"
            ]
          },
          "metadata": {
            "tags": []
          },
          "execution_count": 30
        }
      ]
    },
    {
      "cell_type": "markdown",
      "metadata": {
        "id": "hvWPnfxajyD0"
      },
      "source": [
        "## 3. Low Variance Filter"
      ]
    },
    {
      "cell_type": "code",
      "metadata": {
        "colab": {
          "base_uri": "https://localhost:8080/",
          "height": 168
        },
        "id": "gqWilf3Njz4m",
        "outputId": "b9caaa8d-98ed-46d6-d835-45ed572663fa"
      },
      "source": [
        "df.head()"
      ],
      "execution_count": null,
      "outputs": [
        {
          "output_type": "execute_result",
          "data": {
            "text/html": [
              "<div>\n",
              "<style scoped>\n",
              "    .dataframe tbody tr th:only-of-type {\n",
              "        vertical-align: middle;\n",
              "    }\n",
              "\n",
              "    .dataframe tbody tr th {\n",
              "        vertical-align: top;\n",
              "    }\n",
              "\n",
              "    .dataframe thead th {\n",
              "        text-align: right;\n",
              "    }\n",
              "</style>\n",
              "<table border=\"1\" class=\"dataframe\">\n",
              "  <thead>\n",
              "    <tr style=\"text-align: right;\">\n",
              "      <th></th>\n",
              "      <th>sepal length (cm)</th>\n",
              "      <th>sepal width (cm)</th>\n",
              "      <th>petal length (cm)</th>\n",
              "      <th>petal width (cm)</th>\n",
              "    </tr>\n",
              "  </thead>\n",
              "  <tbody>\n",
              "    <tr>\n",
              "      <th>0</th>\n",
              "      <td>0.706989</td>\n",
              "      <td>-0.158005</td>\n",
              "      <td>1.654236</td>\n",
              "      <td>0.70085</td>\n",
              "    </tr>\n",
              "    <tr>\n",
              "      <th>1</th>\n",
              "      <td>0.115161</td>\n",
              "      <td>0.159635</td>\n",
              "      <td>-0.044321</td>\n",
              "      <td>-0.01403</td>\n",
              "    </tr>\n",
              "    <tr>\n",
              "      <th>2</th>\n",
              "      <td>-0.000000</td>\n",
              "      <td>0.000000</td>\n",
              "      <td>0.000000</td>\n",
              "      <td>0.00000</td>\n",
              "    </tr>\n",
              "    <tr>\n",
              "      <th>3</th>\n",
              "      <td>-0.000000</td>\n",
              "      <td>0.000000</td>\n",
              "      <td>0.000000</td>\n",
              "      <td>-0.00000</td>\n",
              "    </tr>\n",
              "  </tbody>\n",
              "</table>\n",
              "</div>"
            ],
            "text/plain": [
              "   sepal length (cm)  sepal width (cm)  petal length (cm)  petal width (cm)\n",
              "0           0.706989         -0.158005           1.654236           0.70085\n",
              "1           0.115161          0.159635          -0.044321          -0.01403\n",
              "2          -0.000000          0.000000           0.000000           0.00000\n",
              "3          -0.000000          0.000000           0.000000          -0.00000"
            ]
          },
          "metadata": {
            "tags": []
          },
          "execution_count": 32
        }
      ]
    },
    {
      "cell_type": "code",
      "metadata": {
        "colab": {
          "base_uri": "https://localhost:8080/"
        },
        "id": "KKhwHLLnrJMd",
        "outputId": "610f37b6-e909-4ea5-a157-e0e24f578118"
      },
      "source": [
        "a = df.isnull().sum()/len(df)*100\n",
        "print(a,len(a))"
      ],
      "execution_count": null,
      "outputs": [
        {
          "output_type": "stream",
          "text": [
            "sepal length (cm)    0.0\n",
            "sepal width (cm)     0.0\n",
            "petal length (cm)    0.0\n",
            "petal width (cm)     0.0\n",
            "dtype: float64 4\n"
          ],
          "name": "stdout"
        }
      ]
    },
    {
      "cell_type": "code",
      "metadata": {
        "colab": {
          "base_uri": "https://localhost:8080/"
        },
        "id": "uCloReevrPLQ",
        "outputId": "a9ec90c9-df7d-43ac-c31e-a8787beb2dc5"
      },
      "source": [
        "variables = df.columns\n",
        "v = df.var()\n",
        "var = []\n",
        "for i in range(0,len(v)):\n",
        "  if a[i]<=20:\n",
        "    var.append(variables[i])\n",
        "\n",
        "var"
      ],
      "execution_count": null,
      "outputs": [
        {
          "output_type": "execute_result",
          "data": {
            "text/plain": [
              "['sepal length (cm)',\n",
              " 'sepal width (cm)',\n",
              " 'petal length (cm)',\n",
              " 'petal width (cm)']"
            ]
          },
          "metadata": {
            "tags": []
          },
          "execution_count": 39
        }
      ]
    },
    {
      "cell_type": "code",
      "metadata": {
        "colab": {
          "base_uri": "https://localhost:8080/"
        },
        "id": "o6lpqqpXr97d",
        "outputId": "2c585aa8-6838-457d-93dc-25f35a0af0aa"
      },
      "source": [
        "var = []\n",
        "for i in range(0,len(v)):\n",
        "  if a[i]>=10:\n",
        "    var.append(variables[i+1])\n",
        "\n",
        "var"
      ],
      "execution_count": null,
      "outputs": [
        {
          "output_type": "execute_result",
          "data": {
            "text/plain": [
              "[]"
            ]
          },
          "metadata": {
            "tags": []
          },
          "execution_count": 44
        }
      ]
    }
  ]
}