{
  "nbformat": 4,
  "nbformat_minor": 0,
  "metadata": {
    "colab": {
      "name": "ML-Week1.ipynb",
      "provenance": [],
      "collapsed_sections": [],
      "authorship_tag": "ABX9TyOsyfgZ3dJUocpoYpajirWH",
      "include_colab_link": true
    },
    "kernelspec": {
      "name": "python3",
      "display_name": "Python 3"
    },
    "language_info": {
      "name": "python"
    }
  },
  "cells": [
    {
      "cell_type": "markdown",
      "metadata": {
        "id": "view-in-github",
        "colab_type": "text"
      },
      "source": [
        "<a href=\"https://colab.research.google.com/github/mohdrab01/Machine-Learning-Lab-Tasks/blob/main/ML_Week1.ipynb\" target=\"_parent\"><img src=\"https://colab.research.google.com/assets/colab-badge.svg\" alt=\"Open In Colab\"/></a>"
      ]
    },
    {
      "cell_type": "markdown",
      "metadata": {
        "id": "JeKCNkO9tLPk"
      },
      "source": [
        "# ML - Week 1 LAB EXPERIMENTS - 24-Mar-2021\n",
        "# 18071A0591"
      ]
    },
    {
      "cell_type": "markdown",
      "metadata": {
        "id": "9kH2vrognc56"
      },
      "source": [
        "##1. Display Current Date and Time"
      ]
    },
    {
      "cell_type": "code",
      "metadata": {
        "colab": {
          "base_uri": "https://localhost:8080/"
        },
        "id": "I2uud_HrnEqL",
        "outputId": "7e4e9c35-a5d6-4cb7-dc75-7b6e9bd60557"
      },
      "source": [
        "from datetime import datetime\n",
        "\n",
        "now = datetime.now()\n",
        " \n",
        "print(\"now =\", now)\n",
        "dt_string = now.strftime(\"%d/%m/%Y %H:%M:%S\")\n",
        "\n",
        "print(\"date and time =\", dt_string)"
      ],
      "execution_count": null,
      "outputs": [
        {
          "output_type": "stream",
          "text": [
            "now = 2021-03-24 05:04:49.307073\n",
            "date and time = 24/03/2021 05:04:49\n"
          ],
          "name": "stdout"
        }
      ]
    },
    {
      "cell_type": "code",
      "metadata": {
        "colab": {
          "base_uri": "https://localhost:8080/"
        },
        "id": "v6xI0ABPt5IS",
        "outputId": "d7b0dfba-5c5a-483f-986e-efc794bf9cc5"
      },
      "source": [
        "import time;\n",
        "\n",
        "localtime = time.asctime( time.localtime(time.time()) )\n",
        "print(localtime)"
      ],
      "execution_count": null,
      "outputs": [
        {
          "output_type": "stream",
          "text": [
            "Wed Mar 24 05:32:31 2021\n"
          ],
          "name": "stdout"
        }
      ]
    },
    {
      "cell_type": "markdown",
      "metadata": {
        "id": "EY1aqN-vnyMI"
      },
      "source": [
        "##2. Compute Area of Circle"
      ]
    },
    {
      "cell_type": "code",
      "metadata": {
        "colab": {
          "base_uri": "https://localhost:8080/"
        },
        "id": "sWcuGvAYn8-G",
        "outputId": "42764c4d-1675-4c76-d40c-0b657b34b0f2"
      },
      "source": [
        "r = int(input(\"Enter Circle Radius: \"))\n",
        "ar = 3.14*r*r\n",
        "print(f\"Area of Circle is {ar}\")"
      ],
      "execution_count": null,
      "outputs": [
        {
          "output_type": "stream",
          "text": [
            "Enter Circle Radius: 3\n",
            "Area of Circle is 28.259999999999998\n"
          ],
          "name": "stdout"
        }
      ]
    },
    {
      "cell_type": "markdown",
      "metadata": {
        "id": "9ikz_NePotIK"
      },
      "source": [
        "##3. Display Details"
      ]
    },
    {
      "cell_type": "code",
      "metadata": {
        "colab": {
          "base_uri": "https://localhost:8080/"
        },
        "id": "UophB3mMozTi",
        "outputId": "4c72f634-9a34-4e65-f706-2a38a4036d63"
      },
      "source": [
        "name = \"MD ABDUL RAB\"\n",
        "age = \"20\"\n",
        "address = \"Hyderabad\"\n",
        "print(name)\n",
        "print(age)\n",
        "print(address)"
      ],
      "execution_count": null,
      "outputs": [
        {
          "output_type": "stream",
          "text": [
            "MD ABDUL RAB\n",
            "20\n",
            "Hyderabad\n"
          ],
          "name": "stdout"
        }
      ]
    },
    {
      "cell_type": "markdown",
      "metadata": {
        "id": "mP0GBK3IpIj2"
      },
      "source": [
        "##4. Distance between points P(x1,y1) and Q(x2,y2)"
      ]
    },
    {
      "cell_type": "code",
      "metadata": {
        "colab": {
          "base_uri": "https://localhost:8080/"
        },
        "id": "VZVX_JJwpGEn",
        "outputId": "4872d60e-ebe7-45b3-b6e0-5f61ffc1e602"
      },
      "source": [
        "x1 = int(input(\"Enter x-coordinate of Point P: \"))\n",
        "y1 = int(input(\"Enter y-coordinate of Point P: \"))\n",
        "x2 = int(input(\"Enter x-coordinate of Point Q: \"))\n",
        "y2 = int(input(\"Enter y-coordinate of Point Q: \"))\n",
        "d = math.sqrt( (abs(x1-x2)**2)+(abs(y1-y2)**2))\n",
        "print(\"Dist PQ = \",d)"
      ],
      "execution_count": null,
      "outputs": [
        {
          "output_type": "stream",
          "text": [
            "Enter x-coordinate of Point P: 1\n",
            "Enter y-coordinate of Point P: 2\n",
            "Enter x-coordinate of Point Q: 3\n",
            "Enter y-coordinate of Point Q: 4\n",
            "Dist PQ =  2.8284271247461903\n"
          ],
          "name": "stdout"
        }
      ]
    },
    {
      "cell_type": "markdown",
      "metadata": {
        "id": "NbCV1Gq-qR4J"
      },
      "source": [
        "##5. Largest no in list"
      ]
    },
    {
      "cell_type": "code",
      "metadata": {
        "colab": {
          "base_uri": "https://localhost:8080/"
        },
        "id": "ce2RDJiAqV53",
        "outputId": "33a06cbc-703b-4899-ee73-ccc193eb767c"
      },
      "source": [
        "print(\"Enter and arbitrary length list: \")\n",
        "l = list(map(int,input().split()))\n",
        "print(\"Largest no. in list is: \",max(l))"
      ],
      "execution_count": null,
      "outputs": [
        {
          "output_type": "stream",
          "text": [
            "Enter and arbitrary length list: \n",
            "1 2 3 8 5 4 7 6\n",
            "Largest no. in list is:  8\n"
          ],
          "name": "stdout"
        }
      ]
    },
    {
      "cell_type": "markdown",
      "metadata": {
        "id": "K-uC27qwqnqo"
      },
      "source": [
        "##6. Smallest no. in list"
      ]
    },
    {
      "cell_type": "code",
      "metadata": {
        "colab": {
          "base_uri": "https://localhost:8080/"
        },
        "id": "eMzPx4d7qrHv",
        "outputId": "77c0da20-3cc9-4bab-de2a-92b637dbb630"
      },
      "source": [
        "print(\"Enter and arbitrary length list: \")\n",
        "l = list(map(int,input().split()))\n",
        "print(\"Smallest no. in list is: \",min(l))"
      ],
      "execution_count": null,
      "outputs": [
        {
          "output_type": "stream",
          "text": [
            "Enter and arbitrary length list: \n",
            "1 2 6 3 6 0 4 2\n",
            "Smallest no. in list is:  0\n"
          ],
          "name": "stdout"
        }
      ]
    },
    {
      "cell_type": "markdown",
      "metadata": {
        "id": "HcQjM9vqqxxZ"
      },
      "source": [
        "##7. Get list sorted in inc order by last element in each tuple from given list of non-empty tuples\n"
      ]
    },
    {
      "cell_type": "code",
      "metadata": {
        "colab": {
          "base_uri": "https://localhost:8080/"
        },
        "id": "ONbUcHK_rDtO",
        "outputId": "71105694-396f-4513-a150-915411f9c845"
      },
      "source": [
        "l = [(2,5),(1,2),(4,4),(2,3),(2,1)]\n",
        "\n",
        "def end(n): \n",
        "  return n[-1]\n",
        "\n",
        "def sort_tuples_list(t):\n",
        "  return sorted(t, key=end)\n",
        "\n",
        "print(sort_tuples_list(l))"
      ],
      "execution_count": null,
      "outputs": [
        {
          "output_type": "stream",
          "text": [
            "[(2, 1), (1, 2), (2, 3), (4, 4), (2, 5)]\n"
          ],
          "name": "stdout"
        }
      ]
    },
    {
      "cell_type": "markdown",
      "metadata": {
        "id": "_Z4Z1FxCr9mI"
      },
      "source": [
        "##8. Find max of 3 no's"
      ]
    },
    {
      "cell_type": "code",
      "metadata": {
        "colab": {
          "base_uri": "https://localhost:8080/"
        },
        "id": "JDJjEczBsDfw",
        "outputId": "24bd54d1-15fa-421e-89a3-233aed6a72a6"
      },
      "source": [
        "print(\"Enter 3 no's:\")\n",
        "a,b,c = map(int,input().split())\n",
        "print(\"MAX = \",max(max(a,b),c))"
      ],
      "execution_count": null,
      "outputs": [
        {
          "output_type": "stream",
          "text": [
            "Enter 3 no's:\n",
            "3 8 1\n",
            "MAX =  8\n"
          ],
          "name": "stdout"
        }
      ]
    },
    {
      "cell_type": "markdown",
      "metadata": {
        "id": "mHI9t8SwsUwx"
      },
      "source": [
        "##9. Reverse String"
      ]
    },
    {
      "cell_type": "code",
      "metadata": {
        "colab": {
          "base_uri": "https://localhost:8080/"
        },
        "id": "LbZDKrjcsXcB",
        "outputId": "0b905f0e-b0de-4e87-a04a-e3df553b1087"
      },
      "source": [
        "s = input(\"Enter String: \")\n",
        "print(\"Reverse of string is: \",s[::-1])"
      ],
      "execution_count": null,
      "outputs": [
        {
          "output_type": "stream",
          "text": [
            "Enter String: abdulrab\n",
            "Reverse of string is:  barludba\n"
          ],
          "name": "stdout"
        }
      ]
    },
    {
      "cell_type": "markdown",
      "metadata": {
        "id": "Y8o5cEnqshqh"
      },
      "source": [
        "##10. Print even no's in list"
      ]
    },
    {
      "cell_type": "code",
      "metadata": {
        "colab": {
          "base_uri": "https://localhost:8080/"
        },
        "id": "glhLXvkKsl2w",
        "outputId": "552f8e2e-069c-4624-d2e6-77438de6aff3"
      },
      "source": [
        "print(\"Enter a list: \")\n",
        "l = list(map(int,input().split()))\n",
        "\n",
        "def printEven(a):\n",
        "  for i in range(len(a)):\n",
        "    if a[i]%2==0: print(a[i],end= \" \")\n",
        "\n",
        "printEven(l)\n"
      ],
      "execution_count": null,
      "outputs": [
        {
          "output_type": "stream",
          "text": [
            "Enter a list: \n",
            "1 2 3 4 6 5 8 7\n",
            "2 4 6 8 "
          ],
          "name": "stdout"
        }
      ]
    },
    {
      "cell_type": "code",
      "metadata": {
        "colab": {
          "base_uri": "https://localhost:8080/"
        },
        "id": "2aKbQ_tCBkH6",
        "outputId": "09150c8d-adfc-41bc-8749-4cf45f5d9bff"
      },
      "source": [
        "for i in range(1,6):\n",
        "  print('* '*i)"
      ],
      "execution_count": null,
      "outputs": [
        {
          "output_type": "stream",
          "text": [
            "* \n",
            "* * \n",
            "* * * \n",
            "* * * * \n",
            "* * * * * \n"
          ],
          "name": "stdout"
        }
      ]
    },
    {
      "cell_type": "code",
      "metadata": {
        "colab": {
          "base_uri": "https://localhost:8080/"
        },
        "id": "TC0WoXEUBkgI",
        "outputId": "6c148bf7-b699-4d93-f703-0edb71b9f205"
      },
      "source": [
        "for i in range(1,6):\n",
        "  print('  '*(5-i),' *'*i)"
      ],
      "execution_count": null,
      "outputs": [
        {
          "output_type": "stream",
          "text": [
            "          *\n",
            "        * *\n",
            "      * * *\n",
            "    * * * *\n",
            "  * * * * *\n"
          ],
          "name": "stdout"
        }
      ]
    },
    {
      "cell_type": "code",
      "metadata": {
        "colab": {
          "base_uri": "https://localhost:8080/"
        },
        "id": "d40HQOp4CCOU",
        "outputId": "107b1e68-296f-4e01-f1fe-cb2ac6e0095c"
      },
      "source": [
        "for i in range(5,0,-1):\n",
        "  print((str(i)+' ')*i)"
      ],
      "execution_count": null,
      "outputs": [
        {
          "output_type": "stream",
          "text": [
            "5 5 5 5 5 \n",
            "4 4 4 4 \n",
            "3 3 3 \n",
            "2 2 \n",
            "1 \n"
          ],
          "name": "stdout"
        }
      ]
    },
    {
      "cell_type": "code",
      "metadata": {
        "colab": {
          "base_uri": "https://localhost:8080/"
        },
        "id": "oGfudzhzCTZB",
        "outputId": "f5b08c94-385e-4b90-e992-93b3aae5f078"
      },
      "source": [
        "for i in range(5,0,-1):\n",
        "  j = i\n",
        "  k = i\n",
        "  while k > 0:\n",
        "    print(j, end=\" \")\n",
        "    j+=1 \n",
        "    k-=1\n",
        "  print()"
      ],
      "execution_count": null,
      "outputs": [
        {
          "output_type": "stream",
          "text": [
            "5 6 7 8 9 \n",
            "4 5 6 7 \n",
            "3 4 5 \n",
            "2 3 \n",
            "1 \n"
          ],
          "name": "stdout"
        }
      ]
    },
    {
      "cell_type": "markdown",
      "metadata": {
        "id": "4VoW1VVCEEdR"
      },
      "source": [
        ""
      ]
    },
    {
      "cell_type": "code",
      "metadata": {
        "colab": {
          "base_uri": "https://localhost:8080/"
        },
        "id": "rc-y6EsolEGk",
        "outputId": "286760d3-8d4b-4a60-fc6d-bb62bf06a417"
      },
      "source": [
        "n = 3\n",
        "a = 1 \n",
        "b = n * n + 1\n",
        "\n",
        "for i in range(n, -1, -1):\n",
        "  for j in range(n, i-1, -1):\n",
        "    print(\" \", end =\"\")\n",
        "\n",
        "  for j in range(1, i + 1):\n",
        "    print(str(a)+\"*\", end =\"\")\n",
        "    a += 1\n",
        "\n",
        "  for j in range(1, i + 1):\n",
        "    print(b, end =\"\")\n",
        "    if j < i:\n",
        "        print(\"*\", end =\"\")\n",
        "    b += 1\n",
        "\n",
        "  b = b - (i - 1) * 2 - 1\n",
        "  print()"
      ],
      "execution_count": null,
      "outputs": [
        {
          "output_type": "stream",
          "text": [
            " 1*2*3*10*11*12\n",
            "  4*5*8*9\n",
            "   6*7\n",
            "    \n"
          ],
          "name": "stdout"
        }
      ]
    }
  ]
}