{
  "nbformat": 4,
  "nbformat_minor": 0,
  "metadata": {
    "colab": {
      "name": "ML-Week2.ipynb",
      "provenance": [],
      "collapsed_sections": [],
      "authorship_tag": "ABX9TyMtUe3BcJg7Z8UQnIg97JwH",
      "include_colab_link": true
    },
    "kernelspec": {
      "name": "python3",
      "display_name": "Python 3"
    },
    "language_info": {
      "name": "python"
    }
  },
  "cells": [
    {
      "cell_type": "markdown",
      "metadata": {
        "id": "view-in-github",
        "colab_type": "text"
      },
      "source": [
        "<a href=\"https://colab.research.google.com/github/mohdrab01/Machine-Learning-Lab-Tasks/blob/main/ML_Week2.ipynb\" target=\"_parent\"><img src=\"https://colab.research.google.com/assets/colab-badge.svg\" alt=\"Open In Colab\"/></a>"
      ]
    },
    {
      "cell_type": "markdown",
      "metadata": {
        "id": "aHApixw4tlI9"
      },
      "source": [
        "\n",
        "# ML - Week 2 LAB - 31-Mar-2021\n",
        "# 18071A0591\n",
        "\n",
        "\n"
      ]
    },
    {
      "cell_type": "markdown",
      "metadata": {
        "id": "KNHns_anzmgC"
      },
      "source": [
        "## 1. List"
      ]
    },
    {
      "cell_type": "code",
      "metadata": {
        "colab": {
          "base_uri": "https://localhost:8080/"
        },
        "id": "VOp-BPFBzl3i",
        "outputId": "6e3a5b91-c688-40ba-81bf-16006f1e22f5"
      },
      "source": [
        "l = [12,8,7,5]\n",
        "print(max(min(l[:2]),abs(-6)))"
      ],
      "execution_count": null,
      "outputs": [
        {
          "output_type": "stream",
          "text": [
            "8\n"
          ],
          "name": "stdout"
        }
      ]
    },
    {
      "cell_type": "markdown",
      "metadata": {
        "id": "9WpEJ4nRz0TD"
      },
      "source": [
        "##2. Functions"
      ]
    },
    {
      "cell_type": "code",
      "metadata": {
        "id": "F2lTduhpz2r1"
      },
      "source": [
        "def hello():\n",
        "  print(\"Hello World\") \n",
        "  return "
      ],
      "execution_count": null,
      "outputs": []
    },
    {
      "cell_type": "code",
      "metadata": {
        "colab": {
          "base_uri": "https://localhost:8080/"
        },
        "id": "T_OHUWe4z7NL",
        "outputId": "adb7d615-1540-4c08-cdb2-15dde5ffd288"
      },
      "source": [
        "def hello():\n",
        "  print(\"Hello World\") \n",
        "  return \n",
        "hello()"
      ],
      "execution_count": null,
      "outputs": [
        {
          "output_type": "stream",
          "text": [
            "Hello World\n"
          ],
          "name": "stdout"
        }
      ]
    },
    {
      "cell_type": "markdown",
      "metadata": {
        "id": "FUBocTnt0HAd"
      },
      "source": [
        "## 3. Sets and Various Set Operations"
      ]
    },
    {
      "cell_type": "code",
      "metadata": {
        "id": "QCvkAcy2sq6_"
      },
      "source": [
        "A = {'a','b','c',6,7,8,3,4,5,6}\n",
        "B = {1,2,3}"
      ],
      "execution_count": null,
      "outputs": []
    },
    {
      "cell_type": "code",
      "metadata": {
        "colab": {
          "base_uri": "https://localhost:8080/"
        },
        "id": "UDoY7Jlxswft",
        "outputId": "e7eaa463-2ee4-41bf-b1ae-8bde498f2cda"
      },
      "source": [
        "print(\"Union :\", A | B)"
      ],
      "execution_count": null,
      "outputs": [
        {
          "output_type": "stream",
          "text": [
            "Union : {1, 2, 3, 4, 5, 6, 7, 'b', 8, 'c', 'a'}\n"
          ],
          "name": "stdout"
        }
      ]
    },
    {
      "cell_type": "code",
      "metadata": {
        "colab": {
          "base_uri": "https://localhost:8080/"
        },
        "id": "18tTVSrWsxVS",
        "outputId": "e61871c9-a3d9-41f8-c3b9-2dc60776d958"
      },
      "source": [
        "print(\"Intersection :\", A & B)"
      ],
      "execution_count": null,
      "outputs": [
        {
          "output_type": "stream",
          "text": [
            "Intersection : {3}\n"
          ],
          "name": "stdout"
        }
      ]
    },
    {
      "cell_type": "code",
      "metadata": {
        "colab": {
          "base_uri": "https://localhost:8080/"
        },
        "id": "aIUtLZoDsyQM",
        "outputId": "0ac81922-6127-43fa-91e6-89a12ad917ca"
      },
      "source": [
        "print(\"Difference :\", A - B)"
      ],
      "execution_count": null,
      "outputs": [
        {
          "output_type": "stream",
          "text": [
            "Difference : {4, 5, 6, 7, 'b', 8, 'c', 'a'}\n"
          ],
          "name": "stdout"
        }
      ]
    },
    {
      "cell_type": "code",
      "metadata": {
        "colab": {
          "base_uri": "https://localhost:8080/"
        },
        "id": "PGx33PZ8szZ7",
        "outputId": "98a03aec-056a-4125-d18a-916a8691e95e"
      },
      "source": [
        "print(\"Symmetric difference :\", A ^ B)"
      ],
      "execution_count": null,
      "outputs": [
        {
          "output_type": "stream",
          "text": [
            "Symmetric difference : {1, 2, 4, 5, 6, 7, 'b', 8, 'c', 'a'}\n"
          ],
          "name": "stdout"
        }
      ]
    },
    {
      "cell_type": "code",
      "metadata": {
        "colab": {
          "base_uri": "https://localhost:8080/"
        },
        "id": "Yvg3C-3Bs1fS",
        "outputId": "98320642-308e-46f7-cc5c-bfb27656d064"
      },
      "source": [
        "A.add('d')\n",
        "A"
      ],
      "execution_count": null,
      "outputs": [
        {
          "output_type": "execute_result",
          "data": {
            "text/plain": [
              "{3, 4, 5, 6, 7, 8, 'a', 'b', 'c', 'd'}"
            ]
          },
          "metadata": {
            "tags": []
          },
          "execution_count": 6
        }
      ]
    },
    {
      "cell_type": "code",
      "metadata": {
        "colab": {
          "base_uri": "https://localhost:8080/"
        },
        "id": "A3asWxV1s2oD",
        "outputId": "4e4a78c6-1878-4e77-a656-01002dc2750d"
      },
      "source": [
        "A.discard('a')\n",
        "A"
      ],
      "execution_count": null,
      "outputs": [
        {
          "output_type": "execute_result",
          "data": {
            "text/plain": [
              "{3, 4, 5, 6, 7, 8, 'b', 'c', 'd'}"
            ]
          },
          "metadata": {
            "tags": []
          },
          "execution_count": 7
        }
      ]
    },
    {
      "cell_type": "code",
      "metadata": {
        "colab": {
          "base_uri": "https://localhost:8080/"
        },
        "id": "jTKHkct2s3uy",
        "outputId": "5435eb16-b228-4a59-a568-55817c9f9f5b"
      },
      "source": [
        "A.difference(B)"
      ],
      "execution_count": null,
      "outputs": [
        {
          "output_type": "execute_result",
          "data": {
            "text/plain": [
              "{4, 5, 6, 7, 8, 'b', 'c', 'd'}"
            ]
          },
          "metadata": {
            "tags": []
          },
          "execution_count": 8
        }
      ]
    },
    {
      "cell_type": "code",
      "metadata": {
        "colab": {
          "base_uri": "https://localhost:8080/"
        },
        "id": "a9IcUWIts5NS",
        "outputId": "90a3c737-b426-403f-f907-e2b8ad44a0b5"
      },
      "source": [
        "A.difference_update(B)\n",
        "A"
      ],
      "execution_count": null,
      "outputs": [
        {
          "output_type": "execute_result",
          "data": {
            "text/plain": [
              "{4, 5, 6, 7, 8, 'b', 'c', 'd'}"
            ]
          },
          "metadata": {
            "tags": []
          },
          "execution_count": 9
        }
      ]
    },
    {
      "cell_type": "code",
      "metadata": {
        "colab": {
          "base_uri": "https://localhost:8080/"
        },
        "id": "yqEtGwg8s686",
        "outputId": "70e5bbad-aed9-4aef-b81e-e8b4af800bdc"
      },
      "source": [
        "A.symmetric_difference(B)"
      ],
      "execution_count": null,
      "outputs": [
        {
          "output_type": "execute_result",
          "data": {
            "text/plain": [
              "{1, 2, 3, 4, 5, 6, 7, 8, 'b', 'c', 'd'}"
            ]
          },
          "metadata": {
            "tags": []
          },
          "execution_count": 10
        }
      ]
    },
    {
      "cell_type": "code",
      "metadata": {
        "colab": {
          "base_uri": "https://localhost:8080/"
        },
        "id": "M6zaY7p_s74d",
        "outputId": "e883ec6c-8a46-4f25-fb9b-cb4e53a110ac"
      },
      "source": [
        "A.symmetric_difference_update(B)\n",
        "A"
      ],
      "execution_count": null,
      "outputs": [
        {
          "output_type": "execute_result",
          "data": {
            "text/plain": [
              "{1, 2, 3, 4, 5, 6, 7, 8, 'b', 'c', 'd'}"
            ]
          },
          "metadata": {
            "tags": []
          },
          "execution_count": 11
        }
      ]
    },
    {
      "cell_type": "code",
      "metadata": {
        "colab": {
          "base_uri": "https://localhost:8080/"
        },
        "id": "MAx1MHBOs-rb",
        "outputId": "a752f354-5dc0-49ee-93b5-bb54dd0063fc"
      },
      "source": [
        "A.union(B)"
      ],
      "execution_count": null,
      "outputs": [
        {
          "output_type": "execute_result",
          "data": {
            "text/plain": [
              "{1, 2, 3, 4, 5, 6, 7, 8, 'b', 'c', 'd'}"
            ]
          },
          "metadata": {
            "tags": []
          },
          "execution_count": 12
        }
      ]
    },
    {
      "cell_type": "code",
      "metadata": {
        "colab": {
          "base_uri": "https://localhost:8080/"
        },
        "id": "Lh6bKC7Ns_rK",
        "outputId": "2828109b-7541-481f-a854-ab463ea51d8f"
      },
      "source": [
        "A.isdisjoint(B)"
      ],
      "execution_count": null,
      "outputs": [
        {
          "output_type": "execute_result",
          "data": {
            "text/plain": [
              "False"
            ]
          },
          "metadata": {
            "tags": []
          },
          "execution_count": 13
        }
      ]
    },
    {
      "cell_type": "code",
      "metadata": {
        "id": "1MaIE90gtApp"
      },
      "source": [
        "C = {1,2,3,4}"
      ],
      "execution_count": null,
      "outputs": []
    },
    {
      "cell_type": "code",
      "metadata": {
        "colab": {
          "base_uri": "https://localhost:8080/"
        },
        "id": "XFkMH2dntBma",
        "outputId": "c879edba-7595-4988-c12d-ca424a63e961"
      },
      "source": [
        "C.issubset(A)"
      ],
      "execution_count": null,
      "outputs": [
        {
          "output_type": "execute_result",
          "data": {
            "text/plain": [
              "True"
            ]
          },
          "metadata": {
            "tags": []
          },
          "execution_count": 15
        }
      ]
    },
    {
      "cell_type": "code",
      "metadata": {
        "colab": {
          "base_uri": "https://localhost:8080/"
        },
        "id": "8t9zxW-6uEv0",
        "outputId": "759fe498-10a8-4aad-ce46-84c33942fece"
      },
      "source": [
        "A_l = list(A) # Sets to List\n",
        "A_l"
      ],
      "execution_count": null,
      "outputs": [
        {
          "output_type": "execute_result",
          "data": {
            "text/plain": [
              "[1, 2, 3, 4, 5, 6, 7, 'b', 8, 'c', 'd']"
            ]
          },
          "metadata": {
            "tags": []
          },
          "execution_count": 20
        }
      ]
    },
    {
      "cell_type": "code",
      "metadata": {
        "colab": {
          "base_uri": "https://localhost:8080/"
        },
        "id": "nSYTLMK5t3mK",
        "outputId": "df125160-86ad-4dae-9af5-49619c024f0e"
      },
      "source": [
        "A_t = tuple(A) #Sets to Tuple\n",
        "A_t"
      ],
      "execution_count": null,
      "outputs": [
        {
          "output_type": "execute_result",
          "data": {
            "text/plain": [
              "(1, 2, 3, 4, 5, 6, 7, 'b', 8, 'c', 'd')"
            ]
          },
          "metadata": {
            "tags": []
          },
          "execution_count": 19
        }
      ]
    },
    {
      "cell_type": "markdown",
      "metadata": {
        "id": "-0bGBXIA0NzQ"
      },
      "source": [
        "## 4. Conditions, Loops, Continue and Break"
      ]
    },
    {
      "cell_type": "code",
      "metadata": {
        "colab": {
          "base_uri": "https://localhost:8080/"
        },
        "id": "l5laX_xvtDYM",
        "outputId": "63204fd2-767e-4718-e79a-582aa3941ba5"
      },
      "source": [
        "i=0\n",
        "while i<10:\n",
        "  i+=1\n",
        "  if i==5:\n",
        "    continue\n",
        "  print(i)"
      ],
      "execution_count": null,
      "outputs": [
        {
          "output_type": "stream",
          "text": [
            "1\n",
            "2\n",
            "3\n",
            "4\n",
            "6\n",
            "7\n",
            "8\n",
            "9\n",
            "10\n"
          ],
          "name": "stdout"
        }
      ]
    },
    {
      "cell_type": "markdown",
      "metadata": {
        "id": "jZkz-g1G0fHr"
      },
      "source": [
        "##5. Numpy array"
      ]
    },
    {
      "cell_type": "code",
      "metadata": {
        "id": "iyYq5yCGuKfK"
      },
      "source": [
        "import numpy as np"
      ],
      "execution_count": null,
      "outputs": []
    },
    {
      "cell_type": "code",
      "metadata": {
        "colab": {
          "base_uri": "https://localhost:8080/"
        },
        "id": "tEd8-bPXxI02",
        "outputId": "27df7e34-5ab8-4029-92d2-9d8770199e3f"
      },
      "source": [
        "np.array([.0,.0,.0,.0,.0,.0])"
      ],
      "execution_count": null,
      "outputs": [
        {
          "output_type": "execute_result",
          "data": {
            "text/plain": [
              "array([0., 0., 0., 0., 0., 0.])"
            ]
          },
          "metadata": {
            "tags": []
          },
          "execution_count": 22
        }
      ]
    },
    {
      "cell_type": "markdown",
      "metadata": {
        "id": "8MPHXJ440-eK"
      },
      "source": [
        "## 6. Type function"
      ]
    },
    {
      "cell_type": "code",
      "metadata": {
        "colab": {
          "base_uri": "https://localhost:8080/"
        },
        "id": "rIffLTCkxPBO",
        "outputId": "de5c99c4-e416-4d26-8443-76e2964a8045"
      },
      "source": [
        "num = '12'\n",
        "print(type(num))"
      ],
      "execution_count": null,
      "outputs": [
        {
          "output_type": "stream",
          "text": [
            "<class 'str'>\n"
          ],
          "name": "stdout"
        }
      ]
    },
    {
      "cell_type": "markdown",
      "metadata": {
        "id": "mFaBZyAy1CaS"
      },
      "source": [
        "## 7. String Slicing"
      ]
    },
    {
      "cell_type": "code",
      "metadata": {
        "colab": {
          "base_uri": "https://localhost:8080/",
          "height": 35
        },
        "id": "YrIQOiU2xaZ7",
        "outputId": "54bb0810-49bc-4695-be6e-c3aaa383a4cf"
      },
      "source": [
        "x = 'Hello, world!'\n",
        "x[3:]"
      ],
      "execution_count": null,
      "outputs": [
        {
          "output_type": "execute_result",
          "data": {
            "application/vnd.google.colaboratory.intrinsic+json": {
              "type": "string"
            },
            "text/plain": [
              "'lo, world!'"
            ]
          },
          "metadata": {
            "tags": []
          },
          "execution_count": 24
        }
      ]
    },
    {
      "cell_type": "markdown",
      "metadata": {
        "id": "FRZjTFuI1Gxh"
      },
      "source": [
        "## 8. Function"
      ]
    },
    {
      "cell_type": "code",
      "metadata": {
        "colab": {
          "base_uri": "https://localhost:8080/"
        },
        "id": "fcC1_FpKxaVB",
        "outputId": "7db2c211-5344-4f64-c811-b65831f961e7"
      },
      "source": [
        "x= 1\n",
        "def fun():\n",
        "  x=2\n",
        "  print(x)\n",
        "fun()\n",
        "print(x)"
      ],
      "execution_count": null,
      "outputs": [
        {
          "output_type": "stream",
          "text": [
            "2\n",
            "1\n"
          ],
          "name": "stdout"
        }
      ]
    },
    {
      "cell_type": "code",
      "metadata": {
        "colab": {
          "base_uri": "https://localhost:8080/"
        },
        "id": "Bfl3G1oPy9AU",
        "outputId": "e33d9606-0185-46b2-e50a-d89ff238b88a"
      },
      "source": [
        "x = 1\n",
        "def fun():\n",
        "  x = 2\n",
        "  print(x)\n",
        "print(x)\n",
        "fun()\n",
        "print(x)"
      ],
      "execution_count": null,
      "outputs": [
        {
          "output_type": "stream",
          "text": [
            "1\n",
            "2\n",
            "1\n"
          ],
          "name": "stdout"
        }
      ]
    },
    {
      "cell_type": "markdown",
      "metadata": {
        "id": "RNpfGBcq1LkQ"
      },
      "source": [
        "##9. Differcence b/w '=' and 'is'"
      ]
    },
    {
      "cell_type": "code",
      "metadata": {
        "colab": {
          "base_uri": "https://localhost:8080/"
        },
        "id": "mZTeI_FlzvG4",
        "outputId": "32c573cf-5f41-45a6-aa04-f392095a19c3"
      },
      "source": [
        "2==2.0"
      ],
      "execution_count": null,
      "outputs": [
        {
          "output_type": "execute_result",
          "data": {
            "text/plain": [
              "True"
            ]
          },
          "metadata": {
            "tags": []
          },
          "execution_count": 27
        }
      ]
    },
    {
      "cell_type": "code",
      "metadata": {
        "colab": {
          "base_uri": "https://localhost:8080/"
        },
        "id": "Y1lgcz5gzxnE",
        "outputId": "8da53e56-4051-478a-beca-5915ef2736ff"
      },
      "source": [
        "2 is 2.0"
      ],
      "execution_count": null,
      "outputs": [
        {
          "output_type": "execute_result",
          "data": {
            "text/plain": [
              "False"
            ]
          },
          "metadata": {
            "tags": []
          },
          "execution_count": 28
        }
      ]
    },
    {
      "cell_type": "markdown",
      "metadata": {
        "id": "94fQ9KNa1Sw7"
      },
      "source": [
        "##10. Bubble Sort"
      ]
    },
    {
      "cell_type": "code",
      "metadata": {
        "colab": {
          "base_uri": "https://localhost:8080/"
        },
        "id": "sA4-zFHfzzuC",
        "outputId": "2f7188af-fbf8-43db-882d-5ba2ea7b6967"
      },
      "source": [
        "def bsort(a):\n",
        "  n = len(a)\n",
        "  for i in range(n-1):\n",
        "    for j in range(n-i-1):\n",
        "      if a[j]>a[j+1]:\n",
        "        a[j],a[j+1]=a[j+1],a[j]\n"
      ],
      "execution_count": null,
      "outputs": [
        {
          "output_type": "execute_result",
          "data": {
            "text/plain": [
              "[0, 1, 2, 3, 4, 6, 7, 9]"
            ]
          },
          "metadata": {
            "tags": []
          },
          "execution_count": 29
        }
      ]
    },
    {
      "cell_type": "code",
      "metadata": {
        "id": "A_r9c0RP1Vnq"
      },
      "source": [
        "a = [6,2,3,1,7,4,9,0]\n",
        "bsort(a)\n",
        "a"
      ],
      "execution_count": null,
      "outputs": []
    },
    {
      "cell_type": "code",
      "metadata": {
        "colab": {
          "base_uri": "https://localhost:8080/"
        },
        "id": "VyTrw_J91Wdn",
        "outputId": "ed220c64-f74e-4a3f-c2e1-ff77c9025133"
      },
      "source": [
        "b = list(map(int,input().split()))\n",
        "bsort(b)\n",
        "b"
      ],
      "execution_count": null,
      "outputs": [
        {
          "output_type": "stream",
          "text": [
            "6 2 3 1 7 4 9 0\n"
          ],
          "name": "stdout"
        },
        {
          "output_type": "execute_result",
          "data": {
            "text/plain": [
              "[0, 1, 2, 3, 4, 6, 7, 9]"
            ]
          },
          "metadata": {
            "tags": []
          },
          "execution_count": 30
        }
      ]
    },
    {
      "cell_type": "markdown",
      "metadata": {
        "id": "YrNq-ZBs1X4A"
      },
      "source": [
        "##11. Find mean, median, std, mode, low,high, by importing the statistics module"
      ]
    },
    {
      "cell_type": "code",
      "metadata": {
        "id": "nidBEXfQ2gOk"
      },
      "source": [
        "import pandas as pd"
      ],
      "execution_count": null,
      "outputs": []
    },
    {
      "cell_type": "code",
      "metadata": {
        "colab": {
          "base_uri": "https://localhost:8080/",
          "height": 266
        },
        "id": "mSjs46vx2j0D",
        "outputId": "9e2fd163-6688-4f30-c995-e31b13a8d0f8"
      },
      "source": [
        "df = pd.DataFrame([5,2,7,4,2,6,8])\n",
        "df"
      ],
      "execution_count": null,
      "outputs": [
        {
          "output_type": "execute_result",
          "data": {
            "text/html": [
              "<div>\n",
              "<style scoped>\n",
              "    .dataframe tbody tr th:only-of-type {\n",
              "        vertical-align: middle;\n",
              "    }\n",
              "\n",
              "    .dataframe tbody tr th {\n",
              "        vertical-align: top;\n",
              "    }\n",
              "\n",
              "    .dataframe thead th {\n",
              "        text-align: right;\n",
              "    }\n",
              "</style>\n",
              "<table border=\"1\" class=\"dataframe\">\n",
              "  <thead>\n",
              "    <tr style=\"text-align: right;\">\n",
              "      <th></th>\n",
              "      <th>0</th>\n",
              "    </tr>\n",
              "  </thead>\n",
              "  <tbody>\n",
              "    <tr>\n",
              "      <th>0</th>\n",
              "      <td>5</td>\n",
              "    </tr>\n",
              "    <tr>\n",
              "      <th>1</th>\n",
              "      <td>2</td>\n",
              "    </tr>\n",
              "    <tr>\n",
              "      <th>2</th>\n",
              "      <td>7</td>\n",
              "    </tr>\n",
              "    <tr>\n",
              "      <th>3</th>\n",
              "      <td>4</td>\n",
              "    </tr>\n",
              "    <tr>\n",
              "      <th>4</th>\n",
              "      <td>2</td>\n",
              "    </tr>\n",
              "    <tr>\n",
              "      <th>5</th>\n",
              "      <td>6</td>\n",
              "    </tr>\n",
              "    <tr>\n",
              "      <th>6</th>\n",
              "      <td>8</td>\n",
              "    </tr>\n",
              "  </tbody>\n",
              "</table>\n",
              "</div>"
            ],
            "text/plain": [
              "   0\n",
              "0  5\n",
              "1  2\n",
              "2  7\n",
              "3  4\n",
              "4  2\n",
              "5  6\n",
              "6  8"
            ]
          },
          "metadata": {
            "tags": []
          },
          "execution_count": 35
        }
      ]
    },
    {
      "cell_type": "code",
      "metadata": {
        "colab": {
          "base_uri": "https://localhost:8080/"
        },
        "id": "KPkb_kAG3Gk5",
        "outputId": "0d6a0265-be0b-4711-a61b-d46bf6e6001f"
      },
      "source": [
        "df.mean()"
      ],
      "execution_count": null,
      "outputs": [
        {
          "output_type": "execute_result",
          "data": {
            "text/plain": [
              "0    4.857143\n",
              "dtype: float64"
            ]
          },
          "metadata": {
            "tags": []
          },
          "execution_count": 36
        }
      ]
    },
    {
      "cell_type": "code",
      "metadata": {
        "colab": {
          "base_uri": "https://localhost:8080/"
        },
        "id": "3AdV6ggM3IsC",
        "outputId": "61881a2c-9c9a-4636-f205-c77a4f4c2a1a"
      },
      "source": [
        "df.median()"
      ],
      "execution_count": null,
      "outputs": [
        {
          "output_type": "execute_result",
          "data": {
            "text/plain": [
              "0    5.0\n",
              "dtype: float64"
            ]
          },
          "metadata": {
            "tags": []
          },
          "execution_count": 37
        }
      ]
    },
    {
      "cell_type": "code",
      "metadata": {
        "colab": {
          "base_uri": "https://localhost:8080/"
        },
        "id": "PNyIAqDP3LD3",
        "outputId": "bbebde5d-4a61-4487-c487-9d00825c1c32"
      },
      "source": [
        "df.std()"
      ],
      "execution_count": null,
      "outputs": [
        {
          "output_type": "execute_result",
          "data": {
            "text/plain": [
              "0    2.340126\n",
              "dtype: float64"
            ]
          },
          "metadata": {
            "tags": []
          },
          "execution_count": 38
        }
      ]
    },
    {
      "cell_type": "code",
      "metadata": {
        "colab": {
          "base_uri": "https://localhost:8080/"
        },
        "id": "I6FrgTi_3NHj",
        "outputId": "5d9dcad3-6773-47da-d5b1-462bee961c96"
      },
      "source": [
        "df.min()"
      ],
      "execution_count": null,
      "outputs": [
        {
          "output_type": "execute_result",
          "data": {
            "text/plain": [
              "0    2\n",
              "dtype: int64"
            ]
          },
          "metadata": {
            "tags": []
          },
          "execution_count": 39
        }
      ]
    },
    {
      "cell_type": "code",
      "metadata": {
        "colab": {
          "base_uri": "https://localhost:8080/"
        },
        "id": "VPlY-Hhr3O4y",
        "outputId": "284ea86d-665e-4388-9450-b383ca9cde17"
      },
      "source": [
        "df.max()"
      ],
      "execution_count": null,
      "outputs": [
        {
          "output_type": "execute_result",
          "data": {
            "text/plain": [
              "0    8\n",
              "dtype: int64"
            ]
          },
          "metadata": {
            "tags": []
          },
          "execution_count": 40
        }
      ]
    },
    {
      "cell_type": "markdown",
      "metadata": {
        "id": "QMifW4Mi1hJ-"
      },
      "source": [
        "##12.Take the data of the different score percentages of the students from your class  and plot the histogram with respect to roll  number of student."
      ]
    },
    {
      "cell_type": "code",
      "metadata": {
        "colab": {
          "base_uri": "https://localhost:8080/",
          "height": 173
        },
        "id": "1YrlnBfU3R_9",
        "outputId": "1a013257-5322-4629-d2b5-f57a672c55aa"
      },
      "source": [
        "marks = pd.DataFrame([['A',90,99,100],\n",
        "                     ['B',99,70,90],\n",
        "                     ['C',50,65,55],\n",
        "                     ['D',100,100,100]])\n",
        "marks"
      ],
      "execution_count": null,
      "outputs": [
        {
          "output_type": "execute_result",
          "data": {
            "text/html": [
              "<div>\n",
              "<style scoped>\n",
              "    .dataframe tbody tr th:only-of-type {\n",
              "        vertical-align: middle;\n",
              "    }\n",
              "\n",
              "    .dataframe tbody tr th {\n",
              "        vertical-align: top;\n",
              "    }\n",
              "\n",
              "    .dataframe thead th {\n",
              "        text-align: right;\n",
              "    }\n",
              "</style>\n",
              "<table border=\"1\" class=\"dataframe\">\n",
              "  <thead>\n",
              "    <tr style=\"text-align: right;\">\n",
              "      <th></th>\n",
              "      <th>0</th>\n",
              "      <th>1</th>\n",
              "      <th>2</th>\n",
              "      <th>3</th>\n",
              "    </tr>\n",
              "  </thead>\n",
              "  <tbody>\n",
              "    <tr>\n",
              "      <th>0</th>\n",
              "      <td>A</td>\n",
              "      <td>90</td>\n",
              "      <td>99</td>\n",
              "      <td>100</td>\n",
              "    </tr>\n",
              "    <tr>\n",
              "      <th>1</th>\n",
              "      <td>B</td>\n",
              "      <td>99</td>\n",
              "      <td>70</td>\n",
              "      <td>90</td>\n",
              "    </tr>\n",
              "    <tr>\n",
              "      <th>2</th>\n",
              "      <td>C</td>\n",
              "      <td>50</td>\n",
              "      <td>65</td>\n",
              "      <td>55</td>\n",
              "    </tr>\n",
              "    <tr>\n",
              "      <th>3</th>\n",
              "      <td>D</td>\n",
              "      <td>100</td>\n",
              "      <td>100</td>\n",
              "      <td>100</td>\n",
              "    </tr>\n",
              "  </tbody>\n",
              "</table>\n",
              "</div>"
            ],
            "text/plain": [
              "   0    1    2    3\n",
              "0  A   90   99  100\n",
              "1  B   99   70   90\n",
              "2  C   50   65   55\n",
              "3  D  100  100  100"
            ]
          },
          "metadata": {
            "tags": []
          },
          "execution_count": 41
        }
      ]
    },
    {
      "cell_type": "code",
      "metadata": {
        "id": "gS1ZUG2A3vJ1"
      },
      "source": [
        "import matplotlib.pyplot as plt\n"
      ],
      "execution_count": null,
      "outputs": []
    },
    {
      "cell_type": "code",
      "metadata": {
        "colab": {
          "base_uri": "https://localhost:8080/",
          "height": 279
        },
        "id": "b8SabhYx4FH2",
        "outputId": "0498efee-5aa7-4bca-9df4-18ba738dde41"
      },
      "source": [
        "plt.plot(marks[0],marks[1])\n",
        "plt.xlabel(\"Student Name\")\n",
        "plt.ylabel(\"Sub 1 marks\")\n",
        "plt.show()"
      ],
      "execution_count": null,
      "outputs": [
        {
          "output_type": "display_data",
          "data": {
            "image/png": "[encoded data removed]",
            "text/plain": [
              "<Figure size 432x288 with 1 Axes>"
            ]
          },
          "metadata": {
            "tags": [],
            "needs_background": "light"
          }
        }
      ]
    },
    {
      "cell_type": "code",
      "metadata": {
        "colab": {
          "base_uri": "https://localhost:8080/",
          "height": 279
        },
        "id": "05vK8Li14cgL",
        "outputId": "4b262fc1-1ce2-4cc8-ab27-957140570ba3"
      },
      "source": [
        "plt.plot(marks[0],marks[2], linewidth = 2.0 )\n",
        "plt.xlabel(\"Student Name\")\n",
        "plt.ylabel(\"Sub 2 marks\")\n",
        "plt.show()"
      ],
      "execution_count": null,
      "outputs": [
        {
          "output_type": "display_data",
          "data": {
            "image/png": "[encoded data removed]",
            "text/plain": [
              "<Figure size 432x288 with 1 Axes>"
            ]
          },
          "metadata": {
            "tags": [],
            "needs_background": "light"
          }
        }
      ]
    },
    {
      "cell_type": "code",
      "metadata": {
        "colab": {
          "base_uri": "https://localhost:8080/",
          "height": 279
        },
        "id": "eFFBnLt_4fzU",
        "outputId": "5c498467-16f9-4e36-dd8f-a436e040af90"
      },
      "source": [
        "plt.plot(marks[0],marks[3], color = 'Red')\n",
        "plt.xlabel(\"Student Name\")\n",
        "plt.ylabel(\"Sub 3 marks\")\n",
        "plt.show()"
      ],
      "execution_count": null,
      "outputs": [
        {
          "output_type": "display_data",
          "data": {
            "image/png": "[encoded data removed]",
            "text/plain": [
              "<Figure size 432x288 with 1 Axes>"
            ]
          },
          "metadata": {
            "tags": [],
            "needs_background": "light"
          }
        }
      ]
    },
    {
      "cell_type": "code",
      "metadata": {
        "colab": {
          "base_uri": "https://localhost:8080/",
          "height": 225
        },
        "id": "K5Pr1F624kPz",
        "outputId": "ace6da28-9bb7-4601-97d8-23f7d7398bf8"
      },
      "source": [
        "plt.figure(figsize=(9, 3))\n",
        "\n",
        "plt.subplot(131)\n",
        "plt.bar(marks[0],marks[1])\n",
        "plt.xlabel(\"Student Name\")\n",
        "plt.ylabel(\"Sub 1 marks\")\n",
        "\n",
        "plt.subplot(132)\n",
        "plt.scatter(marks[0],marks[2],color = 'Red')\n",
        "plt.xlabel(\"Student Name\")\n",
        "plt.ylabel(\"Sub 2 marks\")\n",
        "\n",
        "plt.subplot(133)\n",
        "plt.plot(marks[0],marks[3], color = 'Green')\n",
        "plt.xlabel(\"Student Name\")\n",
        "plt.ylabel(\"Sub 3 marks\")\n",
        "\n",
        "plt.show()"
      ],
      "execution_count": null,
      "outputs": [
        {
          "output_type": "display_data",
          "data": {
            "image/png": "[encoded data removed]",
            "text/plain": [
              "<Figure size 648x216 with 3 Axes>"
            ]
          },
          "metadata": {
            "tags": [],
            "needs_background": "light"
          }
        }
      ]
    },
    {
      "cell_type": "code",
      "metadata": {
        "colab": {
          "base_uri": "https://localhost:8080/",
          "height": 514
        },
        "id": "b5Mg4sq38ELF",
        "outputId": "f6e4621d-7561-4805-cc66-ab4302a51d54"
      },
      "source": [
        "data = {'rollno':['91','92','93','94','95','96','97','98','99','A0','A1','A2','A3','A4','A5'],\n",
        "        'marks':[91,92,93,94,95,96,97,98,99,98,97,96,95,94,93]}\n",
        "\n",
        "score = pd.DataFrame(data, columns=['rollno','marks'])\n",
        "score"
      ],
      "execution_count": null,
      "outputs": [
        {
          "output_type": "execute_result",
          "data": {
            "text/html": [
              "<div>\n",
              "<style scoped>\n",
              "    .dataframe tbody tr th:only-of-type {\n",
              "        vertical-align: middle;\n",
              "    }\n",
              "\n",
              "    .dataframe tbody tr th {\n",
              "        vertical-align: top;\n",
              "    }\n",
              "\n",
              "    .dataframe thead th {\n",
              "        text-align: right;\n",
              "    }\n",
              "</style>\n",
              "<table border=\"1\" class=\"dataframe\">\n",
              "  <thead>\n",
              "    <tr style=\"text-align: right;\">\n",
              "      <th></th>\n",
              "      <th>rollno</th>\n",
              "      <th>marks</th>\n",
              "    </tr>\n",
              "  </thead>\n",
              "  <tbody>\n",
              "    <tr>\n",
              "      <th>0</th>\n",
              "      <td>91</td>\n",
              "      <td>91</td>\n",
              "    </tr>\n",
              "    <tr>\n",
              "      <th>1</th>\n",
              "      <td>92</td>\n",
              "      <td>92</td>\n",
              "    </tr>\n",
              "    <tr>\n",
              "      <th>2</th>\n",
              "      <td>93</td>\n",
              "      <td>93</td>\n",
              "    </tr>\n",
              "    <tr>\n",
              "      <th>3</th>\n",
              "      <td>94</td>\n",
              "      <td>94</td>\n",
              "    </tr>\n",
              "    <tr>\n",
              "      <th>4</th>\n",
              "      <td>95</td>\n",
              "      <td>95</td>\n",
              "    </tr>\n",
              "    <tr>\n",
              "      <th>5</th>\n",
              "      <td>96</td>\n",
              "      <td>96</td>\n",
              "    </tr>\n",
              "    <tr>\n",
              "      <th>6</th>\n",
              "      <td>97</td>\n",
              "      <td>97</td>\n",
              "    </tr>\n",
              "    <tr>\n",
              "      <th>7</th>\n",
              "      <td>98</td>\n",
              "      <td>98</td>\n",
              "    </tr>\n",
              "    <tr>\n",
              "      <th>8</th>\n",
              "      <td>99</td>\n",
              "      <td>99</td>\n",
              "    </tr>\n",
              "    <tr>\n",
              "      <th>9</th>\n",
              "      <td>A0</td>\n",
              "      <td>98</td>\n",
              "    </tr>\n",
              "    <tr>\n",
              "      <th>10</th>\n",
              "      <td>A1</td>\n",
              "      <td>97</td>\n",
              "    </tr>\n",
              "    <tr>\n",
              "      <th>11</th>\n",
              "      <td>A2</td>\n",
              "      <td>96</td>\n",
              "    </tr>\n",
              "    <tr>\n",
              "      <th>12</th>\n",
              "      <td>A3</td>\n",
              "      <td>95</td>\n",
              "    </tr>\n",
              "    <tr>\n",
              "      <th>13</th>\n",
              "      <td>A4</td>\n",
              "      <td>94</td>\n",
              "    </tr>\n",
              "    <tr>\n",
              "      <th>14</th>\n",
              "      <td>A5</td>\n",
              "      <td>93</td>\n",
              "    </tr>\n",
              "  </tbody>\n",
              "</table>\n",
              "</div>"
            ],
            "text/plain": [
              "   rollno  marks\n",
              "0      91     91\n",
              "1      92     92\n",
              "2      93     93\n",
              "3      94     94\n",
              "4      95     95\n",
              "5      96     96\n",
              "6      97     97\n",
              "7      98     98\n",
              "8      99     99\n",
              "9      A0     98\n",
              "10     A1     97\n",
              "11     A2     96\n",
              "12     A3     95\n",
              "13     A4     94\n",
              "14     A5     93"
            ]
          },
          "metadata": {
            "tags": []
          },
          "execution_count": 58
        }
      ]
    },
    {
      "cell_type": "code",
      "metadata": {
        "colab": {
          "base_uri": "https://localhost:8080/",
          "height": 295
        },
        "id": "Jgp_xMr19C5l",
        "outputId": "d974f3a6-4732-4e00-9527-7ace46e39815"
      },
      "source": [
        "fig,ax = plt.subplots(1,1)\n",
        "ax.hist(score['marks'], bins = [90,92,94,96,98,100])\n",
        "ax.set_title(\"histogram of result\")\n",
        "ax.set_xlabel('marks')\n",
        "ax.set_ylabel('no. of students')\n",
        "plt.show()"
      ],
      "execution_count": null,
      "outputs": [
        {
          "output_type": "display_data",
          "data": {
            "image/png": "[encoded data removed]",
            "text/plain": [
              "<Figure size 432x288 with 1 Axes>"
            ]
          },
          "metadata": {
            "tags": [],
            "needs_background": "light"
          }
        }
      ]
    },
    {
      "cell_type": "markdown",
      "metadata": {
        "id": "lqf0FqjA1qa9"
      },
      "source": [
        "##13. Render the pie chart "
      ]
    },
    {
      "cell_type": "code",
      "metadata": {
        "colab": {
          "base_uri": "https://localhost:8080/",
          "height": 303
        },
        "id": "yDXSpDgUEG7s",
        "outputId": "bb91da41-de6b-4656-cbbc-2d822a67668c"
      },
      "source": [
        "plot = score.plot.pie(y='marks', figsize=(5,5))"
      ],
      "execution_count": null,
      "outputs": [
        {
          "output_type": "display_data",
          "data": {
            "image/png": "[encoded data removed]",
            "text/plain": [
              "<Figure size 360x360 with 1 Axes>"
            ]
          },
          "metadata": {
            "tags": []
          }
        }
      ]
    },
    {
      "cell_type": "markdown",
      "metadata": {
        "id": "7Iq3Y5mz1uiH"
      },
      "source": [
        "##14. Function for Vowel"
      ]
    },
    {
      "cell_type": "code",
      "metadata": {
        "id": "pRY_FHp4Eg7F",
        "colab": {
          "base_uri": "https://localhost:8080/"
        },
        "outputId": "0520d4fe-03d2-42a0-c7fd-76520bc14802"
      },
      "source": [
        "def is_vowel(letter):\n",
        "    if type(letter) == int:\n",
        "        letter = str(letter)\n",
        "    if letter in \"aeiouy\":\n",
        "        return(True)\n",
        "    else:\n",
        "        return(False)\n",
        "is_vowel(4)"
      ],
      "execution_count": null,
      "outputs": [
        {
          "output_type": "execute_result",
          "data": {
            "text/plain": [
              "False"
            ]
          },
          "metadata": {
            "tags": []
          },
          "execution_count": 6
        }
      ]
    },
    {
      "cell_type": "markdown",
      "metadata": {
        "id": "-Wjt0dta11iD"
      },
      "source": [
        "##15. Factorial of number"
      ]
    },
    {
      "cell_type": "code",
      "metadata": {
        "id": "N4CjHD4f14d7"
      },
      "source": [
        "def factorial(n): \n",
        "    return 1 if (n==1 or n==0) else n * factorial(n - 1)"
      ],
      "execution_count": null,
      "outputs": []
    },
    {
      "cell_type": "code",
      "metadata": {
        "colab": {
          "base_uri": "https://localhost:8080/"
        },
        "id": "8xV8ERB02Fxa",
        "outputId": "8be6d97f-9cd5-40c6-93c9-47b87a987a2d"
      },
      "source": [
        "num = 5\n",
        "print (\"Factorial of\",num,\" = \",factorial(num))"
      ],
      "execution_count": null,
      "outputs": [
        {
          "output_type": "stream",
          "text": [
            "Factorial of 5  =  120\n"
          ],
          "name": "stdout"
        }
      ]
    },
    {
      "cell_type": "code",
      "metadata": {
        "colab": {
          "base_uri": "https://localhost:8080/"
        },
        "id": "v_S6X2tM2Kbh",
        "outputId": "531400cd-fa69-4899-fc84-f4b5a43e2a12"
      },
      "source": [
        "# using IN-BUILT functions\n",
        "import math  \n",
        "print (\"Factorial of\",num,\" = \",math.factorial(num))"
      ],
      "execution_count": null,
      "outputs": [
        {
          "output_type": "stream",
          "text": [
            "Factorial of 5  =  120\n"
          ],
          "name": "stdout"
        }
      ]
    }
  ]
}