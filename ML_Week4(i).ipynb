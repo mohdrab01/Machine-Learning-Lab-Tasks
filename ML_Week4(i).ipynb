{
  "nbformat": 4,
  "nbformat_minor": 0,
  "metadata": {
    "colab": {
      "name": "ML-Week4(i).ipynb",
      "provenance": [],
      "authorship_tag": "ABX9TyOrTd/tlMf7cKxvCO20FDFq",
      "include_colab_link": true
    },
    "kernelspec": {
      "name": "python3",
      "display_name": "Python 3"
    },
    "language_info": {
      "name": "python"
    }
  },
  "cells": [
    {
      "cell_type": "markdown",
      "metadata": {
        "id": "view-in-github",
        "colab_type": "text"
      },
      "source": [
        "<a href=\"https://colab.research.google.com/github/mohdrab01/Machine-Learning-Lab-Tasks/blob/main/ML_Week4(i).ipynb\" target=\"_parent\"><img src=\"https://colab.research.google.com/assets/colab-badge.svg\" alt=\"Open In Colab\"/></a>"
      ]
    },
    {
      "cell_type": "markdown",
      "metadata": {
        "id": "7Bj5ybfQWdzl"
      },
      "source": [
        "# ML - Week 4 - 19-04-2021\n",
        "# 18071A0591\n",
        "\n",
        "---\n",
        "\n",
        "\n",
        "\n",
        "\n"
      ]
    },
    {
      "cell_type": "markdown",
      "metadata": {
        "id": "Y9wC-DUzVCj0"
      },
      "source": [
        "#**IRIS DATASET - DECISION TREE CLASSIFIER**\n",
        "\n",
        "---\n",
        "\n"
      ]
    },
    {
      "cell_type": "markdown",
      "metadata": {
        "id": "49UHYycgVXya"
      },
      "source": [
        "## 1. Get the IRIS dataset"
      ]
    },
    {
      "cell_type": "code",
      "metadata": {
        "colab": {
          "base_uri": "https://localhost:8080/"
        },
        "id": "PKbzse1NU-1P",
        "outputId": "55a09141-c389-485e-cd23-ca7366ab8889"
      },
      "source": [
        "!wget https://raw.githubusercontent.com/towardsai/tutorials/master/decision_tree_learning/Iris.csv"
      ],
      "execution_count": null,
      "outputs": [
        {
          "output_type": "stream",
          "text": [
            "--2021-04-19 08:53:20--  https://raw.githubusercontent.com/towardsai/tutorials/master/decision_tree_learning/Iris.csv\n",
            "Resolving raw.githubusercontent.com (raw.githubusercontent.com)... 185.199.108.133, 185.199.109.133, 185.199.110.133, ...\n",
            "Connecting to raw.githubusercontent.com (raw.githubusercontent.com)|185.199.108.133|:443... connected.\n",
            "HTTP request sent, awaiting response... 200 OK\n",
            "Length: 5103 (5.0K) [text/plain]\n",
            "Saving to: ‘Iris.csv’\n",
            "\n",
            "\rIris.csv              0%[                    ]       0  --.-KB/s               \rIris.csv            100%[===================>]   4.98K  --.-KB/s    in 0s      \n",
            "\n",
            "2021-04-19 08:53:20 (38.7 MB/s) - ‘Iris.csv’ saved [5103/5103]\n",
            "\n"
          ],
          "name": "stdout"
        }
      ]
    },
    {
      "cell_type": "markdown",
      "metadata": {
        "id": "r8RGdgv4Vczb"
      },
      "source": [
        "## Import statements"
      ]
    },
    {
      "cell_type": "code",
      "metadata": {
        "id": "DjIWu5saVXJy"
      },
      "source": [
        "import numpy as np \n",
        "import pandas as pd \n",
        "import matplotlib.pyplot as plt\n",
        "import seaborn as sns \n",
        "\n",
        "from sklearn import tree\n",
        "\n",
        "%matplotlib inline"
      ],
      "execution_count": null,
      "outputs": []
    },
    {
      "cell_type": "markdown",
      "metadata": {
        "id": "aFMdaauRVluZ"
      },
      "source": [
        "## 2. Show IRIS data"
      ]
    },
    {
      "cell_type": "code",
      "metadata": {
        "colab": {
          "base_uri": "https://localhost:8080/",
          "height": 204
        },
        "id": "l4kbrMRQVhxZ",
        "outputId": "a5250085-6ba5-4cbe-ece2-e9b964848080"
      },
      "source": [
        "data = pd.read_csv('Iris.csv')\n",
        "data.head()"
      ],
      "execution_count": null,
      "outputs": [
        {
          "output_type": "execute_result",
          "data": {
            "text/html": [
              "<div>\n",
              "<style scoped>\n",
              "    .dataframe tbody tr th:only-of-type {\n",
              "        vertical-align: middle;\n",
              "    }\n",
              "\n",
              "    .dataframe tbody tr th {\n",
              "        vertical-align: top;\n",
              "    }\n",
              "\n",
              "    .dataframe thead th {\n",
              "        text-align: right;\n",
              "    }\n",
              "</style>\n",
              "<table border=\"1\" class=\"dataframe\">\n",
              "  <thead>\n",
              "    <tr style=\"text-align: right;\">\n",
              "      <th></th>\n",
              "      <th>Id</th>\n",
              "      <th>sepal_length</th>\n",
              "      <th>sepal_width</th>\n",
              "      <th>petal_length</th>\n",
              "      <th>petal_width</th>\n",
              "      <th>species</th>\n",
              "    </tr>\n",
              "  </thead>\n",
              "  <tbody>\n",
              "    <tr>\n",
              "      <th>0</th>\n",
              "      <td>1</td>\n",
              "      <td>5.1</td>\n",
              "      <td>3.5</td>\n",
              "      <td>1.4</td>\n",
              "      <td>0.2</td>\n",
              "      <td>Iris-setosa</td>\n",
              "    </tr>\n",
              "    <tr>\n",
              "      <th>1</th>\n",
              "      <td>2</td>\n",
              "      <td>4.9</td>\n",
              "      <td>3.0</td>\n",
              "      <td>1.4</td>\n",
              "      <td>0.2</td>\n",
              "      <td>Iris-setosa</td>\n",
              "    </tr>\n",
              "    <tr>\n",
              "      <th>2</th>\n",
              "      <td>3</td>\n",
              "      <td>4.7</td>\n",
              "      <td>3.2</td>\n",
              "      <td>1.3</td>\n",
              "      <td>0.2</td>\n",
              "      <td>Iris-setosa</td>\n",
              "    </tr>\n",
              "    <tr>\n",
              "      <th>3</th>\n",
              "      <td>4</td>\n",
              "      <td>4.6</td>\n",
              "      <td>3.1</td>\n",
              "      <td>1.5</td>\n",
              "      <td>0.2</td>\n",
              "      <td>Iris-setosa</td>\n",
              "    </tr>\n",
              "    <tr>\n",
              "      <th>4</th>\n",
              "      <td>5</td>\n",
              "      <td>5.0</td>\n",
              "      <td>3.6</td>\n",
              "      <td>1.4</td>\n",
              "      <td>0.2</td>\n",
              "      <td>Iris-setosa</td>\n",
              "    </tr>\n",
              "  </tbody>\n",
              "</table>\n",
              "</div>"
            ],
            "text/plain": [
              "   Id  sepal_length  sepal_width  petal_length  petal_width      species\n",
              "0   1           5.1          3.5           1.4          0.2  Iris-setosa\n",
              "1   2           4.9          3.0           1.4          0.2  Iris-setosa\n",
              "2   3           4.7          3.2           1.3          0.2  Iris-setosa\n",
              "3   4           4.6          3.1           1.5          0.2  Iris-setosa\n",
              "4   5           5.0          3.6           1.4          0.2  Iris-setosa"
            ]
          },
          "metadata": {
            "tags": []
          },
          "execution_count": 3
        }
      ]
    },
    {
      "cell_type": "code",
      "metadata": {
        "colab": {
          "base_uri": "https://localhost:8080/",
          "height": 419
        },
        "id": "RaxR8lUlVsET",
        "outputId": "7e07cb82-ab18-45af-ba7a-597cbec44f4f"
      },
      "source": [
        "data"
      ],
      "execution_count": null,
      "outputs": [
        {
          "output_type": "execute_result",
          "data": {
            "text/html": [
              "<div>\n",
              "<style scoped>\n",
              "    .dataframe tbody tr th:only-of-type {\n",
              "        vertical-align: middle;\n",
              "    }\n",
              "\n",
              "    .dataframe tbody tr th {\n",
              "        vertical-align: top;\n",
              "    }\n",
              "\n",
              "    .dataframe thead th {\n",
              "        text-align: right;\n",
              "    }\n",
              "</style>\n",
              "<table border=\"1\" class=\"dataframe\">\n",
              "  <thead>\n",
              "    <tr style=\"text-align: right;\">\n",
              "      <th></th>\n",
              "      <th>Id</th>\n",
              "      <th>sepal_length</th>\n",
              "      <th>sepal_width</th>\n",
              "      <th>petal_length</th>\n",
              "      <th>petal_width</th>\n",
              "      <th>species</th>\n",
              "    </tr>\n",
              "  </thead>\n",
              "  <tbody>\n",
              "    <tr>\n",
              "      <th>0</th>\n",
              "      <td>1</td>\n",
              "      <td>5.1</td>\n",
              "      <td>3.5</td>\n",
              "      <td>1.4</td>\n",
              "      <td>0.2</td>\n",
              "      <td>Iris-setosa</td>\n",
              "    </tr>\n",
              "    <tr>\n",
              "      <th>1</th>\n",
              "      <td>2</td>\n",
              "      <td>4.9</td>\n",
              "      <td>3.0</td>\n",
              "      <td>1.4</td>\n",
              "      <td>0.2</td>\n",
              "      <td>Iris-setosa</td>\n",
              "    </tr>\n",
              "    <tr>\n",
              "      <th>2</th>\n",
              "      <td>3</td>\n",
              "      <td>4.7</td>\n",
              "      <td>3.2</td>\n",
              "      <td>1.3</td>\n",
              "      <td>0.2</td>\n",
              "      <td>Iris-setosa</td>\n",
              "    </tr>\n",
              "    <tr>\n",
              "      <th>3</th>\n",
              "      <td>4</td>\n",
              "      <td>4.6</td>\n",
              "      <td>3.1</td>\n",
              "      <td>1.5</td>\n",
              "      <td>0.2</td>\n",
              "      <td>Iris-setosa</td>\n",
              "    </tr>\n",
              "    <tr>\n",
              "      <th>4</th>\n",
              "      <td>5</td>\n",
              "      <td>5.0</td>\n",
              "      <td>3.6</td>\n",
              "      <td>1.4</td>\n",
              "      <td>0.2</td>\n",
              "      <td>Iris-setosa</td>\n",
              "    </tr>\n",
              "    <tr>\n",
              "      <th>...</th>\n",
              "      <td>...</td>\n",
              "      <td>...</td>\n",
              "      <td>...</td>\n",
              "      <td>...</td>\n",
              "      <td>...</td>\n",
              "      <td>...</td>\n",
              "    </tr>\n",
              "    <tr>\n",
              "      <th>145</th>\n",
              "      <td>146</td>\n",
              "      <td>6.7</td>\n",
              "      <td>3.0</td>\n",
              "      <td>5.2</td>\n",
              "      <td>2.3</td>\n",
              "      <td>Iris-virginica</td>\n",
              "    </tr>\n",
              "    <tr>\n",
              "      <th>146</th>\n",
              "      <td>147</td>\n",
              "      <td>6.3</td>\n",
              "      <td>2.5</td>\n",
              "      <td>5.0</td>\n",
              "      <td>1.9</td>\n",
              "      <td>Iris-virginica</td>\n",
              "    </tr>\n",
              "    <tr>\n",
              "      <th>147</th>\n",
              "      <td>148</td>\n",
              "      <td>6.5</td>\n",
              "      <td>3.0</td>\n",
              "      <td>5.2</td>\n",
              "      <td>2.0</td>\n",
              "      <td>Iris-virginica</td>\n",
              "    </tr>\n",
              "    <tr>\n",
              "      <th>148</th>\n",
              "      <td>149</td>\n",
              "      <td>6.2</td>\n",
              "      <td>3.4</td>\n",
              "      <td>5.4</td>\n",
              "      <td>2.3</td>\n",
              "      <td>Iris-virginica</td>\n",
              "    </tr>\n",
              "    <tr>\n",
              "      <th>149</th>\n",
              "      <td>150</td>\n",
              "      <td>5.9</td>\n",
              "      <td>3.0</td>\n",
              "      <td>5.1</td>\n",
              "      <td>1.8</td>\n",
              "      <td>Iris-virginica</td>\n",
              "    </tr>\n",
              "  </tbody>\n",
              "</table>\n",
              "<p>150 rows × 6 columns</p>\n",
              "</div>"
            ],
            "text/plain": [
              "      Id  sepal_length  sepal_width  petal_length  petal_width         species\n",
              "0      1           5.1          3.5           1.4          0.2     Iris-setosa\n",
              "1      2           4.9          3.0           1.4          0.2     Iris-setosa\n",
              "2      3           4.7          3.2           1.3          0.2     Iris-setosa\n",
              "3      4           4.6          3.1           1.5          0.2     Iris-setosa\n",
              "4      5           5.0          3.6           1.4          0.2     Iris-setosa\n",
              "..   ...           ...          ...           ...          ...             ...\n",
              "145  146           6.7          3.0           5.2          2.3  Iris-virginica\n",
              "146  147           6.3          2.5           5.0          1.9  Iris-virginica\n",
              "147  148           6.5          3.0           5.2          2.0  Iris-virginica\n",
              "148  149           6.2          3.4           5.4          2.3  Iris-virginica\n",
              "149  150           5.9          3.0           5.1          1.8  Iris-virginica\n",
              "\n",
              "[150 rows x 6 columns]"
            ]
          },
          "metadata": {
            "tags": []
          },
          "execution_count": 4
        }
      ]
    },
    {
      "cell_type": "markdown",
      "metadata": {
        "id": "ViRyFjGDWwNS"
      },
      "source": [
        "## 3. Exploring Dataset / EDA"
      ]
    },
    {
      "cell_type": "code",
      "metadata": {
        "colab": {
          "base_uri": "https://localhost:8080/"
        },
        "id": "56VWvQlSVtZx",
        "outputId": "4985fc4d-7d65-4d89-e32b-d8dfb65a1455"
      },
      "source": [
        "data.shape # print dataset shape"
      ],
      "execution_count": null,
      "outputs": [
        {
          "output_type": "execute_result",
          "data": {
            "text/plain": [
              "(150, 6)"
            ]
          },
          "metadata": {
            "tags": []
          },
          "execution_count": 5
        }
      ]
    },
    {
      "cell_type": "code",
      "metadata": {
        "colab": {
          "base_uri": "https://localhost:8080/"
        },
        "id": "8jZ5X2ioauIU",
        "outputId": "47174408-f88e-49dc-fd3e-bb2bb7a7d8f9"
      },
      "source": [
        "data.dtypes # Datatypes of the dataset"
      ],
      "execution_count": null,
      "outputs": [
        {
          "output_type": "execute_result",
          "data": {
            "text/plain": [
              "sepal_length    float64\n",
              "sepal_width     float64\n",
              "petal_length    float64\n",
              "petal_width     float64\n",
              "species          object\n",
              "dtype: object"
            ]
          },
          "metadata": {
            "tags": []
          },
          "execution_count": 25
        }
      ]
    },
    {
      "cell_type": "code",
      "metadata": {
        "colab": {
          "base_uri": "https://localhost:8080/"
        },
        "id": "Y4P0TwIrVwNB",
        "outputId": "a0f4494c-9830-4ab3-c1b7-76aaee95260a"
      },
      "source": [
        "print(data.describe())  # Describe given dataset"
      ],
      "execution_count": null,
      "outputs": [
        {
          "output_type": "stream",
          "text": [
            "               Id  sepal_length  sepal_width  petal_length  petal_width\n",
            "count  150.000000    150.000000   150.000000    150.000000   150.000000\n",
            "mean    75.500000      5.843333     3.054000      3.758667     1.198667\n",
            "std     43.445368      0.828066     0.433594      1.764420     0.763161\n",
            "min      1.000000      4.300000     2.000000      1.000000     0.100000\n",
            "25%     38.250000      5.100000     2.800000      1.600000     0.300000\n",
            "50%     75.500000      5.800000     3.000000      4.350000     1.300000\n",
            "75%    112.750000      6.400000     3.300000      5.100000     1.800000\n",
            "max    150.000000      7.900000     4.400000      6.900000     2.500000\n"
          ],
          "name": "stdout"
        }
      ]
    },
    {
      "cell_type": "code",
      "metadata": {
        "colab": {
          "base_uri": "https://localhost:8080/"
        },
        "id": "-PhJicP3Xb4a",
        "outputId": "6bbe42b3-d12d-4485-bc96-13c5e610c91f"
      },
      "source": [
        "# Check for any missing / NULL  values in the columns\n",
        "data.isna().sum() "
      ],
      "execution_count": null,
      "outputs": [
        {
          "output_type": "execute_result",
          "data": {
            "text/plain": [
              "Id              0\n",
              "sepal_length    0\n",
              "sepal_width     0\n",
              "petal_length    0\n",
              "petal_width     0\n",
              "species         0\n",
              "dtype: int64"
            ]
          },
          "metadata": {
            "tags": []
          },
          "execution_count": 7
        }
      ]
    },
    {
      "cell_type": "code",
      "metadata": {
        "colab": {
          "base_uri": "https://localhost:8080/",
          "height": 204
        },
        "id": "9K_COdOuXup5",
        "outputId": "273bd619-dd98-461e-95d7-fb30aeaaaff6"
      },
      "source": [
        "data.head() # here ID column isn't required...LET's remove it!!!"
      ],
      "execution_count": null,
      "outputs": [
        {
          "output_type": "execute_result",
          "data": {
            "text/html": [
              "<div>\n",
              "<style scoped>\n",
              "    .dataframe tbody tr th:only-of-type {\n",
              "        vertical-align: middle;\n",
              "    }\n",
              "\n",
              "    .dataframe tbody tr th {\n",
              "        vertical-align: top;\n",
              "    }\n",
              "\n",
              "    .dataframe thead th {\n",
              "        text-align: right;\n",
              "    }\n",
              "</style>\n",
              "<table border=\"1\" class=\"dataframe\">\n",
              "  <thead>\n",
              "    <tr style=\"text-align: right;\">\n",
              "      <th></th>\n",
              "      <th>Id</th>\n",
              "      <th>sepal_length</th>\n",
              "      <th>sepal_width</th>\n",
              "      <th>petal_length</th>\n",
              "      <th>petal_width</th>\n",
              "      <th>species</th>\n",
              "    </tr>\n",
              "  </thead>\n",
              "  <tbody>\n",
              "    <tr>\n",
              "      <th>0</th>\n",
              "      <td>1</td>\n",
              "      <td>5.1</td>\n",
              "      <td>3.5</td>\n",
              "      <td>1.4</td>\n",
              "      <td>0.2</td>\n",
              "      <td>Iris-setosa</td>\n",
              "    </tr>\n",
              "    <tr>\n",
              "      <th>1</th>\n",
              "      <td>2</td>\n",
              "      <td>4.9</td>\n",
              "      <td>3.0</td>\n",
              "      <td>1.4</td>\n",
              "      <td>0.2</td>\n",
              "      <td>Iris-setosa</td>\n",
              "    </tr>\n",
              "    <tr>\n",
              "      <th>2</th>\n",
              "      <td>3</td>\n",
              "      <td>4.7</td>\n",
              "      <td>3.2</td>\n",
              "      <td>1.3</td>\n",
              "      <td>0.2</td>\n",
              "      <td>Iris-setosa</td>\n",
              "    </tr>\n",
              "    <tr>\n",
              "      <th>3</th>\n",
              "      <td>4</td>\n",
              "      <td>4.6</td>\n",
              "      <td>3.1</td>\n",
              "      <td>1.5</td>\n",
              "      <td>0.2</td>\n",
              "      <td>Iris-setosa</td>\n",
              "    </tr>\n",
              "    <tr>\n",
              "      <th>4</th>\n",
              "      <td>5</td>\n",
              "      <td>5.0</td>\n",
              "      <td>3.6</td>\n",
              "      <td>1.4</td>\n",
              "      <td>0.2</td>\n",
              "      <td>Iris-setosa</td>\n",
              "    </tr>\n",
              "  </tbody>\n",
              "</table>\n",
              "</div>"
            ],
            "text/plain": [
              "   Id  sepal_length  sepal_width  petal_length  petal_width      species\n",
              "0   1           5.1          3.5           1.4          0.2  Iris-setosa\n",
              "1   2           4.9          3.0           1.4          0.2  Iris-setosa\n",
              "2   3           4.7          3.2           1.3          0.2  Iris-setosa\n",
              "3   4           4.6          3.1           1.5          0.2  Iris-setosa\n",
              "4   5           5.0          3.6           1.4          0.2  Iris-setosa"
            ]
          },
          "metadata": {
            "tags": []
          },
          "execution_count": 8
        }
      ]
    },
    {
      "cell_type": "code",
      "metadata": {
        "colab": {
          "base_uri": "https://localhost:8080/"
        },
        "id": "vOUq1QHnfZrr",
        "outputId": "0e051b34-e516-44ae-aa9d-2f9c0c288bfa"
      },
      "source": [
        "data.columns"
      ],
      "execution_count": null,
      "outputs": [
        {
          "output_type": "execute_result",
          "data": {
            "text/plain": [
              "Index(['sepal_length', 'sepal_width', 'petal_length', 'petal_width',\n",
              "       'species'],\n",
              "      dtype='object')"
            ]
          },
          "metadata": {
            "tags": []
          },
          "execution_count": 46
        }
      ]
    },
    {
      "cell_type": "code",
      "metadata": {
        "colab": {
          "base_uri": "https://localhost:8080/"
        },
        "id": "77GeyJSHYDci",
        "outputId": "34e1f780-ef81-4476-87e8-f6b1e1e82d66"
      },
      "source": [
        "columns = ['id', 'sepal_length', 'sepal_width', 'petal_length', 'petal_width', 'species']\n",
        "data.columns = columns\n",
        "columns"
      ],
      "execution_count": null,
      "outputs": [
        {
          "output_type": "execute_result",
          "data": {
            "text/plain": [
              "['id', 'sepal_length', 'sepal_width', 'petal_length', 'petal_width', 'species']"
            ]
          },
          "metadata": {
            "tags": []
          },
          "execution_count": 10
        }
      ]
    },
    {
      "cell_type": "code",
      "metadata": {
        "colab": {
          "base_uri": "https://localhost:8080/",
          "height": 204
        },
        "id": "Zerl4lBCX79x",
        "outputId": "626ca22c-e8d0-4cb2-f0f3-5a6be16e3975"
      },
      "source": [
        "data = data.drop(['id'], axis=1)\n",
        "data.head() # Thus Dropped column 'ID' !!!"
      ],
      "execution_count": null,
      "outputs": [
        {
          "output_type": "execute_result",
          "data": {
            "text/html": [
              "<div>\n",
              "<style scoped>\n",
              "    .dataframe tbody tr th:only-of-type {\n",
              "        vertical-align: middle;\n",
              "    }\n",
              "\n",
              "    .dataframe tbody tr th {\n",
              "        vertical-align: top;\n",
              "    }\n",
              "\n",
              "    .dataframe thead th {\n",
              "        text-align: right;\n",
              "    }\n",
              "</style>\n",
              "<table border=\"1\" class=\"dataframe\">\n",
              "  <thead>\n",
              "    <tr style=\"text-align: right;\">\n",
              "      <th></th>\n",
              "      <th>sepal_length</th>\n",
              "      <th>sepal_width</th>\n",
              "      <th>petal_length</th>\n",
              "      <th>petal_width</th>\n",
              "      <th>species</th>\n",
              "    </tr>\n",
              "  </thead>\n",
              "  <tbody>\n",
              "    <tr>\n",
              "      <th>0</th>\n",
              "      <td>5.1</td>\n",
              "      <td>3.5</td>\n",
              "      <td>1.4</td>\n",
              "      <td>0.2</td>\n",
              "      <td>Iris-setosa</td>\n",
              "    </tr>\n",
              "    <tr>\n",
              "      <th>1</th>\n",
              "      <td>4.9</td>\n",
              "      <td>3.0</td>\n",
              "      <td>1.4</td>\n",
              "      <td>0.2</td>\n",
              "      <td>Iris-setosa</td>\n",
              "    </tr>\n",
              "    <tr>\n",
              "      <th>2</th>\n",
              "      <td>4.7</td>\n",
              "      <td>3.2</td>\n",
              "      <td>1.3</td>\n",
              "      <td>0.2</td>\n",
              "      <td>Iris-setosa</td>\n",
              "    </tr>\n",
              "    <tr>\n",
              "      <th>3</th>\n",
              "      <td>4.6</td>\n",
              "      <td>3.1</td>\n",
              "      <td>1.5</td>\n",
              "      <td>0.2</td>\n",
              "      <td>Iris-setosa</td>\n",
              "    </tr>\n",
              "    <tr>\n",
              "      <th>4</th>\n",
              "      <td>5.0</td>\n",
              "      <td>3.6</td>\n",
              "      <td>1.4</td>\n",
              "      <td>0.2</td>\n",
              "      <td>Iris-setosa</td>\n",
              "    </tr>\n",
              "  </tbody>\n",
              "</table>\n",
              "</div>"
            ],
            "text/plain": [
              "   sepal_length  sepal_width  petal_length  petal_width      species\n",
              "0           5.1          3.5           1.4          0.2  Iris-setosa\n",
              "1           4.9          3.0           1.4          0.2  Iris-setosa\n",
              "2           4.7          3.2           1.3          0.2  Iris-setosa\n",
              "3           4.6          3.1           1.5          0.2  Iris-setosa\n",
              "4           5.0          3.6           1.4          0.2  Iris-setosa"
            ]
          },
          "metadata": {
            "tags": []
          },
          "execution_count": 11
        }
      ]
    },
    {
      "cell_type": "code",
      "metadata": {
        "colab": {
          "base_uri": "https://localhost:8080/"
        },
        "id": "niX-6ZsaYQ0p",
        "outputId": "cac340a3-2fc2-4974-bf79-c285f5e1dd68"
      },
      "source": [
        "data.info()  # Print information about dataset columns"
      ],
      "execution_count": null,
      "outputs": [
        {
          "output_type": "stream",
          "text": [
            "<class 'pandas.core.frame.DataFrame'>\n",
            "RangeIndex: 150 entries, 0 to 149\n",
            "Data columns (total 5 columns):\n",
            " #   Column        Non-Null Count  Dtype  \n",
            "---  ------        --------------  -----  \n",
            " 0   sepal_length  150 non-null    float64\n",
            " 1   sepal_width   150 non-null    float64\n",
            " 2   petal_length  150 non-null    float64\n",
            " 3   petal_width   150 non-null    float64\n",
            " 4   species       150 non-null    object \n",
            "dtypes: float64(4), object(1)\n",
            "memory usage: 6.0+ KB\n"
          ],
          "name": "stdout"
        }
      ]
    },
    {
      "cell_type": "code",
      "metadata": {
        "colab": {
          "base_uri": "https://localhost:8080/"
        },
        "id": "QKMya296YeC0",
        "outputId": "452ef28c-5a30-4eef-eab6-9184901d235f"
      },
      "source": [
        "# Check the LABELS and their COUNTS for Target Column 'SPECIES'\n",
        "data['species'].value_counts() "
      ],
      "execution_count": null,
      "outputs": [
        {
          "output_type": "execute_result",
          "data": {
            "text/plain": [
              "Iris-virginica     50\n",
              "Iris-versicolor    50\n",
              "Iris-setosa        50\n",
              "Name: species, dtype: int64"
            ]
          },
          "metadata": {
            "tags": []
          },
          "execution_count": 13
        }
      ]
    },
    {
      "cell_type": "code",
      "metadata": {
        "id": "Z_lOrDurYuA5"
      },
      "source": [
        "# We Know our Target column is \"SPECIES\"\n",
        "target_col = ['species']"
      ],
      "execution_count": null,
      "outputs": []
    },
    {
      "cell_type": "code",
      "metadata": {
        "id": "d1mk7FW6ZOdB"
      },
      "source": [
        "# Seperate the SPECIES label column from dataset\n",
        "x = data.drop(['species'],axis=1)\n",
        "y = data['species']"
      ],
      "execution_count": null,
      "outputs": []
    },
    {
      "cell_type": "code",
      "metadata": {
        "colab": {
          "base_uri": "https://localhost:8080/",
          "height": 204
        },
        "id": "Ej3dWHwOejbq",
        "outputId": "d94fce08-27cc-4365-8116-7b53c773e552"
      },
      "source": [
        "x.head()"
      ],
      "execution_count": null,
      "outputs": [
        {
          "output_type": "execute_result",
          "data": {
            "text/html": [
              "<div>\n",
              "<style scoped>\n",
              "    .dataframe tbody tr th:only-of-type {\n",
              "        vertical-align: middle;\n",
              "    }\n",
              "\n",
              "    .dataframe tbody tr th {\n",
              "        vertical-align: top;\n",
              "    }\n",
              "\n",
              "    .dataframe thead th {\n",
              "        text-align: right;\n",
              "    }\n",
              "</style>\n",
              "<table border=\"1\" class=\"dataframe\">\n",
              "  <thead>\n",
              "    <tr style=\"text-align: right;\">\n",
              "      <th></th>\n",
              "      <th>sepal_length</th>\n",
              "      <th>sepal_width</th>\n",
              "      <th>petal_length</th>\n",
              "      <th>petal_width</th>\n",
              "    </tr>\n",
              "  </thead>\n",
              "  <tbody>\n",
              "    <tr>\n",
              "      <th>0</th>\n",
              "      <td>5.1</td>\n",
              "      <td>3.5</td>\n",
              "      <td>1.4</td>\n",
              "      <td>0.2</td>\n",
              "    </tr>\n",
              "    <tr>\n",
              "      <th>1</th>\n",
              "      <td>4.9</td>\n",
              "      <td>3.0</td>\n",
              "      <td>1.4</td>\n",
              "      <td>0.2</td>\n",
              "    </tr>\n",
              "    <tr>\n",
              "      <th>2</th>\n",
              "      <td>4.7</td>\n",
              "      <td>3.2</td>\n",
              "      <td>1.3</td>\n",
              "      <td>0.2</td>\n",
              "    </tr>\n",
              "    <tr>\n",
              "      <th>3</th>\n",
              "      <td>4.6</td>\n",
              "      <td>3.1</td>\n",
              "      <td>1.5</td>\n",
              "      <td>0.2</td>\n",
              "    </tr>\n",
              "    <tr>\n",
              "      <th>4</th>\n",
              "      <td>5.0</td>\n",
              "      <td>3.6</td>\n",
              "      <td>1.4</td>\n",
              "      <td>0.2</td>\n",
              "    </tr>\n",
              "  </tbody>\n",
              "</table>\n",
              "</div>"
            ],
            "text/plain": [
              "   sepal_length  sepal_width  petal_length  petal_width\n",
              "0           5.1          3.5           1.4          0.2\n",
              "1           4.9          3.0           1.4          0.2\n",
              "2           4.7          3.2           1.3          0.2\n",
              "3           4.6          3.1           1.5          0.2\n",
              "4           5.0          3.6           1.4          0.2"
            ]
          },
          "metadata": {
            "tags": []
          },
          "execution_count": 44
        }
      ]
    },
    {
      "cell_type": "code",
      "metadata": {
        "colab": {
          "base_uri": "https://localhost:8080/"
        },
        "id": "QFYtBHGnemBr",
        "outputId": "103c0963-14f4-446c-889d-a1f178d5b9ad"
      },
      "source": [
        "y.head()"
      ],
      "execution_count": null,
      "outputs": [
        {
          "output_type": "execute_result",
          "data": {
            "text/plain": [
              "0    Iris-setosa\n",
              "1    Iris-setosa\n",
              "2    Iris-setosa\n",
              "3    Iris-setosa\n",
              "4    Iris-setosa\n",
              "Name: species, dtype: object"
            ]
          },
          "metadata": {
            "tags": []
          },
          "execution_count": 45
        }
      ]
    },
    {
      "cell_type": "markdown",
      "metadata": {
        "id": "qmXZq7lYZm4J"
      },
      "source": [
        "## 4. SPLITTING THE DATASET"
      ]
    },
    {
      "cell_type": "code",
      "metadata": {
        "id": "9niYdpDQZhXJ"
      },
      "source": [
        "from sklearn.model_selection import train_test_split\n"
      ],
      "execution_count": null,
      "outputs": []
    },
    {
      "cell_type": "code",
      "metadata": {
        "id": "yzewElm7Z4xI"
      },
      "source": [
        "# Let's split the dataset with TEST DATA SIZE = 40% and TRAIN DATA SIZE = 60%\n",
        "x_train, x_test, y_train, y_test = train_test_split(x, y, test_size = 0.4, random_state = 42)"
      ],
      "execution_count": null,
      "outputs": []
    },
    {
      "cell_type": "code",
      "metadata": {
        "colab": {
          "base_uri": "https://localhost:8080/"
        },
        "id": "rDf7FgGqaSUg",
        "outputId": "56f59c50-f9f3-4c97-81c8-25bfc1966034"
      },
      "source": [
        "# Exploring the Spliited datasets\n",
        "x_train.dtypes"
      ],
      "execution_count": null,
      "outputs": [
        {
          "output_type": "execute_result",
          "data": {
            "text/plain": [
              "sepal_length    float64\n",
              "sepal_width     float64\n",
              "petal_length    float64\n",
              "petal_width     float64\n",
              "dtype: object"
            ]
          },
          "metadata": {
            "tags": []
          },
          "execution_count": 32
        }
      ]
    },
    {
      "cell_type": "code",
      "metadata": {
        "colab": {
          "base_uri": "https://localhost:8080/"
        },
        "id": "4mfvAuNCafsR",
        "outputId": "19dc0afc-8e36-4e1b-c62a-68a71f469d9b"
      },
      "source": [
        "x_test.dtypes"
      ],
      "execution_count": null,
      "outputs": [
        {
          "output_type": "execute_result",
          "data": {
            "text/plain": [
              "sepal_length    float64\n",
              "sepal_width     float64\n",
              "petal_length    float64\n",
              "petal_width     float64\n",
              "dtype: object"
            ]
          },
          "metadata": {
            "tags": []
          },
          "execution_count": 33
        }
      ]
    },
    {
      "cell_type": "code",
      "metadata": {
        "colab": {
          "base_uri": "https://localhost:8080/"
        },
        "id": "mL6Fgp5xalGo",
        "outputId": "86d62fc2-2a3f-43bb-8e5c-f7daa9db953b"
      },
      "source": [
        "y_train.dtypes"
      ],
      "execution_count": null,
      "outputs": [
        {
          "output_type": "execute_result",
          "data": {
            "text/plain": [
              "dtype('O')"
            ]
          },
          "metadata": {
            "tags": []
          },
          "execution_count": 34
        }
      ]
    },
    {
      "cell_type": "code",
      "metadata": {
        "colab": {
          "base_uri": "https://localhost:8080/"
        },
        "id": "OeusgKRlaojF",
        "outputId": "048684b7-cf27-41cf-b628-a4dcb5775ed5"
      },
      "source": [
        "y_test.dtypes"
      ],
      "execution_count": null,
      "outputs": [
        {
          "output_type": "execute_result",
          "data": {
            "text/plain": [
              "dtype('O')"
            ]
          },
          "metadata": {
            "tags": []
          },
          "execution_count": 35
        }
      ]
    },
    {
      "cell_type": "markdown",
      "metadata": {
        "id": "H-BmSTdFa2jI"
      },
      "source": [
        "# 5. DECISION TREE CLASSIFICATION ALGO\n",
        "## (based on GINI index and MAX_DEPTH = 3 ) \n",
        "\n",
        "\n",
        "---\n",
        "\n"
      ]
    },
    {
      "cell_type": "code",
      "metadata": {
        "id": "tmJNVtP2a0Ri"
      },
      "source": [
        "from sklearn.tree import DecisionTreeClassifier"
      ],
      "execution_count": null,
      "outputs": []
    },
    {
      "cell_type": "code",
      "metadata": {
        "colab": {
          "base_uri": "https://localhost:8080/"
        },
        "id": "BSIPV3FmbBMa",
        "outputId": "3e2fa354-1455-4b50-cbe3-b8d40f44239e"
      },
      "source": [
        "# Applying Decision tree classification on x_train and y_train\n",
        "# GINI Classifier = clf_gini\n",
        "clf_gini = DecisionTreeClassifier(criterion='gini', max_depth=3, random_state=0)\n",
        "clf_gini.fit(x_train, y_train)"
      ],
      "execution_count": null,
      "outputs": [
        {
          "output_type": "execute_result",
          "data": {
            "text/plain": [
              "DecisionTreeClassifier(ccp_alpha=0.0, class_weight=None, criterion='gini',\n",
              "                       max_depth=3, max_features=None, max_leaf_nodes=None,\n",
              "                       min_impurity_decrease=0.0, min_impurity_split=None,\n",
              "                       min_samples_leaf=1, min_samples_split=2,\n",
              "                       min_weight_fraction_leaf=0.0, presort='deprecated',\n",
              "                       random_state=0, splitter='best')"
            ]
          },
          "metadata": {
            "tags": []
          },
          "execution_count": 36
        }
      ]
    },
    {
      "cell_type": "code",
      "metadata": {
        "colab": {
          "base_uri": "https://localhost:8080/"
        },
        "id": "4dDfZ63xbOM5",
        "outputId": "ce88db27-bc48-4be0-ec42-efa85c4ddd4d"
      },
      "source": [
        "# Predicted y-values when GINI index is used\n",
        "y_pred_gini = clf_gini.predict(x_test)\n",
        "y_pred_gini"
      ],
      "execution_count": null,
      "outputs": [
        {
          "output_type": "execute_result",
          "data": {
            "text/plain": [
              "array(['Iris-versicolor', 'Iris-setosa', 'Iris-virginica',\n",
              "       'Iris-versicolor', 'Iris-versicolor', 'Iris-setosa',\n",
              "       'Iris-versicolor', 'Iris-virginica', 'Iris-versicolor',\n",
              "       'Iris-versicolor', 'Iris-virginica', 'Iris-setosa', 'Iris-setosa',\n",
              "       'Iris-setosa', 'Iris-setosa', 'Iris-versicolor', 'Iris-virginica',\n",
              "       'Iris-versicolor', 'Iris-versicolor', 'Iris-virginica',\n",
              "       'Iris-setosa', 'Iris-virginica', 'Iris-setosa', 'Iris-virginica',\n",
              "       'Iris-virginica', 'Iris-virginica', 'Iris-virginica',\n",
              "       'Iris-virginica', 'Iris-setosa', 'Iris-setosa', 'Iris-setosa',\n",
              "       'Iris-setosa', 'Iris-versicolor', 'Iris-setosa', 'Iris-setosa',\n",
              "       'Iris-virginica', 'Iris-versicolor', 'Iris-setosa', 'Iris-setosa',\n",
              "       'Iris-setosa', 'Iris-virginica', 'Iris-versicolor',\n",
              "       'Iris-versicolor', 'Iris-setosa', 'Iris-setosa', 'Iris-versicolor',\n",
              "       'Iris-versicolor', 'Iris-virginica', 'Iris-versicolor',\n",
              "       'Iris-virginica', 'Iris-versicolor', 'Iris-virginica',\n",
              "       'Iris-versicolor', 'Iris-setosa', 'Iris-virginica',\n",
              "       'Iris-versicolor', 'Iris-setosa', 'Iris-setosa', 'Iris-setosa',\n",
              "       'Iris-versicolor'], dtype=object)"
            ]
          },
          "metadata": {
            "tags": []
          },
          "execution_count": 37
        }
      ]
    },
    {
      "cell_type": "markdown",
      "metadata": {
        "id": "PYIuv3KUbfuw"
      },
      "source": [
        "## 6. Classifier Accuracy"
      ]
    },
    {
      "cell_type": "code",
      "metadata": {
        "id": "x67HR9WlbdNy"
      },
      "source": [
        "from sklearn.metrics import accuracy_score"
      ],
      "execution_count": null,
      "outputs": []
    },
    {
      "cell_type": "code",
      "metadata": {
        "colab": {
          "base_uri": "https://localhost:8080/"
        },
        "id": "jr4QPpCrblJ-",
        "outputId": "19563004-eaa8-4f08-b27f-b6d9d79be567"
      },
      "source": [
        "print('With GINI index as Criterion\\nDecision Tree Classifier Model Accuracy: {0:0.4f}'. format(accuracy_score(y_test, y_pred_gini)))"
      ],
      "execution_count": null,
      "outputs": [
        {
          "output_type": "stream",
          "text": [
            "With GINI index as Criterion\n",
            "Decision Tree Classifier Model Accuracy: 0.9833\n"
          ],
          "name": "stdout"
        }
      ]
    },
    {
      "cell_type": "markdown",
      "metadata": {
        "id": "9tb7INlJcF3q"
      },
      "source": [
        "## 7. Check for FIT of classifier"
      ]
    },
    {
      "cell_type": "code",
      "metadata": {
        "colab": {
          "base_uri": "https://localhost:8080/"
        },
        "id": "wgZtK2tvb4Gk",
        "outputId": "e4a0fc48-aa72-414d-91b1-2fe18ccbf8ee"
      },
      "source": [
        "print('Training set score: {:.4f}'.format(clf_gini.score(x_train, y_train)))\n",
        "print('Test set score: {:.4f}'.format(clf_gini.score(x_test, y_test)))"
      ],
      "execution_count": null,
      "outputs": [
        {
          "output_type": "stream",
          "text": [
            "Training set score: 0.9667\n",
            "Test set score: 0.9833\n"
          ],
          "name": "stdout"
        }
      ]
    },
    {
      "cell_type": "code",
      "metadata": {
        "id": "695syOIRcSE6"
      },
      "source": [
        "# Clearly as Training Set Score is less than Test set Score....\n",
        "# Model is OVER-FITTED"
      ],
      "execution_count": null,
      "outputs": []
    },
    {
      "cell_type": "markdown",
      "metadata": {
        "id": "U-4xMcHeceuR"
      },
      "source": [
        "## 8. Tree - Representation of Decision Tree Model "
      ]
    },
    {
      "cell_type": "code",
      "metadata": {
        "colab": {
          "base_uri": "https://localhost:8080/",
          "height": 619
        },
        "id": "SWUsD7Yqcact",
        "outputId": "a96dac63-86c5-46ce-8649-3ccb9c3bbbf4"
      },
      "source": [
        "plt.figure(figsize=(12,8))\n",
        "tree.plot_tree(clf_gini.fit(x_train, y_train)) "
      ],
      "execution_count": null,
      "outputs": [
        {
          "output_type": "execute_result",
          "data": {
            "text/plain": [
              "[Text(251.10000000000002, 380.52, 'X[3] <= 0.8\\ngini = 0.665\\nsamples = 90\\nvalue = [27, 31, 32]'),\n",
              " Text(167.4, 271.8, 'gini = 0.0\\nsamples = 27\\nvalue = [27, 0, 0]'),\n",
              " Text(334.8, 271.8, 'X[3] <= 1.75\\ngini = 0.5\\nsamples = 63\\nvalue = [0, 31, 32]'),\n",
              " Text(167.4, 163.07999999999998, 'X[2] <= 5.35\\ngini = 0.208\\nsamples = 34\\nvalue = [0, 30, 4]'),\n",
              " Text(83.7, 54.360000000000014, 'gini = 0.117\\nsamples = 32\\nvalue = [0, 30, 2]'),\n",
              " Text(251.10000000000002, 54.360000000000014, 'gini = 0.0\\nsamples = 2\\nvalue = [0, 0, 2]'),\n",
              " Text(502.20000000000005, 163.07999999999998, 'X[2] <= 4.85\\ngini = 0.067\\nsamples = 29\\nvalue = [0, 1, 28]'),\n",
              " Text(418.5, 54.360000000000014, 'gini = 0.444\\nsamples = 3\\nvalue = [0, 1, 2]'),\n",
              " Text(585.9, 54.360000000000014, 'gini = 0.0\\nsamples = 26\\nvalue = [0, 0, 26]')]"
            ]
          },
          "metadata": {
            "tags": []
          },
          "execution_count": 40
        },
        {
          "output_type": "display_data",
          "data": {
            "image/png": "[encoded data removed]",
            "text/plain": [
              "<Figure size 864x576 with 1 Axes>"
            ]
          },
          "metadata": {
            "tags": [],
            "needs_background": "light"
          }
        }
      ]
    },
    {
      "cell_type": "markdown",
      "metadata": {
        "id": "Zyyh5vaYfplb"
      },
      "source": [
        "## 9(i). Using render tree method to get Tree Visualization in a PDF File"
      ]
    },
    {
      "cell_type": "code",
      "metadata": {
        "colab": {
          "base_uri": "https://localhost:8080/",
          "height": 35
        },
        "id": "gqoZbqwucoo-",
        "outputId": "6adacaa4-3570-4628-d7b3-37b62f18ed23"
      },
      "source": [
        "import graphviz \n",
        "dot_data = tree.export_graphviz(clf_gini.fit(x_train, y_train), out_file=None) \n",
        "graph = graphviz.Source(dot_data) \n",
        "graph.render(\"iris\") "
      ],
      "execution_count": null,
      "outputs": [
        {
          "output_type": "execute_result",
          "data": {
            "application/vnd.google.colaboratory.intrinsic+json": {
              "type": "string"
            },
            "text/plain": [
              "'iris.pdf'"
            ]
          },
          "metadata": {
            "tags": []
          },
          "execution_count": 41
        }
      ]
    },
    {
      "cell_type": "markdown",
      "metadata": {
        "id": "TCuDH4zdzBDl"
      },
      "source": [
        ""
      ]
    },
    {
      "cell_type": "markdown",
      "metadata": {
        "id": "gsVq1etwxoyV"
      },
      "source": [
        "## 9(ii). Using export_graphviz to Visualize Trees"
      ]
    },
    {
      "cell_type": "code",
      "metadata": {
        "colab": {
          "base_uri": "https://localhost:8080/",
          "height": 598
        },
        "id": "lQU69jPHhmBy",
        "outputId": "66694154-e02f-485d-c613-8af21a2833ea"
      },
      "source": [
        "dot_data = tree.export_graphviz(clf_gini.fit(x_train, y_train), \n",
        "                                out_file=None, \n",
        "                                feature_names=list(x.columns),  \n",
        "                                class_names=[ 'Iris-virginica', 'Iris-versicolor', 'Iris-setosa' ],  \n",
        "                                filled=True, \n",
        "                                rounded=True,  \n",
        "                                special_characters=True,\n",
        "                                leaves_parallel=False\n",
        "                                )  \n",
        "graph = graphviz.Source(dot_data)  \n",
        "graph "
      ],
      "execution_count": null,
      "outputs": [
        {
          "output_type": "execute_result",
          "data": {
            "text/plain": [
              "<graphviz.files.Source at 0x7fb6b4117ed0>"
            ],
            "image/svg+xml": "<?xml version=\"1.0\" encoding=\"UTF-8\" standalone=\"no\"?>\n<!DOCTYPE svg PUBLIC \"-//W3C//DTD SVG 1.1//EN\"\n \"http://www.w3.org/Graphics/SVG/1.1/DTD/svg11.dtd\">\n<!-- Generated by graphviz version 2.40.1 (20161225.0304)\n -->\n<!-- Title: Tree Pages: 1 -->\n<svg width=\"620pt\" height=\"433pt\"\n viewBox=\"0.00 0.00 619.50 433.00\" xmlns=\"http://www.w3.org/2000/svg\" xmlns:xlink=\"http://www.w3.org/1999/xlink\">\n<g id=\"graph0\" class=\"graph\" transform=\"scale(1 1) rotate(0) translate(4 429)\">\n<title>Tree</title>\n<polygon fill=\"#ffffff\" stroke=\"transparent\" points=\"-4,4 -4,-429 615.5,-429 615.5,4 -4,4\"/>\n<!-- 0 -->\n<g id=\"node1\" class=\"node\">\n<title>0</title>\n<path fill=\"#fdfcff\" stroke=\"#000000\" d=\"M294,-425C294,-425 178,-425 178,-425 172,-425 166,-419 166,-413 166,-413 166,-354 166,-354 166,-348 172,-342 178,-342 178,-342 294,-342 294,-342 300,-342 306,-348 306,-354 306,-354 306,-413 306,-413 306,-419 300,-425 294,-425\"/>\n<text text-anchor=\"start\" x=\"181.5\" y=\"-409.8\" font-family=\"Helvetica,sans-Serif\" font-size=\"14.00\" fill=\"#000000\">petal_width ≤ 0.8</text>\n<text text-anchor=\"start\" x=\"198\" y=\"-394.8\" font-family=\"Helvetica,sans-Serif\" font-size=\"14.00\" fill=\"#000000\">gini = 0.665</text>\n<text text-anchor=\"start\" x=\"192\" y=\"-379.8\" font-family=\"Helvetica,sans-Serif\" font-size=\"14.00\" fill=\"#000000\">samples = 90</text>\n<text text-anchor=\"start\" x=\"174\" y=\"-364.8\" font-family=\"Helvetica,sans-Serif\" font-size=\"14.00\" fill=\"#000000\">value = [27, 31, 32]</text>\n<text text-anchor=\"start\" x=\"177.5\" y=\"-349.8\" font-family=\"Helvetica,sans-Serif\" font-size=\"14.00\" fill=\"#000000\">class = Iris&#45;setosa</text>\n</g>\n<!-- 1 -->\n<g id=\"node2\" class=\"node\">\n<title>1</title>\n<path fill=\"#e58139\" stroke=\"#000000\" d=\"M217.5,-298.5C217.5,-298.5 98.5,-298.5 98.5,-298.5 92.5,-298.5 86.5,-292.5 86.5,-286.5 86.5,-286.5 86.5,-242.5 86.5,-242.5 86.5,-236.5 92.5,-230.5 98.5,-230.5 98.5,-230.5 217.5,-230.5 217.5,-230.5 223.5,-230.5 229.5,-236.5 229.5,-242.5 229.5,-242.5 229.5,-286.5 229.5,-286.5 229.5,-292.5 223.5,-298.5 217.5,-298.5\"/>\n<text text-anchor=\"start\" x=\"128.5\" y=\"-283.3\" font-family=\"Helvetica,sans-Serif\" font-size=\"14.00\" fill=\"#000000\">gini = 0.0</text>\n<text text-anchor=\"start\" x=\"114\" y=\"-268.3\" font-family=\"Helvetica,sans-Serif\" font-size=\"14.00\" fill=\"#000000\">samples = 27</text>\n<text text-anchor=\"start\" x=\"104.5\" y=\"-253.3\" font-family=\"Helvetica,sans-Serif\" font-size=\"14.00\" fill=\"#000000\">value = [27, 0, 0]</text>\n<text text-anchor=\"start\" x=\"94.5\" y=\"-238.3\" font-family=\"Helvetica,sans-Serif\" font-size=\"14.00\" fill=\"#000000\">class = Iris&#45;virginica</text>\n</g>\n<!-- 0&#45;&gt;1 -->\n<g id=\"edge1\" class=\"edge\">\n<title>0&#45;&gt;1</title>\n<path fill=\"none\" stroke=\"#000000\" d=\"M208.7194,-341.8796C201.3677,-330.6636 193.4036,-318.5131 186.0126,-307.2372\"/>\n<polygon fill=\"#000000\" stroke=\"#000000\" points=\"188.9014,-305.2598 180.4921,-298.8149 183.0469,-309.0972 188.9014,-305.2598\"/>\n<text text-anchor=\"middle\" x=\"175.3982\" y=\"-319.5905\" font-family=\"Helvetica,sans-Serif\" font-size=\"14.00\" fill=\"#000000\">True</text>\n</g>\n<!-- 2 -->\n<g id=\"node3\" class=\"node\">\n<title>2</title>\n<path fill=\"#fbf9fe\" stroke=\"#000000\" d=\"M370,-306C370,-306 260,-306 260,-306 254,-306 248,-300 248,-294 248,-294 248,-235 248,-235 248,-229 254,-223 260,-223 260,-223 370,-223 370,-223 376,-223 382,-229 382,-235 382,-235 382,-294 382,-294 382,-300 376,-306 370,-306\"/>\n<text text-anchor=\"start\" x=\"256\" y=\"-290.8\" font-family=\"Helvetica,sans-Serif\" font-size=\"14.00\" fill=\"#000000\">petal_width ≤ 1.75</text>\n<text text-anchor=\"start\" x=\"285.5\" y=\"-275.8\" font-family=\"Helvetica,sans-Serif\" font-size=\"14.00\" fill=\"#000000\">gini = 0.5</text>\n<text text-anchor=\"start\" x=\"271\" y=\"-260.8\" font-family=\"Helvetica,sans-Serif\" font-size=\"14.00\" fill=\"#000000\">samples = 63</text>\n<text text-anchor=\"start\" x=\"257.5\" y=\"-245.8\" font-family=\"Helvetica,sans-Serif\" font-size=\"14.00\" fill=\"#000000\">value = [0, 31, 32]</text>\n<text text-anchor=\"start\" x=\"256.5\" y=\"-230.8\" font-family=\"Helvetica,sans-Serif\" font-size=\"14.00\" fill=\"#000000\">class = Iris&#45;setosa</text>\n</g>\n<!-- 0&#45;&gt;2 -->\n<g id=\"edge2\" class=\"edge\">\n<title>0&#45;&gt;2</title>\n<path fill=\"none\" stroke=\"#000000\" d=\"M263.6304,-341.8796C269.43,-333.1434 275.6059,-323.8404 281.5908,-314.8253\"/>\n<polygon fill=\"#000000\" stroke=\"#000000\" points=\"284.6368,-316.5652 287.2517,-306.2981 278.8049,-312.6935 284.6368,-316.5652\"/>\n<text text-anchor=\"middle\" x=\"292.2022\" y=\"-327.103\" font-family=\"Helvetica,sans-Serif\" font-size=\"14.00\" fill=\"#000000\">False</text>\n</g>\n<!-- 3 -->\n<g id=\"node4\" class=\"node\">\n<title>3</title>\n<path fill=\"#53e892\" stroke=\"#000000\" d=\"M297,-187C297,-187 169,-187 169,-187 163,-187 157,-181 157,-175 157,-175 157,-116 157,-116 157,-110 163,-104 169,-104 169,-104 297,-104 297,-104 303,-104 309,-110 309,-116 309,-116 309,-175 309,-175 309,-181 303,-187 297,-187\"/>\n<text text-anchor=\"start\" x=\"171\" y=\"-171.8\" font-family=\"Helvetica,sans-Serif\" font-size=\"14.00\" fill=\"#000000\">petal_length ≤ 5.35</text>\n<text text-anchor=\"start\" x=\"195\" y=\"-156.8\" font-family=\"Helvetica,sans-Serif\" font-size=\"14.00\" fill=\"#000000\">gini = 0.208</text>\n<text text-anchor=\"start\" x=\"189\" y=\"-141.8\" font-family=\"Helvetica,sans-Serif\" font-size=\"14.00\" fill=\"#000000\">samples = 34</text>\n<text text-anchor=\"start\" x=\"179.5\" y=\"-126.8\" font-family=\"Helvetica,sans-Serif\" font-size=\"14.00\" fill=\"#000000\">value = [0, 30, 4]</text>\n<text text-anchor=\"start\" x=\"165\" y=\"-111.8\" font-family=\"Helvetica,sans-Serif\" font-size=\"14.00\" fill=\"#000000\">class = Iris&#45;versicolor</text>\n</g>\n<!-- 2&#45;&gt;3 -->\n<g id=\"edge3\" class=\"edge\">\n<title>2&#45;&gt;3</title>\n<path fill=\"none\" stroke=\"#000000\" d=\"M286.3204,-222.8796C280.2385,-214.0534 273.7578,-204.6485 267.4859,-195.5466\"/>\n<polygon fill=\"#000000\" stroke=\"#000000\" points=\"270.3582,-193.5465 261.802,-187.2981 264.5941,-197.5184 270.3582,-193.5465\"/>\n</g>\n<!-- 6 -->\n<g id=\"node7\" class=\"node\">\n<title>6</title>\n<path fill=\"#8640e6\" stroke=\"#000000\" d=\"M455,-187C455,-187 339,-187 339,-187 333,-187 327,-181 327,-175 327,-175 327,-116 327,-116 327,-110 333,-104 339,-104 339,-104 455,-104 455,-104 461,-104 467,-110 467,-116 467,-116 467,-175 467,-175 467,-181 461,-187 455,-187\"/>\n<text text-anchor=\"start\" x=\"335\" y=\"-171.8\" font-family=\"Helvetica,sans-Serif\" font-size=\"14.00\" fill=\"#000000\">petal_length ≤ 4.85</text>\n<text text-anchor=\"start\" x=\"359\" y=\"-156.8\" font-family=\"Helvetica,sans-Serif\" font-size=\"14.00\" fill=\"#000000\">gini = 0.067</text>\n<text text-anchor=\"start\" x=\"353\" y=\"-141.8\" font-family=\"Helvetica,sans-Serif\" font-size=\"14.00\" fill=\"#000000\">samples = 29</text>\n<text text-anchor=\"start\" x=\"343.5\" y=\"-126.8\" font-family=\"Helvetica,sans-Serif\" font-size=\"14.00\" fill=\"#000000\">value = [0, 1, 28]</text>\n<text text-anchor=\"start\" x=\"338.5\" y=\"-111.8\" font-family=\"Helvetica,sans-Serif\" font-size=\"14.00\" fill=\"#000000\">class = Iris&#45;setosa</text>\n</g>\n<!-- 2&#45;&gt;6 -->\n<g id=\"edge6\" class=\"edge\">\n<title>2&#45;&gt;6</title>\n<path fill=\"none\" stroke=\"#000000\" d=\"M343.6796,-222.8796C349.7615,-214.0534 356.2422,-204.6485 362.5141,-195.5466\"/>\n<polygon fill=\"#000000\" stroke=\"#000000\" points=\"365.4059,-197.5184 368.198,-187.2981 359.6418,-193.5465 365.4059,-197.5184\"/>\n</g>\n<!-- 4 -->\n<g id=\"node5\" class=\"node\">\n<title>4</title>\n<path fill=\"#46e789\" stroke=\"#000000\" d=\"M140,-68C140,-68 12,-68 12,-68 6,-68 0,-62 0,-56 0,-56 0,-12 0,-12 0,-6 6,0 12,0 12,0 140,0 140,0 146,0 152,-6 152,-12 152,-12 152,-56 152,-56 152,-62 146,-68 140,-68\"/>\n<text text-anchor=\"start\" x=\"38\" y=\"-52.8\" font-family=\"Helvetica,sans-Serif\" font-size=\"14.00\" fill=\"#000000\">gini = 0.117</text>\n<text text-anchor=\"start\" x=\"32\" y=\"-37.8\" font-family=\"Helvetica,sans-Serif\" font-size=\"14.00\" fill=\"#000000\">samples = 32</text>\n<text text-anchor=\"start\" x=\"22.5\" y=\"-22.8\" font-family=\"Helvetica,sans-Serif\" font-size=\"14.00\" fill=\"#000000\">value = [0, 30, 2]</text>\n<text text-anchor=\"start\" x=\"8\" y=\"-7.8\" font-family=\"Helvetica,sans-Serif\" font-size=\"14.00\" fill=\"#000000\">class = Iris&#45;versicolor</text>\n</g>\n<!-- 3&#45;&gt;4 -->\n<g id=\"edge4\" class=\"edge\">\n<title>3&#45;&gt;4</title>\n<path fill=\"none\" stroke=\"#000000\" d=\"M174.539,-103.9815C160.7492,-94.1881 146.0753,-83.7668 132.3795,-74.0402\"/>\n<polygon fill=\"#000000\" stroke=\"#000000\" points=\"134.1747,-71.0223 123.995,-68.0856 130.1215,-76.7295 134.1747,-71.0223\"/>\n</g>\n<!-- 5 -->\n<g id=\"node6\" class=\"node\">\n<title>5</title>\n<path fill=\"#8139e5\" stroke=\"#000000\" d=\"M291.5,-68C291.5,-68 182.5,-68 182.5,-68 176.5,-68 170.5,-62 170.5,-56 170.5,-56 170.5,-12 170.5,-12 170.5,-6 176.5,0 182.5,0 182.5,0 291.5,0 291.5,0 297.5,0 303.5,-6 303.5,-12 303.5,-12 303.5,-56 303.5,-56 303.5,-62 297.5,-68 291.5,-68\"/>\n<text text-anchor=\"start\" x=\"207.5\" y=\"-52.8\" font-family=\"Helvetica,sans-Serif\" font-size=\"14.00\" fill=\"#000000\">gini = 0.0</text>\n<text text-anchor=\"start\" x=\"197.5\" y=\"-37.8\" font-family=\"Helvetica,sans-Serif\" font-size=\"14.00\" fill=\"#000000\">samples = 2</text>\n<text text-anchor=\"start\" x=\"187.5\" y=\"-22.8\" font-family=\"Helvetica,sans-Serif\" font-size=\"14.00\" fill=\"#000000\">value = [0, 0, 2]</text>\n<text text-anchor=\"start\" x=\"178.5\" y=\"-7.8\" font-family=\"Helvetica,sans-Serif\" font-size=\"14.00\" fill=\"#000000\">class = Iris&#45;setosa</text>\n</g>\n<!-- 3&#45;&gt;5 -->\n<g id=\"edge5\" class=\"edge\">\n<title>3&#45;&gt;5</title>\n<path fill=\"none\" stroke=\"#000000\" d=\"M234.4895,-103.9815C234.7895,-95.618 235.106,-86.7965 235.4093,-78.3409\"/>\n<polygon fill=\"#000000\" stroke=\"#000000\" points=\"238.91,-78.3828 235.7708,-68.2637 231.9145,-78.1317 238.91,-78.3828\"/>\n</g>\n<!-- 7 -->\n<g id=\"node8\" class=\"node\">\n<title>7</title>\n<path fill=\"#c09cf2\" stroke=\"#000000\" d=\"M448.5,-68C448.5,-68 339.5,-68 339.5,-68 333.5,-68 327.5,-62 327.5,-56 327.5,-56 327.5,-12 327.5,-12 327.5,-6 333.5,0 339.5,0 339.5,0 448.5,0 448.5,0 454.5,0 460.5,-6 460.5,-12 460.5,-12 460.5,-56 460.5,-56 460.5,-62 454.5,-68 448.5,-68\"/>\n<text text-anchor=\"start\" x=\"356\" y=\"-52.8\" font-family=\"Helvetica,sans-Serif\" font-size=\"14.00\" fill=\"#000000\">gini = 0.444</text>\n<text text-anchor=\"start\" x=\"354.5\" y=\"-37.8\" font-family=\"Helvetica,sans-Serif\" font-size=\"14.00\" fill=\"#000000\">samples = 3</text>\n<text text-anchor=\"start\" x=\"344.5\" y=\"-22.8\" font-family=\"Helvetica,sans-Serif\" font-size=\"14.00\" fill=\"#000000\">value = [0, 1, 2]</text>\n<text text-anchor=\"start\" x=\"335.5\" y=\"-7.8\" font-family=\"Helvetica,sans-Serif\" font-size=\"14.00\" fill=\"#000000\">class = Iris&#45;setosa</text>\n</g>\n<!-- 6&#45;&gt;7 -->\n<g id=\"edge7\" class=\"edge\">\n<title>6&#45;&gt;7</title>\n<path fill=\"none\" stroke=\"#000000\" d=\"M395.8829,-103.9815C395.6579,-95.618 395.4205,-86.7965 395.193,-78.3409\"/>\n<polygon fill=\"#000000\" stroke=\"#000000\" points=\"398.6897,-78.1659 394.9219,-68.2637 391.6922,-78.3542 398.6897,-78.1659\"/>\n</g>\n<!-- 8 -->\n<g id=\"node9\" class=\"node\">\n<title>8</title>\n<path fill=\"#8139e5\" stroke=\"#000000\" d=\"M599.5,-68C599.5,-68 490.5,-68 490.5,-68 484.5,-68 478.5,-62 478.5,-56 478.5,-56 478.5,-12 478.5,-12 478.5,-6 484.5,0 490.5,0 490.5,0 599.5,0 599.5,0 605.5,0 611.5,-6 611.5,-12 611.5,-12 611.5,-56 611.5,-56 611.5,-62 605.5,-68 599.5,-68\"/>\n<text text-anchor=\"start\" x=\"515.5\" y=\"-52.8\" font-family=\"Helvetica,sans-Serif\" font-size=\"14.00\" fill=\"#000000\">gini = 0.0</text>\n<text text-anchor=\"start\" x=\"501\" y=\"-37.8\" font-family=\"Helvetica,sans-Serif\" font-size=\"14.00\" fill=\"#000000\">samples = 26</text>\n<text text-anchor=\"start\" x=\"491.5\" y=\"-22.8\" font-family=\"Helvetica,sans-Serif\" font-size=\"14.00\" fill=\"#000000\">value = [0, 0, 26]</text>\n<text text-anchor=\"start\" x=\"486.5\" y=\"-7.8\" font-family=\"Helvetica,sans-Serif\" font-size=\"14.00\" fill=\"#000000\">class = Iris&#45;setosa</text>\n</g>\n<!-- 6&#45;&gt;8 -->\n<g id=\"edge8\" class=\"edge\">\n<title>6&#45;&gt;8</title>\n<path fill=\"none\" stroke=\"#000000\" d=\"M452.1097,-103.9815C464.919,-94.3313 478.5375,-84.0714 491.2856,-74.4673\"/>\n<polygon fill=\"#000000\" stroke=\"#000000\" points=\"493.639,-77.0764 499.52,-68.2637 489.4269,-71.4855 493.639,-77.0764\"/>\n</g>\n</g>\n</svg>\n"
          },
          "metadata": {
            "tags": []
          },
          "execution_count": 61
        }
      ]
    },
    {
      "cell_type": "markdown",
      "metadata": {
        "id": "-M_7FpBXf-FJ"
      },
      "source": [
        "## 10. Using pydotplus to Visualize Trees"
      ]
    },
    {
      "cell_type": "code",
      "metadata": {
        "id": "230ctW-Thwnn"
      },
      "source": [
        "import pydotplus\n",
        "from IPython.display import Image"
      ],
      "execution_count": null,
      "outputs": []
    },
    {
      "cell_type": "code",
      "metadata": {
        "colab": {
          "base_uri": "https://localhost:8080/",
          "height": 594
        },
        "id": "8kwJXNnxhSVa",
        "outputId": "2bd1f338-04a1-43e9-d051-ca93c043023b"
      },
      "source": [
        "graph = pydotplus.graphviz.graph_from_dot_file(\"iris.dot\")\n",
        "Image(graph.create_png())"
      ],
      "execution_count": null,
      "outputs": [
        {
          "output_type": "execute_result",
          "data": {
            "image/png": "[encoded data removed]",
            "text/plain": [
              "<IPython.core.display.Image object>"
            ]
          },
          "metadata": {
            "tags": []
          },
          "execution_count": 74
        }
      ]
    },
    {
      "cell_type": "markdown",
      "metadata": {
        "id": "w2ZgwUbFjAdI"
      },
      "source": [
        "# 11. DECISION TREE CLASSIFICATION ALGO\n",
        "## (based on ENTROPY criterion and MAX_DEPTH = 5 ) \n",
        "\n",
        "\n",
        "---\n",
        "\n"
      ]
    },
    {
      "cell_type": "code",
      "metadata": {
        "colab": {
          "base_uri": "https://localhost:8080/"
        },
        "id": "D9MA9se8ioHq",
        "outputId": "cc64846e-894d-4da8-ba0b-84c5b870bb0f"
      },
      "source": [
        "# Applying Decision tree classification on x_train and y_train with MAX_DEPTH = 5\n",
        "# ENTROPY Classifier = clf_entropy\n",
        "clf_entropy = DecisionTreeClassifier(criterion='entropy', max_depth=5, random_state=0)\n",
        "clf_entropy.fit(x_train, y_train)"
      ],
      "execution_count": null,
      "outputs": [
        {
          "output_type": "execute_result",
          "data": {
            "text/plain": [
              "DecisionTreeClassifier(ccp_alpha=0.0, class_weight=None, criterion='entropy',\n",
              "                       max_depth=5, max_features=None, max_leaf_nodes=None,\n",
              "                       min_impurity_decrease=0.0, min_impurity_split=None,\n",
              "                       min_samples_leaf=1, min_samples_split=2,\n",
              "                       min_weight_fraction_leaf=0.0, presort='deprecated',\n",
              "                       random_state=0, splitter='best')"
            ]
          },
          "metadata": {
            "tags": []
          },
          "execution_count": 67
        }
      ]
    },
    {
      "cell_type": "code",
      "metadata": {
        "colab": {
          "base_uri": "https://localhost:8080/"
        },
        "id": "C9iS4CWTi8Kw",
        "outputId": "fbdcc55c-19d3-4ad7-beef-b25e99a8ce68"
      },
      "source": [
        "# Predicted y-values when ENTROPY is used\n",
        "y_pred_entropy = clf_entropy.predict(x_test)\n",
        "y_pred_entropy"
      ],
      "execution_count": null,
      "outputs": [
        {
          "output_type": "execute_result",
          "data": {
            "text/plain": [
              "array(['Iris-versicolor', 'Iris-setosa', 'Iris-virginica',\n",
              "       'Iris-versicolor', 'Iris-versicolor', 'Iris-setosa',\n",
              "       'Iris-versicolor', 'Iris-virginica', 'Iris-virginica',\n",
              "       'Iris-versicolor', 'Iris-virginica', 'Iris-setosa', 'Iris-setosa',\n",
              "       'Iris-setosa', 'Iris-setosa', 'Iris-versicolor', 'Iris-virginica',\n",
              "       'Iris-versicolor', 'Iris-versicolor', 'Iris-virginica',\n",
              "       'Iris-setosa', 'Iris-virginica', 'Iris-setosa', 'Iris-virginica',\n",
              "       'Iris-virginica', 'Iris-virginica', 'Iris-virginica',\n",
              "       'Iris-virginica', 'Iris-setosa', 'Iris-setosa', 'Iris-setosa',\n",
              "       'Iris-setosa', 'Iris-versicolor', 'Iris-setosa', 'Iris-setosa',\n",
              "       'Iris-virginica', 'Iris-versicolor', 'Iris-setosa', 'Iris-setosa',\n",
              "       'Iris-setosa', 'Iris-virginica', 'Iris-versicolor',\n",
              "       'Iris-versicolor', 'Iris-setosa', 'Iris-setosa', 'Iris-versicolor',\n",
              "       'Iris-versicolor', 'Iris-virginica', 'Iris-versicolor',\n",
              "       'Iris-virginica', 'Iris-versicolor', 'Iris-virginica',\n",
              "       'Iris-versicolor', 'Iris-setosa', 'Iris-virginica',\n",
              "       'Iris-versicolor', 'Iris-setosa', 'Iris-setosa', 'Iris-setosa',\n",
              "       'Iris-versicolor'], dtype=object)"
            ]
          },
          "metadata": {
            "tags": []
          },
          "execution_count": 68
        }
      ]
    },
    {
      "cell_type": "code",
      "metadata": {
        "colab": {
          "base_uri": "https://localhost:8080/"
        },
        "id": "dQeeGywCjQSU",
        "outputId": "cc69a4a1-37fb-4071-efbf-16a4a0d3fdb5"
      },
      "source": [
        "print('With ENTROPY as Criterion\\nDecision Tree Classifier Model Accuracy: {0:0.4f}'. format(accuracy_score(y_test, y_pred_entropy)))"
      ],
      "execution_count": null,
      "outputs": [
        {
          "output_type": "stream",
          "text": [
            "With ENTROPY as Criterion\n",
            "Decision Tree Classifier Model Accuracy: 0.9667\n"
          ],
          "name": "stdout"
        }
      ]
    },
    {
      "cell_type": "code",
      "metadata": {
        "colab": {
          "base_uri": "https://localhost:8080/"
        },
        "id": "9QqjnvFAjZHC",
        "outputId": "529eb1da-bb64-445a-dd0b-f29a8652d9d4"
      },
      "source": [
        "print('Training set score: {:.4f}'.format(clf_entropy.score(x_train, y_train)))\n",
        "print('Test set score: {:.4f}'.format(clf_entropy.score(x_test, y_test)))"
      ],
      "execution_count": null,
      "outputs": [
        {
          "output_type": "stream",
          "text": [
            "Training set score: 0.9889\n",
            "Test set score: 0.9667\n"
          ],
          "name": "stdout"
        }
      ]
    },
    {
      "cell_type": "code",
      "metadata": {
        "id": "sLTDtYOLjgz5"
      },
      "source": [
        "# CLEARLY Training Score is greater than Test Score.... IT's UNDER-FITTING !!!"
      ],
      "execution_count": null,
      "outputs": []
    },
    {
      "cell_type": "code",
      "metadata": {
        "colab": {
          "base_uri": "https://localhost:8080/",
          "height": 721
        },
        "id": "wsEqX9dYjogR",
        "outputId": "401cee50-8863-4548-8714-831ddc6bff5c"
      },
      "source": [
        "plt.figure(figsize=(12,8))\n",
        "tree.plot_tree(clf_entropy.fit(x_train, y_train)) "
      ],
      "execution_count": null,
      "outputs": [
        {
          "output_type": "execute_result",
          "data": {
            "text/plain": [
              "[Text(297.6, 398.64, 'X[3] <= 0.8\\nentropy = 1.581\\nsamples = 90\\nvalue = [27, 31, 32]'),\n",
              " Text(223.20000000000002, 326.15999999999997, 'entropy = 0.0\\nsamples = 27\\nvalue = [27, 0, 0]'),\n",
              " Text(372.0, 326.15999999999997, 'X[3] <= 1.75\\nentropy = 1.0\\nsamples = 63\\nvalue = [0, 31, 32]'),\n",
              " Text(223.20000000000002, 253.67999999999998, 'X[2] <= 5.35\\nentropy = 0.523\\nsamples = 34\\nvalue = [0, 30, 4]'),\n",
              " Text(148.8, 181.2, 'X[3] <= 1.45\\nentropy = 0.337\\nsamples = 32\\nvalue = [0, 30, 2]'),\n",
              " Text(74.4, 108.71999999999997, 'entropy = 0.0\\nsamples = 23\\nvalue = [0, 23, 0]'),\n",
              " Text(223.20000000000002, 108.71999999999997, 'X[1] <= 2.6\\nentropy = 0.764\\nsamples = 9\\nvalue = [0, 7, 2]'),\n",
              " Text(148.8, 36.23999999999995, 'entropy = 0.918\\nsamples = 3\\nvalue = [0, 1, 2]'),\n",
              " Text(297.6, 36.23999999999995, 'entropy = 0.0\\nsamples = 6\\nvalue = [0, 6, 0]'),\n",
              " Text(297.6, 181.2, 'entropy = 0.0\\nsamples = 2\\nvalue = [0, 0, 2]'),\n",
              " Text(520.8000000000001, 253.67999999999998, 'X[2] <= 4.85\\nentropy = 0.216\\nsamples = 29\\nvalue = [0, 1, 28]'),\n",
              " Text(446.40000000000003, 181.2, 'X[0] <= 5.95\\nentropy = 0.918\\nsamples = 3\\nvalue = [0, 1, 2]'),\n",
              " Text(372.0, 108.71999999999997, 'entropy = 0.0\\nsamples = 1\\nvalue = [0, 1, 0]'),\n",
              " Text(520.8000000000001, 108.71999999999997, 'entropy = 0.0\\nsamples = 2\\nvalue = [0, 0, 2]'),\n",
              " Text(595.2, 181.2, 'entropy = 0.0\\nsamples = 26\\nvalue = [0, 0, 26]')]"
            ]
          },
          "metadata": {
            "tags": []
          },
          "execution_count": 71
        },
        {
          "output_type": "display_data",
          "data": {
            "image/png": "[encoded data removed]",
            "text/plain": [
              "<Figure size 864x576 with 1 Axes>"
            ]
          },
          "metadata": {
            "tags": [],
            "needs_background": "light"
          }
        }
      ]
    },
    {
      "cell_type": "code",
      "metadata": {
        "colab": {
          "base_uri": "https://localhost:8080/",
          "height": 916
        },
        "id": "ghhjnlUQjxi6",
        "outputId": "76c7c114-b6f0-475d-a7d6-905b84382374"
      },
      "source": [
        "dot_data = tree.export_graphviz(clf_entropy.fit(x_train, y_train), \n",
        "                                out_file=None, \n",
        "                                feature_names=list(x.columns),  \n",
        "                                class_names=[ 'Iris-virginica', 'Iris-versicolor', 'Iris-setosa' ],  \n",
        "                                filled=True, \n",
        "                                rounded=True,  \n",
        "                                special_characters=True,\n",
        "                                leaves_parallel=False\n",
        "                                )  \n",
        "graph = graphviz.Source(dot_data)  \n",
        "graph "
      ],
      "execution_count": null,
      "outputs": [
        {
          "output_type": "execute_result",
          "data": {
            "text/plain": [
              "<graphviz.files.Source at 0x7fb6b466a190>"
            ],
            "image/svg+xml": "<?xml version=\"1.0\" encoding=\"UTF-8\" standalone=\"no\"?>\n<!DOCTYPE svg PUBLIC \"-//W3C//DTD SVG 1.1//EN\"\n \"http://www.w3.org/Graphics/SVG/1.1/DTD/svg11.dtd\">\n<!-- Generated by graphviz version 2.40.1 (20161225.0304)\n -->\n<!-- Title: Tree Pages: 1 -->\n<svg width=\"759pt\" height=\"671pt\"\n viewBox=\"0.00 0.00 758.50 671.00\" xmlns=\"http://www.w3.org/2000/svg\" xmlns:xlink=\"http://www.w3.org/1999/xlink\">\n<g id=\"graph0\" class=\"graph\" transform=\"scale(1 1) rotate(0) translate(4 667)\">\n<title>Tree</title>\n<polygon fill=\"#ffffff\" stroke=\"transparent\" points=\"-4,4 -4,-667 754.5,-667 754.5,4 -4,4\"/>\n<!-- 0 -->\n<g id=\"node1\" class=\"node\">\n<title>0</title>\n<path fill=\"#fdfcff\" stroke=\"#000000\" d=\"M427,-663C427,-663 311,-663 311,-663 305,-663 299,-657 299,-651 299,-651 299,-592 299,-592 299,-586 305,-580 311,-580 311,-580 427,-580 427,-580 433,-580 439,-586 439,-592 439,-592 439,-651 439,-651 439,-657 433,-663 427,-663\"/>\n<text text-anchor=\"start\" x=\"314.5\" y=\"-647.8\" font-family=\"Helvetica,sans-Serif\" font-size=\"14.00\" fill=\"#000000\">petal_width ≤ 0.8</text>\n<text text-anchor=\"start\" x=\"318\" y=\"-632.8\" font-family=\"Helvetica,sans-Serif\" font-size=\"14.00\" fill=\"#000000\">entropy = 1.581</text>\n<text text-anchor=\"start\" x=\"325\" y=\"-617.8\" font-family=\"Helvetica,sans-Serif\" font-size=\"14.00\" fill=\"#000000\">samples = 90</text>\n<text text-anchor=\"start\" x=\"307\" y=\"-602.8\" font-family=\"Helvetica,sans-Serif\" font-size=\"14.00\" fill=\"#000000\">value = [27, 31, 32]</text>\n<text text-anchor=\"start\" x=\"310.5\" y=\"-587.8\" font-family=\"Helvetica,sans-Serif\" font-size=\"14.00\" fill=\"#000000\">class = Iris&#45;setosa</text>\n</g>\n<!-- 1 -->\n<g id=\"node2\" class=\"node\">\n<title>1</title>\n<path fill=\"#e58139\" stroke=\"#000000\" d=\"M350.5,-536.5C350.5,-536.5 231.5,-536.5 231.5,-536.5 225.5,-536.5 219.5,-530.5 219.5,-524.5 219.5,-524.5 219.5,-480.5 219.5,-480.5 219.5,-474.5 225.5,-468.5 231.5,-468.5 231.5,-468.5 350.5,-468.5 350.5,-468.5 356.5,-468.5 362.5,-474.5 362.5,-480.5 362.5,-480.5 362.5,-524.5 362.5,-524.5 362.5,-530.5 356.5,-536.5 350.5,-536.5\"/>\n<text text-anchor=\"start\" x=\"248.5\" y=\"-521.3\" font-family=\"Helvetica,sans-Serif\" font-size=\"14.00\" fill=\"#000000\">entropy = 0.0</text>\n<text text-anchor=\"start\" x=\"247\" y=\"-506.3\" font-family=\"Helvetica,sans-Serif\" font-size=\"14.00\" fill=\"#000000\">samples = 27</text>\n<text text-anchor=\"start\" x=\"237.5\" y=\"-491.3\" font-family=\"Helvetica,sans-Serif\" font-size=\"14.00\" fill=\"#000000\">value = [27, 0, 0]</text>\n<text text-anchor=\"start\" x=\"227.5\" y=\"-476.3\" font-family=\"Helvetica,sans-Serif\" font-size=\"14.00\" fill=\"#000000\">class = Iris&#45;virginica</text>\n</g>\n<!-- 0&#45;&gt;1 -->\n<g id=\"edge1\" class=\"edge\">\n<title>0&#45;&gt;1</title>\n<path fill=\"none\" stroke=\"#000000\" d=\"M341.7194,-579.8796C334.3677,-568.6636 326.4036,-556.5131 319.0126,-545.2372\"/>\n<polygon fill=\"#000000\" stroke=\"#000000\" points=\"321.9014,-543.2598 313.4921,-536.8149 316.0469,-547.0972 321.9014,-543.2598\"/>\n<text text-anchor=\"middle\" x=\"308.3982\" y=\"-557.5905\" font-family=\"Helvetica,sans-Serif\" font-size=\"14.00\" fill=\"#000000\">True</text>\n</g>\n<!-- 2 -->\n<g id=\"node3\" class=\"node\">\n<title>2</title>\n<path fill=\"#fbf9fe\" stroke=\"#000000\" d=\"M503,-544C503,-544 393,-544 393,-544 387,-544 381,-538 381,-532 381,-532 381,-473 381,-473 381,-467 387,-461 393,-461 393,-461 503,-461 503,-461 509,-461 515,-467 515,-473 515,-473 515,-532 515,-532 515,-538 509,-544 503,-544\"/>\n<text text-anchor=\"start\" x=\"389\" y=\"-528.8\" font-family=\"Helvetica,sans-Serif\" font-size=\"14.00\" fill=\"#000000\">petal_width ≤ 1.75</text>\n<text text-anchor=\"start\" x=\"405.5\" y=\"-513.8\" font-family=\"Helvetica,sans-Serif\" font-size=\"14.00\" fill=\"#000000\">entropy = 1.0</text>\n<text text-anchor=\"start\" x=\"404\" y=\"-498.8\" font-family=\"Helvetica,sans-Serif\" font-size=\"14.00\" fill=\"#000000\">samples = 63</text>\n<text text-anchor=\"start\" x=\"390.5\" y=\"-483.8\" font-family=\"Helvetica,sans-Serif\" font-size=\"14.00\" fill=\"#000000\">value = [0, 31, 32]</text>\n<text text-anchor=\"start\" x=\"389.5\" y=\"-468.8\" font-family=\"Helvetica,sans-Serif\" font-size=\"14.00\" fill=\"#000000\">class = Iris&#45;setosa</text>\n</g>\n<!-- 0&#45;&gt;2 -->\n<g id=\"edge2\" class=\"edge\">\n<title>0&#45;&gt;2</title>\n<path fill=\"none\" stroke=\"#000000\" d=\"M396.6304,-579.8796C402.43,-571.1434 408.6059,-561.8404 414.5908,-552.8253\"/>\n<polygon fill=\"#000000\" stroke=\"#000000\" points=\"417.6368,-554.5652 420.2517,-544.2981 411.8049,-550.6935 417.6368,-554.5652\"/>\n<text text-anchor=\"middle\" x=\"425.2022\" y=\"-565.103\" font-family=\"Helvetica,sans-Serif\" font-size=\"14.00\" fill=\"#000000\">False</text>\n</g>\n<!-- 3 -->\n<g id=\"node4\" class=\"node\">\n<title>3</title>\n<path fill=\"#53e892\" stroke=\"#000000\" d=\"M430,-425C430,-425 302,-425 302,-425 296,-425 290,-419 290,-413 290,-413 290,-354 290,-354 290,-348 296,-342 302,-342 302,-342 430,-342 430,-342 436,-342 442,-348 442,-354 442,-354 442,-413 442,-413 442,-419 436,-425 430,-425\"/>\n<text text-anchor=\"start\" x=\"304\" y=\"-409.8\" font-family=\"Helvetica,sans-Serif\" font-size=\"14.00\" fill=\"#000000\">petal_length ≤ 5.35</text>\n<text text-anchor=\"start\" x=\"315\" y=\"-394.8\" font-family=\"Helvetica,sans-Serif\" font-size=\"14.00\" fill=\"#000000\">entropy = 0.523</text>\n<text text-anchor=\"start\" x=\"322\" y=\"-379.8\" font-family=\"Helvetica,sans-Serif\" font-size=\"14.00\" fill=\"#000000\">samples = 34</text>\n<text text-anchor=\"start\" x=\"312.5\" y=\"-364.8\" font-family=\"Helvetica,sans-Serif\" font-size=\"14.00\" fill=\"#000000\">value = [0, 30, 4]</text>\n<text text-anchor=\"start\" x=\"298\" y=\"-349.8\" font-family=\"Helvetica,sans-Serif\" font-size=\"14.00\" fill=\"#000000\">class = Iris&#45;versicolor</text>\n</g>\n<!-- 2&#45;&gt;3 -->\n<g id=\"edge3\" class=\"edge\">\n<title>2&#45;&gt;3</title>\n<path fill=\"none\" stroke=\"#000000\" d=\"M419.3204,-460.8796C413.2385,-452.0534 406.7578,-442.6485 400.4859,-433.5466\"/>\n<polygon fill=\"#000000\" stroke=\"#000000\" points=\"403.3582,-431.5465 394.802,-425.2981 397.5941,-435.5184 403.3582,-431.5465\"/>\n</g>\n<!-- 10 -->\n<g id=\"node11\" class=\"node\">\n<title>10</title>\n<path fill=\"#8640e6\" stroke=\"#000000\" d=\"M588,-425C588,-425 472,-425 472,-425 466,-425 460,-419 460,-413 460,-413 460,-354 460,-354 460,-348 466,-342 472,-342 472,-342 588,-342 588,-342 594,-342 600,-348 600,-354 600,-354 600,-413 600,-413 600,-419 594,-425 588,-425\"/>\n<text text-anchor=\"start\" x=\"468\" y=\"-409.8\" font-family=\"Helvetica,sans-Serif\" font-size=\"14.00\" fill=\"#000000\">petal_length ≤ 4.85</text>\n<text text-anchor=\"start\" x=\"479\" y=\"-394.8\" font-family=\"Helvetica,sans-Serif\" font-size=\"14.00\" fill=\"#000000\">entropy = 0.216</text>\n<text text-anchor=\"start\" x=\"486\" y=\"-379.8\" font-family=\"Helvetica,sans-Serif\" font-size=\"14.00\" fill=\"#000000\">samples = 29</text>\n<text text-anchor=\"start\" x=\"476.5\" y=\"-364.8\" font-family=\"Helvetica,sans-Serif\" font-size=\"14.00\" fill=\"#000000\">value = [0, 1, 28]</text>\n<text text-anchor=\"start\" x=\"471.5\" y=\"-349.8\" font-family=\"Helvetica,sans-Serif\" font-size=\"14.00\" fill=\"#000000\">class = Iris&#45;setosa</text>\n</g>\n<!-- 2&#45;&gt;10 -->\n<g id=\"edge10\" class=\"edge\">\n<title>2&#45;&gt;10</title>\n<path fill=\"none\" stroke=\"#000000\" d=\"M476.6796,-460.8796C482.7615,-452.0534 489.2422,-442.6485 495.5141,-433.5466\"/>\n<polygon fill=\"#000000\" stroke=\"#000000\" points=\"498.4059,-435.5184 501.198,-425.2981 492.6418,-431.5465 498.4059,-435.5184\"/>\n</g>\n<!-- 4 -->\n<g id=\"node5\" class=\"node\">\n<title>4</title>\n<path fill=\"#46e789\" stroke=\"#000000\" d=\"M271,-306C271,-306 143,-306 143,-306 137,-306 131,-300 131,-294 131,-294 131,-235 131,-235 131,-229 137,-223 143,-223 143,-223 271,-223 271,-223 277,-223 283,-229 283,-235 283,-235 283,-294 283,-294 283,-300 277,-306 271,-306\"/>\n<text text-anchor=\"start\" x=\"148\" y=\"-290.8\" font-family=\"Helvetica,sans-Serif\" font-size=\"14.00\" fill=\"#000000\">petal_width ≤ 1.45</text>\n<text text-anchor=\"start\" x=\"156\" y=\"-275.8\" font-family=\"Helvetica,sans-Serif\" font-size=\"14.00\" fill=\"#000000\">entropy = 0.337</text>\n<text text-anchor=\"start\" x=\"163\" y=\"-260.8\" font-family=\"Helvetica,sans-Serif\" font-size=\"14.00\" fill=\"#000000\">samples = 32</text>\n<text text-anchor=\"start\" x=\"153.5\" y=\"-245.8\" font-family=\"Helvetica,sans-Serif\" font-size=\"14.00\" fill=\"#000000\">value = [0, 30, 2]</text>\n<text text-anchor=\"start\" x=\"139\" y=\"-230.8\" font-family=\"Helvetica,sans-Serif\" font-size=\"14.00\" fill=\"#000000\">class = Iris&#45;versicolor</text>\n</g>\n<!-- 3&#45;&gt;4 -->\n<g id=\"edge4\" class=\"edge\">\n<title>3&#45;&gt;4</title>\n<path fill=\"none\" stroke=\"#000000\" d=\"M310.3895,-341.8796C297.5597,-332.2774 283.8148,-321.9903 270.6714,-312.1534\"/>\n<polygon fill=\"#000000\" stroke=\"#000000\" points=\"272.6823,-309.2868 262.5791,-306.0969 268.4879,-314.891 272.6823,-309.2868\"/>\n</g>\n<!-- 9 -->\n<g id=\"node10\" class=\"node\">\n<title>9</title>\n<path fill=\"#8139e5\" stroke=\"#000000\" d=\"M422.5,-298.5C422.5,-298.5 313.5,-298.5 313.5,-298.5 307.5,-298.5 301.5,-292.5 301.5,-286.5 301.5,-286.5 301.5,-242.5 301.5,-242.5 301.5,-236.5 307.5,-230.5 313.5,-230.5 313.5,-230.5 422.5,-230.5 422.5,-230.5 428.5,-230.5 434.5,-236.5 434.5,-242.5 434.5,-242.5 434.5,-286.5 434.5,-286.5 434.5,-292.5 428.5,-298.5 422.5,-298.5\"/>\n<text text-anchor=\"start\" x=\"325.5\" y=\"-283.3\" font-family=\"Helvetica,sans-Serif\" font-size=\"14.00\" fill=\"#000000\">entropy = 0.0</text>\n<text text-anchor=\"start\" x=\"328.5\" y=\"-268.3\" font-family=\"Helvetica,sans-Serif\" font-size=\"14.00\" fill=\"#000000\">samples = 2</text>\n<text text-anchor=\"start\" x=\"318.5\" y=\"-253.3\" font-family=\"Helvetica,sans-Serif\" font-size=\"14.00\" fill=\"#000000\">value = [0, 0, 2]</text>\n<text text-anchor=\"start\" x=\"309.5\" y=\"-238.3\" font-family=\"Helvetica,sans-Serif\" font-size=\"14.00\" fill=\"#000000\">class = Iris&#45;setosa</text>\n</g>\n<!-- 3&#45;&gt;9 -->\n<g id=\"edge9\" class=\"edge\">\n<title>3&#45;&gt;9</title>\n<path fill=\"none\" stroke=\"#000000\" d=\"M366.6995,-341.8796C366.8788,-331.2134 367.0722,-319.7021 367.2538,-308.9015\"/>\n<polygon fill=\"#000000\" stroke=\"#000000\" points=\"370.7546,-308.8724 367.4233,-298.8149 363.7556,-308.7547 370.7546,-308.8724\"/>\n</g>\n<!-- 5 -->\n<g id=\"node6\" class=\"node\">\n<title>5</title>\n<path fill=\"#39e581\" stroke=\"#000000\" d=\"M140,-179.5C140,-179.5 12,-179.5 12,-179.5 6,-179.5 0,-173.5 0,-167.5 0,-167.5 0,-123.5 0,-123.5 0,-117.5 6,-111.5 12,-111.5 12,-111.5 140,-111.5 140,-111.5 146,-111.5 152,-117.5 152,-123.5 152,-123.5 152,-167.5 152,-167.5 152,-173.5 146,-179.5 140,-179.5\"/>\n<text text-anchor=\"start\" x=\"33.5\" y=\"-164.3\" font-family=\"Helvetica,sans-Serif\" font-size=\"14.00\" fill=\"#000000\">entropy = 0.0</text>\n<text text-anchor=\"start\" x=\"32\" y=\"-149.3\" font-family=\"Helvetica,sans-Serif\" font-size=\"14.00\" fill=\"#000000\">samples = 23</text>\n<text text-anchor=\"start\" x=\"22.5\" y=\"-134.3\" font-family=\"Helvetica,sans-Serif\" font-size=\"14.00\" fill=\"#000000\">value = [0, 23, 0]</text>\n<text text-anchor=\"start\" x=\"8\" y=\"-119.3\" font-family=\"Helvetica,sans-Serif\" font-size=\"14.00\" fill=\"#000000\">class = Iris&#45;versicolor</text>\n</g>\n<!-- 4&#45;&gt;5 -->\n<g id=\"edge5\" class=\"edge\">\n<title>4&#45;&gt;5</title>\n<path fill=\"none\" stroke=\"#000000\" d=\"M161.1826,-222.8796C148.2303,-211.1138 134.146,-198.3197 121.2286,-186.5855\"/>\n<polygon fill=\"#000000\" stroke=\"#000000\" points=\"123.5306,-183.9482 113.7753,-179.8149 118.8239,-189.1296 123.5306,-183.9482\"/>\n</g>\n<!-- 6 -->\n<g id=\"node7\" class=\"node\">\n<title>6</title>\n<path fill=\"#72eca5\" stroke=\"#000000\" d=\"M310,-187C310,-187 182,-187 182,-187 176,-187 170,-181 170,-175 170,-175 170,-116 170,-116 170,-110 176,-104 182,-104 182,-104 310,-104 310,-104 316,-104 322,-110 322,-116 322,-116 322,-175 322,-175 322,-181 316,-187 310,-187\"/>\n<text text-anchor=\"start\" x=\"189.5\" y=\"-171.8\" font-family=\"Helvetica,sans-Serif\" font-size=\"14.00\" fill=\"#000000\">sepal_width ≤ 2.6</text>\n<text text-anchor=\"start\" x=\"195\" y=\"-156.8\" font-family=\"Helvetica,sans-Serif\" font-size=\"14.00\" fill=\"#000000\">entropy = 0.764</text>\n<text text-anchor=\"start\" x=\"206.5\" y=\"-141.8\" font-family=\"Helvetica,sans-Serif\" font-size=\"14.00\" fill=\"#000000\">samples = 9</text>\n<text text-anchor=\"start\" x=\"196.5\" y=\"-126.8\" font-family=\"Helvetica,sans-Serif\" font-size=\"14.00\" fill=\"#000000\">value = [0, 7, 2]</text>\n<text text-anchor=\"start\" x=\"178\" y=\"-111.8\" font-family=\"Helvetica,sans-Serif\" font-size=\"14.00\" fill=\"#000000\">class = Iris&#45;versicolor</text>\n</g>\n<!-- 4&#45;&gt;6 -->\n<g id=\"edge6\" class=\"edge\">\n<title>4&#45;&gt;6</title>\n<path fill=\"none\" stroke=\"#000000\" d=\"M220.6403,-222.8796C223.3853,-214.5037 226.3012,-205.6067 229.1409,-196.942\"/>\n<polygon fill=\"#000000\" stroke=\"#000000\" points=\"232.513,-197.8908 232.3015,-187.2981 225.8611,-195.7107 232.513,-197.8908\"/>\n</g>\n<!-- 7 -->\n<g id=\"node8\" class=\"node\">\n<title>7</title>\n<path fill=\"#c09cf2\" stroke=\"#000000\" d=\"M220.5,-68C220.5,-68 111.5,-68 111.5,-68 105.5,-68 99.5,-62 99.5,-56 99.5,-56 99.5,-12 99.5,-12 99.5,-6 105.5,0 111.5,0 111.5,0 220.5,0 220.5,0 226.5,0 232.5,-6 232.5,-12 232.5,-12 232.5,-56 232.5,-56 232.5,-62 226.5,-68 220.5,-68\"/>\n<text text-anchor=\"start\" x=\"115\" y=\"-52.8\" font-family=\"Helvetica,sans-Serif\" font-size=\"14.00\" fill=\"#000000\">entropy = 0.918</text>\n<text text-anchor=\"start\" x=\"126.5\" y=\"-37.8\" font-family=\"Helvetica,sans-Serif\" font-size=\"14.00\" fill=\"#000000\">samples = 3</text>\n<text text-anchor=\"start\" x=\"116.5\" y=\"-22.8\" font-family=\"Helvetica,sans-Serif\" font-size=\"14.00\" fill=\"#000000\">value = [0, 1, 2]</text>\n<text text-anchor=\"start\" x=\"107.5\" y=\"-7.8\" font-family=\"Helvetica,sans-Serif\" font-size=\"14.00\" fill=\"#000000\">class = Iris&#45;setosa</text>\n</g>\n<!-- 6&#45;&gt;7 -->\n<g id=\"edge7\" class=\"edge\">\n<title>6&#45;&gt;7</title>\n<path fill=\"none\" stroke=\"#000000\" d=\"M216.211,-103.9815C209.7486,-94.9747 202.9052,-85.4367 196.419,-76.3965\"/>\n<polygon fill=\"#000000\" stroke=\"#000000\" points=\"199.2572,-74.3483 190.5838,-68.2637 193.5697,-78.4291 199.2572,-74.3483\"/>\n</g>\n<!-- 8 -->\n<g id=\"node9\" class=\"node\">\n<title>8</title>\n<path fill=\"#39e581\" stroke=\"#000000\" d=\"M391,-68C391,-68 263,-68 263,-68 257,-68 251,-62 251,-56 251,-56 251,-12 251,-12 251,-6 257,0 263,0 263,0 391,0 391,0 397,0 403,-6 403,-12 403,-12 403,-56 403,-56 403,-62 397,-68 391,-68\"/>\n<text text-anchor=\"start\" x=\"284.5\" y=\"-52.8\" font-family=\"Helvetica,sans-Serif\" font-size=\"14.00\" fill=\"#000000\">entropy = 0.0</text>\n<text text-anchor=\"start\" x=\"287.5\" y=\"-37.8\" font-family=\"Helvetica,sans-Serif\" font-size=\"14.00\" fill=\"#000000\">samples = 6</text>\n<text text-anchor=\"start\" x=\"277.5\" y=\"-22.8\" font-family=\"Helvetica,sans-Serif\" font-size=\"14.00\" fill=\"#000000\">value = [0, 6, 0]</text>\n<text text-anchor=\"start\" x=\"259\" y=\"-7.8\" font-family=\"Helvetica,sans-Serif\" font-size=\"14.00\" fill=\"#000000\">class = Iris&#45;versicolor</text>\n</g>\n<!-- 6&#45;&gt;8 -->\n<g id=\"edge8\" class=\"edge\">\n<title>6&#45;&gt;8</title>\n<path fill=\"none\" stroke=\"#000000\" d=\"M276.1614,-103.9815C282.7045,-94.9747 289.6334,-85.4367 296.2008,-76.3965\"/>\n<polygon fill=\"#000000\" stroke=\"#000000\" points=\"299.0631,-78.4113 302.1089,-68.2637 293.3998,-74.2971 299.0631,-78.4113\"/>\n</g>\n<!-- 11 -->\n<g id=\"node12\" class=\"node\">\n<title>11</title>\n<path fill=\"#c09cf2\" stroke=\"#000000\" d=\"M587.5,-306C587.5,-306 468.5,-306 468.5,-306 462.5,-306 456.5,-300 456.5,-294 456.5,-294 456.5,-235 456.5,-235 456.5,-229 462.5,-223 468.5,-223 468.5,-223 587.5,-223 587.5,-223 593.5,-223 599.5,-229 599.5,-235 599.5,-235 599.5,-294 599.5,-294 599.5,-300 593.5,-306 587.5,-306\"/>\n<text text-anchor=\"start\" x=\"464.5\" y=\"-290.8\" font-family=\"Helvetica,sans-Serif\" font-size=\"14.00\" fill=\"#000000\">sepal_length ≤ 5.95</text>\n<text text-anchor=\"start\" x=\"477\" y=\"-275.8\" font-family=\"Helvetica,sans-Serif\" font-size=\"14.00\" fill=\"#000000\">entropy = 0.918</text>\n<text text-anchor=\"start\" x=\"488.5\" y=\"-260.8\" font-family=\"Helvetica,sans-Serif\" font-size=\"14.00\" fill=\"#000000\">samples = 3</text>\n<text text-anchor=\"start\" x=\"478.5\" y=\"-245.8\" font-family=\"Helvetica,sans-Serif\" font-size=\"14.00\" fill=\"#000000\">value = [0, 1, 2]</text>\n<text text-anchor=\"start\" x=\"469.5\" y=\"-230.8\" font-family=\"Helvetica,sans-Serif\" font-size=\"14.00\" fill=\"#000000\">class = Iris&#45;setosa</text>\n</g>\n<!-- 10&#45;&gt;11 -->\n<g id=\"edge11\" class=\"edge\">\n<title>10&#45;&gt;11</title>\n<path fill=\"none\" stroke=\"#000000\" d=\"M529.3005,-341.8796C529.1628,-333.6838 529.0166,-324.9891 528.874,-316.5013\"/>\n<polygon fill=\"#000000\" stroke=\"#000000\" points=\"532.3701,-316.2378 528.7025,-306.2981 525.3711,-316.3555 532.3701,-316.2378\"/>\n</g>\n<!-- 14 -->\n<g id=\"node15\" class=\"node\">\n<title>14</title>\n<path fill=\"#8139e5\" stroke=\"#000000\" d=\"M738.5,-298.5C738.5,-298.5 629.5,-298.5 629.5,-298.5 623.5,-298.5 617.5,-292.5 617.5,-286.5 617.5,-286.5 617.5,-242.5 617.5,-242.5 617.5,-236.5 623.5,-230.5 629.5,-230.5 629.5,-230.5 738.5,-230.5 738.5,-230.5 744.5,-230.5 750.5,-236.5 750.5,-242.5 750.5,-242.5 750.5,-286.5 750.5,-286.5 750.5,-292.5 744.5,-298.5 738.5,-298.5\"/>\n<text text-anchor=\"start\" x=\"641.5\" y=\"-283.3\" font-family=\"Helvetica,sans-Serif\" font-size=\"14.00\" fill=\"#000000\">entropy = 0.0</text>\n<text text-anchor=\"start\" x=\"640\" y=\"-268.3\" font-family=\"Helvetica,sans-Serif\" font-size=\"14.00\" fill=\"#000000\">samples = 26</text>\n<text text-anchor=\"start\" x=\"630.5\" y=\"-253.3\" font-family=\"Helvetica,sans-Serif\" font-size=\"14.00\" fill=\"#000000\">value = [0, 0, 26]</text>\n<text text-anchor=\"start\" x=\"625.5\" y=\"-238.3\" font-family=\"Helvetica,sans-Serif\" font-size=\"14.00\" fill=\"#000000\">class = Iris&#45;setosa</text>\n</g>\n<!-- 10&#45;&gt;14 -->\n<g id=\"edge14\" class=\"edge\">\n<title>10&#45;&gt;14</title>\n<path fill=\"none\" stroke=\"#000000\" d=\"M583.8617,-341.8796C599.2304,-330.0038 615.9547,-317.0804 631.2559,-305.2568\"/>\n<polygon fill=\"#000000\" stroke=\"#000000\" points=\"633.8196,-307.699 639.5924,-298.8149 629.5395,-302.1599 633.8196,-307.699\"/>\n</g>\n<!-- 12 -->\n<g id=\"node13\" class=\"node\">\n<title>12</title>\n<path fill=\"#39e581\" stroke=\"#000000\" d=\"M553,-179.5C553,-179.5 425,-179.5 425,-179.5 419,-179.5 413,-173.5 413,-167.5 413,-167.5 413,-123.5 413,-123.5 413,-117.5 419,-111.5 425,-111.5 425,-111.5 553,-111.5 553,-111.5 559,-111.5 565,-117.5 565,-123.5 565,-123.5 565,-167.5 565,-167.5 565,-173.5 559,-179.5 553,-179.5\"/>\n<text text-anchor=\"start\" x=\"446.5\" y=\"-164.3\" font-family=\"Helvetica,sans-Serif\" font-size=\"14.00\" fill=\"#000000\">entropy = 0.0</text>\n<text text-anchor=\"start\" x=\"449.5\" y=\"-149.3\" font-family=\"Helvetica,sans-Serif\" font-size=\"14.00\" fill=\"#000000\">samples = 1</text>\n<text text-anchor=\"start\" x=\"439.5\" y=\"-134.3\" font-family=\"Helvetica,sans-Serif\" font-size=\"14.00\" fill=\"#000000\">value = [0, 1, 0]</text>\n<text text-anchor=\"start\" x=\"421\" y=\"-119.3\" font-family=\"Helvetica,sans-Serif\" font-size=\"14.00\" fill=\"#000000\">class = Iris&#45;versicolor</text>\n</g>\n<!-- 11&#45;&gt;12 -->\n<g id=\"edge12\" class=\"edge\">\n<title>11&#45;&gt;12</title>\n<path fill=\"none\" stroke=\"#000000\" d=\"M514.3597,-222.8796C510.828,-212.1034 507.0136,-200.4647 503.4424,-189.5677\"/>\n<polygon fill=\"#000000\" stroke=\"#000000\" points=\"506.6864,-188.2276 500.2461,-179.8149 500.0345,-190.4077 506.6864,-188.2276\"/>\n</g>\n<!-- 13 -->\n<g id=\"node14\" class=\"node\">\n<title>13</title>\n<path fill=\"#8139e5\" stroke=\"#000000\" d=\"M704.5,-179.5C704.5,-179.5 595.5,-179.5 595.5,-179.5 589.5,-179.5 583.5,-173.5 583.5,-167.5 583.5,-167.5 583.5,-123.5 583.5,-123.5 583.5,-117.5 589.5,-111.5 595.5,-111.5 595.5,-111.5 704.5,-111.5 704.5,-111.5 710.5,-111.5 716.5,-117.5 716.5,-123.5 716.5,-123.5 716.5,-167.5 716.5,-167.5 716.5,-173.5 710.5,-179.5 704.5,-179.5\"/>\n<text text-anchor=\"start\" x=\"607.5\" y=\"-164.3\" font-family=\"Helvetica,sans-Serif\" font-size=\"14.00\" fill=\"#000000\">entropy = 0.0</text>\n<text text-anchor=\"start\" x=\"610.5\" y=\"-149.3\" font-family=\"Helvetica,sans-Serif\" font-size=\"14.00\" fill=\"#000000\">samples = 2</text>\n<text text-anchor=\"start\" x=\"600.5\" y=\"-134.3\" font-family=\"Helvetica,sans-Serif\" font-size=\"14.00\" fill=\"#000000\">value = [0, 0, 2]</text>\n<text text-anchor=\"start\" x=\"591.5\" y=\"-119.3\" font-family=\"Helvetica,sans-Serif\" font-size=\"14.00\" fill=\"#000000\">class = Iris&#45;setosa</text>\n</g>\n<!-- 11&#45;&gt;13 -->\n<g id=\"edge13\" class=\"edge\">\n<title>11&#45;&gt;13</title>\n<path fill=\"none\" stroke=\"#000000\" d=\"M570.6697,-222.8796C582.6194,-211.2237 595.6037,-198.5587 607.5411,-186.9148\"/>\n<polygon fill=\"#000000\" stroke=\"#000000\" points=\"610.1053,-189.303 614.82,-179.8149 605.2175,-184.292 610.1053,-189.303\"/>\n</g>\n</g>\n</svg>\n"
          },
          "metadata": {
            "tags": []
          },
          "execution_count": 72
        }
      ]
    }
  ]
}